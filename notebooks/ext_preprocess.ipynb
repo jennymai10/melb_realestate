{
 "cells": [
  {
   "cell_type": "markdown",
   "metadata": {},
   "source": [
    "# Pre-process External Datasets\n",
    "\n",
    "Perform column renaming and basic data type transformations on external datasets and save into raw folder"
   ]
  },
  {
   "cell_type": "code",
   "execution_count": 1,
   "metadata": {},
   "outputs": [],
   "source": [
    "import os\n",
    "import pandas as pd\n",
    "import geopandas as gpd"
   ]
  },
  {
   "cell_type": "markdown",
   "metadata": {},
   "source": [
    "## ABS"
   ]
  },
  {
   "cell_type": "markdown",
   "metadata": {},
   "source": [
    "### GCCSA Boundary Shapefile"
   ]
  },
  {
   "cell_type": "markdown",
   "metadata": {},
   "source": [
    "Read file"
   ]
  },
  {
   "cell_type": "code",
   "execution_count": 2,
   "metadata": {},
   "outputs": [
    {
     "data": {
      "text/html": [
       "<div>\n",
       "<style scoped>\n",
       "    .dataframe tbody tr th:only-of-type {\n",
       "        vertical-align: middle;\n",
       "    }\n",
       "\n",
       "    .dataframe tbody tr th {\n",
       "        vertical-align: top;\n",
       "    }\n",
       "\n",
       "    .dataframe thead th {\n",
       "        text-align: right;\n",
       "    }\n",
       "</style>\n",
       "<table border=\"1\" class=\"dataframe\">\n",
       "  <thead>\n",
       "    <tr style=\"text-align: right;\">\n",
       "      <th></th>\n",
       "      <th>GCC_CODE21</th>\n",
       "      <th>GCC_NAME21</th>\n",
       "      <th>CHG_FLAG21</th>\n",
       "      <th>CHG_LBL21</th>\n",
       "      <th>STE_CODE21</th>\n",
       "      <th>STE_NAME21</th>\n",
       "      <th>AUS_CODE21</th>\n",
       "      <th>AUS_NAME21</th>\n",
       "      <th>AREASQKM21</th>\n",
       "      <th>LOCI_URI21</th>\n",
       "      <th>geometry</th>\n",
       "    </tr>\n",
       "  </thead>\n",
       "  <tbody>\n",
       "    <tr>\n",
       "      <th>0</th>\n",
       "      <td>1GSYD</td>\n",
       "      <td>Greater Sydney</td>\n",
       "      <td>0</td>\n",
       "      <td>No change</td>\n",
       "      <td>1</td>\n",
       "      <td>New South Wales</td>\n",
       "      <td>AUS</td>\n",
       "      <td>Australia</td>\n",
       "      <td>12368.6858</td>\n",
       "      <td>http://linked.data.gov.au/dataset/asgsed3/GCCS...</td>\n",
       "      <td>MULTIPOLYGON (((151.28159 -33.83318, 151.28151...</td>\n",
       "    </tr>\n",
       "    <tr>\n",
       "      <th>1</th>\n",
       "      <td>1RNSW</td>\n",
       "      <td>Rest of NSW</td>\n",
       "      <td>0</td>\n",
       "      <td>No change</td>\n",
       "      <td>1</td>\n",
       "      <td>New South Wales</td>\n",
       "      <td>AUS</td>\n",
       "      <td>Australia</td>\n",
       "      <td>788428.9733</td>\n",
       "      <td>http://linked.data.gov.au/dataset/asgsed3/GCCS...</td>\n",
       "      <td>MULTIPOLYGON (((159.0623 -31.50886, 159.06218 ...</td>\n",
       "    </tr>\n",
       "    <tr>\n",
       "      <th>2</th>\n",
       "      <td>19499</td>\n",
       "      <td>No usual address (NSW)</td>\n",
       "      <td>0</td>\n",
       "      <td>No change</td>\n",
       "      <td>1</td>\n",
       "      <td>New South Wales</td>\n",
       "      <td>AUS</td>\n",
       "      <td>Australia</td>\n",
       "      <td>NaN</td>\n",
       "      <td>http://linked.data.gov.au/dataset/asgsed3/GCCS...</td>\n",
       "      <td>None</td>\n",
       "    </tr>\n",
       "    <tr>\n",
       "      <th>3</th>\n",
       "      <td>19799</td>\n",
       "      <td>Migratory - Offshore - Shipping (NSW)</td>\n",
       "      <td>0</td>\n",
       "      <td>No change</td>\n",
       "      <td>1</td>\n",
       "      <td>New South Wales</td>\n",
       "      <td>AUS</td>\n",
       "      <td>Australia</td>\n",
       "      <td>NaN</td>\n",
       "      <td>http://linked.data.gov.au/dataset/asgsed3/GCCS...</td>\n",
       "      <td>None</td>\n",
       "    </tr>\n",
       "    <tr>\n",
       "      <th>4</th>\n",
       "      <td>2GMEL</td>\n",
       "      <td>Greater Melbourne</td>\n",
       "      <td>0</td>\n",
       "      <td>No change</td>\n",
       "      <td>2</td>\n",
       "      <td>Victoria</td>\n",
       "      <td>AUS</td>\n",
       "      <td>Australia</td>\n",
       "      <td>9992.6081</td>\n",
       "      <td>http://linked.data.gov.au/dataset/asgsed3/GCCS...</td>\n",
       "      <td>MULTIPOLYGON (((144.88829 -38.5026, 144.88825 ...</td>\n",
       "    </tr>\n",
       "  </tbody>\n",
       "</table>\n",
       "</div>"
      ],
      "text/plain": [
       "  GCC_CODE21                             GCC_NAME21 CHG_FLAG21  CHG_LBL21  \\\n",
       "0      1GSYD                         Greater Sydney          0  No change   \n",
       "1      1RNSW                            Rest of NSW          0  No change   \n",
       "2      19499                 No usual address (NSW)          0  No change   \n",
       "3      19799  Migratory - Offshore - Shipping (NSW)          0  No change   \n",
       "4      2GMEL                      Greater Melbourne          0  No change   \n",
       "\n",
       "  STE_CODE21       STE_NAME21 AUS_CODE21 AUS_NAME21   AREASQKM21  \\\n",
       "0          1  New South Wales        AUS  Australia   12368.6858   \n",
       "1          1  New South Wales        AUS  Australia  788428.9733   \n",
       "2          1  New South Wales        AUS  Australia          NaN   \n",
       "3          1  New South Wales        AUS  Australia          NaN   \n",
       "4          2         Victoria        AUS  Australia    9992.6081   \n",
       "\n",
       "                                          LOCI_URI21  \\\n",
       "0  http://linked.data.gov.au/dataset/asgsed3/GCCS...   \n",
       "1  http://linked.data.gov.au/dataset/asgsed3/GCCS...   \n",
       "2  http://linked.data.gov.au/dataset/asgsed3/GCCS...   \n",
       "3  http://linked.data.gov.au/dataset/asgsed3/GCCS...   \n",
       "4  http://linked.data.gov.au/dataset/asgsed3/GCCS...   \n",
       "\n",
       "                                            geometry  \n",
       "0  MULTIPOLYGON (((151.28159 -33.83318, 151.28151...  \n",
       "1  MULTIPOLYGON (((159.0623 -31.50886, 159.06218 ...  \n",
       "2                                               None  \n",
       "3                                               None  \n",
       "4  MULTIPOLYGON (((144.88829 -38.5026, 144.88825 ...  "
      ]
     },
     "execution_count": 2,
     "metadata": {},
     "output_type": "execute_result"
    }
   ],
   "source": [
    "gccsa_sf = gpd.read_file(\"../data/landing/boundary/gccsa\")\n",
    "\n",
    "gccsa_sf.head()"
   ]
  },
  {
   "cell_type": "code",
   "execution_count": 3,
   "metadata": {},
   "outputs": [
    {
     "data": {
      "text/plain": [
       "(35, 11)"
      ]
     },
     "execution_count": 3,
     "metadata": {},
     "output_type": "execute_result"
    }
   ],
   "source": [
    "gccsa_sf.shape"
   ]
  },
  {
   "cell_type": "code",
   "execution_count": 4,
   "metadata": {},
   "outputs": [
    {
     "data": {
      "text/plain": [
       "Index(['GCC_CODE21', 'GCC_NAME21', 'CHG_FLAG21', 'CHG_LBL21', 'STE_CODE21',\n",
       "       'STE_NAME21', 'AUS_CODE21', 'AUS_NAME21', 'AREASQKM21', 'LOCI_URI21',\n",
       "       'geometry'],\n",
       "      dtype='object')"
      ]
     },
     "execution_count": 4,
     "metadata": {},
     "output_type": "execute_result"
    }
   ],
   "source": [
    "gccsa_sf.columns"
   ]
  },
  {
   "cell_type": "markdown",
   "metadata": {},
   "source": [
    "Rename columns to make them a consistent case and make them compatible with other datasets"
   ]
  },
  {
   "cell_type": "code",
   "execution_count": 5,
   "metadata": {},
   "outputs": [
    {
     "data": {
      "text/plain": [
       "Index(['gcc_code', 'gcc_name', 'chg_flag', 'chg_lbl', 'ste_code', 'ste_name',\n",
       "       'aus_code', 'aus_name', 'areasqkm', 'loci_uri', 'geometry'],\n",
       "      dtype='object')"
      ]
     },
     "execution_count": 5,
     "metadata": {},
     "output_type": "execute_result"
    }
   ],
   "source": [
    "gccsa_sf.columns = [col\n",
    "                    .lower()                        # Convert to lowercase\n",
    "                    .replace(\"21\", \"\")              # Remove '21' \n",
    "                    for col in gccsa_sf.columns]\n",
    "\n",
    "gccsa_sf.columns"
   ]
  },
  {
   "cell_type": "markdown",
   "metadata": {},
   "source": [
    "Check data types"
   ]
  },
  {
   "cell_type": "code",
   "execution_count": 6,
   "metadata": {},
   "outputs": [
    {
     "data": {
      "text/plain": [
       "gcc_code      object\n",
       "gcc_name      object\n",
       "chg_flag      object\n",
       "chg_lbl       object\n",
       "ste_code      object\n",
       "ste_name      object\n",
       "aus_code      object\n",
       "aus_name      object\n",
       "areasqkm     float64\n",
       "loci_uri      object\n",
       "geometry    geometry\n",
       "dtype: object"
      ]
     },
     "execution_count": 6,
     "metadata": {},
     "output_type": "execute_result"
    }
   ],
   "source": [
    "gccsa_sf.dtypes"
   ]
  },
  {
   "cell_type": "markdown",
   "metadata": {},
   "source": [
    "Save into raw folder"
   ]
  },
  {
   "cell_type": "code",
   "execution_count": 7,
   "metadata": {},
   "outputs": [],
   "source": [
    "output_dir = f\"../data/raw/boundary/gccsa\"\n",
    "\n",
    "# Create directory\n",
    "if not os.path.exists(output_dir):\n",
    "    os.makedirs(output_dir)\n",
    "\n",
    "# Save file\n",
    "gccsa_sf.to_file(f\"{output_dir}/gccsa_boundary.shp\")"
   ]
  },
  {
   "cell_type": "markdown",
   "metadata": {},
   "source": [
    "### SA2"
   ]
  },
  {
   "cell_type": "markdown",
   "metadata": {},
   "source": [
    "#### Boundary Shapefile"
   ]
  },
  {
   "cell_type": "markdown",
   "metadata": {},
   "source": [
    "Read file"
   ]
  },
  {
   "cell_type": "code",
   "execution_count": 8,
   "metadata": {},
   "outputs": [
    {
     "data": {
      "text/html": [
       "<div>\n",
       "<style scoped>\n",
       "    .dataframe tbody tr th:only-of-type {\n",
       "        vertical-align: middle;\n",
       "    }\n",
       "\n",
       "    .dataframe tbody tr th {\n",
       "        vertical-align: top;\n",
       "    }\n",
       "\n",
       "    .dataframe thead th {\n",
       "        text-align: right;\n",
       "    }\n",
       "</style>\n",
       "<table border=\"1\" class=\"dataframe\">\n",
       "  <thead>\n",
       "    <tr style=\"text-align: right;\">\n",
       "      <th></th>\n",
       "      <th>SA2_CODE21</th>\n",
       "      <th>SA2_NAME21</th>\n",
       "      <th>CHG_FLAG21</th>\n",
       "      <th>CHG_LBL21</th>\n",
       "      <th>SA3_CODE21</th>\n",
       "      <th>SA3_NAME21</th>\n",
       "      <th>SA4_CODE21</th>\n",
       "      <th>SA4_NAME21</th>\n",
       "      <th>GCC_CODE21</th>\n",
       "      <th>GCC_NAME21</th>\n",
       "      <th>STE_CODE21</th>\n",
       "      <th>STE_NAME21</th>\n",
       "      <th>AUS_CODE21</th>\n",
       "      <th>AUS_NAME21</th>\n",
       "      <th>AREASQKM21</th>\n",
       "      <th>LOCI_URI21</th>\n",
       "      <th>geometry</th>\n",
       "    </tr>\n",
       "  </thead>\n",
       "  <tbody>\n",
       "    <tr>\n",
       "      <th>0</th>\n",
       "      <td>101021007</td>\n",
       "      <td>Braidwood</td>\n",
       "      <td>0</td>\n",
       "      <td>No change</td>\n",
       "      <td>10102</td>\n",
       "      <td>Queanbeyan</td>\n",
       "      <td>101</td>\n",
       "      <td>Capital Region</td>\n",
       "      <td>1RNSW</td>\n",
       "      <td>Rest of NSW</td>\n",
       "      <td>1</td>\n",
       "      <td>New South Wales</td>\n",
       "      <td>AUS</td>\n",
       "      <td>Australia</td>\n",
       "      <td>3418.3525</td>\n",
       "      <td>http://linked.data.gov.au/dataset/asgsed3/SA2/...</td>\n",
       "      <td>POLYGON ((149.58424 -35.44426, 149.58444 -35.4...</td>\n",
       "    </tr>\n",
       "    <tr>\n",
       "      <th>1</th>\n",
       "      <td>101021008</td>\n",
       "      <td>Karabar</td>\n",
       "      <td>0</td>\n",
       "      <td>No change</td>\n",
       "      <td>10102</td>\n",
       "      <td>Queanbeyan</td>\n",
       "      <td>101</td>\n",
       "      <td>Capital Region</td>\n",
       "      <td>1RNSW</td>\n",
       "      <td>Rest of NSW</td>\n",
       "      <td>1</td>\n",
       "      <td>New South Wales</td>\n",
       "      <td>AUS</td>\n",
       "      <td>Australia</td>\n",
       "      <td>6.9825</td>\n",
       "      <td>http://linked.data.gov.au/dataset/asgsed3/SA2/...</td>\n",
       "      <td>POLYGON ((149.21899 -35.36738, 149.218 -35.366...</td>\n",
       "    </tr>\n",
       "    <tr>\n",
       "      <th>2</th>\n",
       "      <td>101021009</td>\n",
       "      <td>Queanbeyan</td>\n",
       "      <td>0</td>\n",
       "      <td>No change</td>\n",
       "      <td>10102</td>\n",
       "      <td>Queanbeyan</td>\n",
       "      <td>101</td>\n",
       "      <td>Capital Region</td>\n",
       "      <td>1RNSW</td>\n",
       "      <td>Rest of NSW</td>\n",
       "      <td>1</td>\n",
       "      <td>New South Wales</td>\n",
       "      <td>AUS</td>\n",
       "      <td>Australia</td>\n",
       "      <td>4.7620</td>\n",
       "      <td>http://linked.data.gov.au/dataset/asgsed3/SA2/...</td>\n",
       "      <td>POLYGON ((149.21326 -35.34325, 149.21619 -35.3...</td>\n",
       "    </tr>\n",
       "    <tr>\n",
       "      <th>3</th>\n",
       "      <td>101021010</td>\n",
       "      <td>Queanbeyan - East</td>\n",
       "      <td>0</td>\n",
       "      <td>No change</td>\n",
       "      <td>10102</td>\n",
       "      <td>Queanbeyan</td>\n",
       "      <td>101</td>\n",
       "      <td>Capital Region</td>\n",
       "      <td>1RNSW</td>\n",
       "      <td>Rest of NSW</td>\n",
       "      <td>1</td>\n",
       "      <td>New South Wales</td>\n",
       "      <td>AUS</td>\n",
       "      <td>Australia</td>\n",
       "      <td>13.0032</td>\n",
       "      <td>http://linked.data.gov.au/dataset/asgsed3/SA2/...</td>\n",
       "      <td>POLYGON ((149.24034 -35.34781, 149.24024 -35.3...</td>\n",
       "    </tr>\n",
       "    <tr>\n",
       "      <th>4</th>\n",
       "      <td>101021012</td>\n",
       "      <td>Queanbeyan West - Jerrabomberra</td>\n",
       "      <td>0</td>\n",
       "      <td>No change</td>\n",
       "      <td>10102</td>\n",
       "      <td>Queanbeyan</td>\n",
       "      <td>101</td>\n",
       "      <td>Capital Region</td>\n",
       "      <td>1RNSW</td>\n",
       "      <td>Rest of NSW</td>\n",
       "      <td>1</td>\n",
       "      <td>New South Wales</td>\n",
       "      <td>AUS</td>\n",
       "      <td>Australia</td>\n",
       "      <td>13.6748</td>\n",
       "      <td>http://linked.data.gov.au/dataset/asgsed3/SA2/...</td>\n",
       "      <td>POLYGON ((149.19572 -35.36126, 149.1997 -35.35...</td>\n",
       "    </tr>\n",
       "  </tbody>\n",
       "</table>\n",
       "</div>"
      ],
      "text/plain": [
       "  SA2_CODE21                       SA2_NAME21 CHG_FLAG21  CHG_LBL21  \\\n",
       "0  101021007                        Braidwood          0  No change   \n",
       "1  101021008                          Karabar          0  No change   \n",
       "2  101021009                       Queanbeyan          0  No change   \n",
       "3  101021010                Queanbeyan - East          0  No change   \n",
       "4  101021012  Queanbeyan West - Jerrabomberra          0  No change   \n",
       "\n",
       "  SA3_CODE21  SA3_NAME21 SA4_CODE21      SA4_NAME21 GCC_CODE21   GCC_NAME21  \\\n",
       "0      10102  Queanbeyan        101  Capital Region      1RNSW  Rest of NSW   \n",
       "1      10102  Queanbeyan        101  Capital Region      1RNSW  Rest of NSW   \n",
       "2      10102  Queanbeyan        101  Capital Region      1RNSW  Rest of NSW   \n",
       "3      10102  Queanbeyan        101  Capital Region      1RNSW  Rest of NSW   \n",
       "4      10102  Queanbeyan        101  Capital Region      1RNSW  Rest of NSW   \n",
       "\n",
       "  STE_CODE21       STE_NAME21 AUS_CODE21 AUS_NAME21  AREASQKM21  \\\n",
       "0          1  New South Wales        AUS  Australia   3418.3525   \n",
       "1          1  New South Wales        AUS  Australia      6.9825   \n",
       "2          1  New South Wales        AUS  Australia      4.7620   \n",
       "3          1  New South Wales        AUS  Australia     13.0032   \n",
       "4          1  New South Wales        AUS  Australia     13.6748   \n",
       "\n",
       "                                          LOCI_URI21  \\\n",
       "0  http://linked.data.gov.au/dataset/asgsed3/SA2/...   \n",
       "1  http://linked.data.gov.au/dataset/asgsed3/SA2/...   \n",
       "2  http://linked.data.gov.au/dataset/asgsed3/SA2/...   \n",
       "3  http://linked.data.gov.au/dataset/asgsed3/SA2/...   \n",
       "4  http://linked.data.gov.au/dataset/asgsed3/SA2/...   \n",
       "\n",
       "                                            geometry  \n",
       "0  POLYGON ((149.58424 -35.44426, 149.58444 -35.4...  \n",
       "1  POLYGON ((149.21899 -35.36738, 149.218 -35.366...  \n",
       "2  POLYGON ((149.21326 -35.34325, 149.21619 -35.3...  \n",
       "3  POLYGON ((149.24034 -35.34781, 149.24024 -35.3...  \n",
       "4  POLYGON ((149.19572 -35.36126, 149.1997 -35.35...  "
      ]
     },
     "execution_count": 8,
     "metadata": {},
     "output_type": "execute_result"
    }
   ],
   "source": [
    "sa2_sf = gpd.read_file(\"../data/landing/boundary/sa2\")\n",
    "\n",
    "sa2_sf.head()"
   ]
  },
  {
   "cell_type": "code",
   "execution_count": 9,
   "metadata": {},
   "outputs": [
    {
     "data": {
      "text/plain": [
       "(2473, 17)"
      ]
     },
     "execution_count": 9,
     "metadata": {},
     "output_type": "execute_result"
    }
   ],
   "source": [
    "sa2_sf.shape"
   ]
  },
  {
   "cell_type": "code",
   "execution_count": 10,
   "metadata": {},
   "outputs": [
    {
     "data": {
      "text/plain": [
       "Index(['SA2_CODE21', 'SA2_NAME21', 'CHG_FLAG21', 'CHG_LBL21', 'SA3_CODE21',\n",
       "       'SA3_NAME21', 'SA4_CODE21', 'SA4_NAME21', 'GCC_CODE21', 'GCC_NAME21',\n",
       "       'STE_CODE21', 'STE_NAME21', 'AUS_CODE21', 'AUS_NAME21', 'AREASQKM21',\n",
       "       'LOCI_URI21', 'geometry'],\n",
       "      dtype='object')"
      ]
     },
     "execution_count": 10,
     "metadata": {},
     "output_type": "execute_result"
    }
   ],
   "source": [
    "sa2_sf.columns"
   ]
  },
  {
   "cell_type": "markdown",
   "metadata": {},
   "source": [
    "Rename columns to make them a consistent case and make them compatible with other datasets"
   ]
  },
  {
   "cell_type": "code",
   "execution_count": 11,
   "metadata": {},
   "outputs": [
    {
     "data": {
      "text/plain": [
       "Index(['sa2_code', 'sa2_name', 'chg_flag', 'chg_lbl', 'sa3_code', 'sa3_name',\n",
       "       'sa4_code', 'sa4_name', 'gcc_code', 'gcc_name', 'ste_code', 'ste_name',\n",
       "       'aus_code', 'aus_name', 'areasqkm', 'loci_uri', 'geometry'],\n",
       "      dtype='object')"
      ]
     },
     "execution_count": 11,
     "metadata": {},
     "output_type": "execute_result"
    }
   ],
   "source": [
    "sa2_sf.columns = [col\n",
    "                  .lower()                      # Convert to lowercase\n",
    "                  .replace(\"21\", \"\")            # Remove '21' \n",
    "                  for col in sa2_sf.columns]\n",
    "\n",
    "sa2_sf.columns"
   ]
  },
  {
   "cell_type": "markdown",
   "metadata": {},
   "source": [
    "Check data types"
   ]
  },
  {
   "cell_type": "code",
   "execution_count": 12,
   "metadata": {},
   "outputs": [
    {
     "data": {
      "text/plain": [
       "sa2_code      object\n",
       "sa2_name      object\n",
       "chg_flag      object\n",
       "chg_lbl       object\n",
       "sa3_code      object\n",
       "sa3_name      object\n",
       "sa4_code      object\n",
       "sa4_name      object\n",
       "gcc_code      object\n",
       "gcc_name      object\n",
       "ste_code      object\n",
       "ste_name      object\n",
       "aus_code      object\n",
       "aus_name      object\n",
       "areasqkm     float64\n",
       "loci_uri      object\n",
       "geometry    geometry\n",
       "dtype: object"
      ]
     },
     "execution_count": 12,
     "metadata": {},
     "output_type": "execute_result"
    }
   ],
   "source": [
    "sa2_sf.dtypes"
   ]
  },
  {
   "cell_type": "markdown",
   "metadata": {},
   "source": [
    "Save into raw folder"
   ]
  },
  {
   "cell_type": "code",
   "execution_count": 13,
   "metadata": {},
   "outputs": [],
   "source": [
    "output_dir = f\"../data/raw/boundary/sa2\"\n",
    "\n",
    "# Create directory\n",
    "if not os.path.exists(output_dir):\n",
    "    os.makedirs(output_dir)\n",
    "\n",
    "# Save file\n",
    "sa2_sf.to_file(f\"{output_dir}/sa2_boundary.shp\")"
   ]
  },
  {
   "cell_type": "markdown",
   "metadata": {},
   "source": [
    "#### Income Data"
   ]
  },
  {
   "cell_type": "markdown",
   "metadata": {},
   "source": [
    "Read file, ignoring excess formatting cells"
   ]
  },
  {
   "cell_type": "code",
   "execution_count": 14,
   "metadata": {},
   "outputs": [
    {
     "data": {
      "text/html": [
       "<div>\n",
       "<style scoped>\n",
       "    .dataframe tbody tr th:only-of-type {\n",
       "        vertical-align: middle;\n",
       "    }\n",
       "\n",
       "    .dataframe tbody tr th {\n",
       "        vertical-align: top;\n",
       "    }\n",
       "\n",
       "    .dataframe thead tr th {\n",
       "        text-align: left;\n",
       "    }\n",
       "</style>\n",
       "<table border=\"1\" class=\"dataframe\">\n",
       "  <thead>\n",
       "    <tr>\n",
       "      <th></th>\n",
       "      <th>Unnamed: 0_level_0</th>\n",
       "      <th>Unnamed: 1_level_0</th>\n",
       "      <th>Earners</th>\n",
       "      <th>Median age of earners</th>\n",
       "      <th>Sum</th>\n",
       "      <th>Median</th>\n",
       "      <th>Mean</th>\n",
       "      <th>P80/P20</th>\n",
       "      <th>P80/P50</th>\n",
       "      <th>P20/P50</th>\n",
       "      <th>P10/P50</th>\n",
       "      <th>Gini coefficient</th>\n",
       "      <th>Top 1%</th>\n",
       "      <th>Top 5%</th>\n",
       "      <th>Top 10%</th>\n",
       "      <th>Lowest Quartile</th>\n",
       "      <th>Second Quartile</th>\n",
       "      <th>Third Quartile</th>\n",
       "      <th>Highest Quartile</th>\n",
       "    </tr>\n",
       "    <tr>\n",
       "      <th></th>\n",
       "      <th>SA2</th>\n",
       "      <th>SA2 NAME</th>\n",
       "      <th>(persons)</th>\n",
       "      <th>years</th>\n",
       "      <th>$</th>\n",
       "      <th>$</th>\n",
       "      <th>$</th>\n",
       "      <th>ratio</th>\n",
       "      <th>ratio</th>\n",
       "      <th>ratio</th>\n",
       "      <th>ratio</th>\n",
       "      <th>coef.</th>\n",
       "      <th>%</th>\n",
       "      <th>%</th>\n",
       "      <th>%</th>\n",
       "      <th>%</th>\n",
       "      <th>%</th>\n",
       "      <th>%</th>\n",
       "      <th>%</th>\n",
       "    </tr>\n",
       "  </thead>\n",
       "  <tbody>\n",
       "    <tr>\n",
       "      <th>0</th>\n",
       "      <td>Australia</td>\n",
       "      <td>NaN</td>\n",
       "      <td>14760008.0</td>\n",
       "      <td>42.0</td>\n",
       "      <td>1.040901e+12</td>\n",
       "      <td>54890.0</td>\n",
       "      <td>70522.0</td>\n",
       "      <td>5.00</td>\n",
       "      <td>1.88</td>\n",
       "      <td>0.38</td>\n",
       "      <td>0.14</td>\n",
       "      <td>0.483</td>\n",
       "      <td>9.8</td>\n",
       "      <td>22.5</td>\n",
       "      <td>33.4</td>\n",
       "      <td>25.0</td>\n",
       "      <td>25.0</td>\n",
       "      <td>25.0</td>\n",
       "      <td>25.0</td>\n",
       "    </tr>\n",
       "    <tr>\n",
       "      <th>1</th>\n",
       "      <td>New South Wales</td>\n",
       "      <td>NaN</td>\n",
       "      <td>4603736.0</td>\n",
       "      <td>42.0</td>\n",
       "      <td>3.411075e+11</td>\n",
       "      <td>55854.0</td>\n",
       "      <td>74094.0</td>\n",
       "      <td>5.00</td>\n",
       "      <td>1.90</td>\n",
       "      <td>0.38</td>\n",
       "      <td>0.15</td>\n",
       "      <td>0.497</td>\n",
       "      <td>11.2</td>\n",
       "      <td>24.3</td>\n",
       "      <td>35.2</td>\n",
       "      <td>24.6</td>\n",
       "      <td>24.6</td>\n",
       "      <td>24.7</td>\n",
       "      <td>26.1</td>\n",
       "    </tr>\n",
       "    <tr>\n",
       "      <th>2</th>\n",
       "      <td>101021007</td>\n",
       "      <td>Braidwood</td>\n",
       "      <td>2467.0</td>\n",
       "      <td>51.0</td>\n",
       "      <td>1.699867e+08</td>\n",
       "      <td>46640.0</td>\n",
       "      <td>68904.0</td>\n",
       "      <td>6.84</td>\n",
       "      <td>2.05</td>\n",
       "      <td>0.30</td>\n",
       "      <td>0.07</td>\n",
       "      <td>0.615</td>\n",
       "      <td>21.2</td>\n",
       "      <td>32.6</td>\n",
       "      <td>42.7</td>\n",
       "      <td>31.8</td>\n",
       "      <td>24.3</td>\n",
       "      <td>21.7</td>\n",
       "      <td>22.2</td>\n",
       "    </tr>\n",
       "    <tr>\n",
       "      <th>3</th>\n",
       "      <td>101021008</td>\n",
       "      <td>Karabar</td>\n",
       "      <td>5103.0</td>\n",
       "      <td>42.0</td>\n",
       "      <td>3.555383e+08</td>\n",
       "      <td>65564.0</td>\n",
       "      <td>69672.0</td>\n",
       "      <td>3.37</td>\n",
       "      <td>1.57</td>\n",
       "      <td>0.47</td>\n",
       "      <td>0.23</td>\n",
       "      <td>0.365</td>\n",
       "      <td>4.4</td>\n",
       "      <td>14.5</td>\n",
       "      <td>24.1</td>\n",
       "      <td>17.8</td>\n",
       "      <td>22.6</td>\n",
       "      <td>32.9</td>\n",
       "      <td>26.7</td>\n",
       "    </tr>\n",
       "    <tr>\n",
       "      <th>4</th>\n",
       "      <td>101021009</td>\n",
       "      <td>Queanbeyan</td>\n",
       "      <td>7028.0</td>\n",
       "      <td>39.0</td>\n",
       "      <td>4.861574e+08</td>\n",
       "      <td>63528.0</td>\n",
       "      <td>69174.0</td>\n",
       "      <td>3.24</td>\n",
       "      <td>1.58</td>\n",
       "      <td>0.49</td>\n",
       "      <td>0.26</td>\n",
       "      <td>0.368</td>\n",
       "      <td>4.6</td>\n",
       "      <td>14.7</td>\n",
       "      <td>24.5</td>\n",
       "      <td>16.8</td>\n",
       "      <td>24.0</td>\n",
       "      <td>33.4</td>\n",
       "      <td>25.7</td>\n",
       "    </tr>\n",
       "  </tbody>\n",
       "</table>\n",
       "</div>"
      ],
      "text/plain": [
       "  Unnamed: 0_level_0 Unnamed: 1_level_0     Earners Median age of earners  \\\n",
       "                 SA2           SA2 NAME   (persons)                 years   \n",
       "0          Australia                NaN  14760008.0                  42.0   \n",
       "1    New South Wales                NaN   4603736.0                  42.0   \n",
       "2          101021007          Braidwood      2467.0                  51.0   \n",
       "3          101021008            Karabar      5103.0                  42.0   \n",
       "4          101021009         Queanbeyan      7028.0                  39.0   \n",
       "\n",
       "            Sum   Median     Mean P80/P20 P80/P50 P20/P50 P10/P50  \\\n",
       "              $        $        $   ratio   ratio   ratio   ratio   \n",
       "0  1.040901e+12  54890.0  70522.0    5.00    1.88    0.38    0.14   \n",
       "1  3.411075e+11  55854.0  74094.0    5.00    1.90    0.38    0.15   \n",
       "2  1.699867e+08  46640.0  68904.0    6.84    2.05    0.30    0.07   \n",
       "3  3.555383e+08  65564.0  69672.0    3.37    1.57    0.47    0.23   \n",
       "4  4.861574e+08  63528.0  69174.0    3.24    1.58    0.49    0.26   \n",
       "\n",
       "  Gini coefficient Top 1% Top 5% Top 10% Lowest Quartile Second Quartile  \\\n",
       "             coef.      %      %       %               %               %   \n",
       "0            0.483    9.8   22.5    33.4            25.0            25.0   \n",
       "1            0.497   11.2   24.3    35.2            24.6            24.6   \n",
       "2            0.615   21.2   32.6    42.7            31.8            24.3   \n",
       "3            0.365    4.4   14.5    24.1            17.8            22.6   \n",
       "4            0.368    4.6   14.7    24.5            16.8            24.0   \n",
       "\n",
       "  Third Quartile Highest Quartile  \n",
       "               %                %  \n",
       "0           25.0             25.0  \n",
       "1           24.7             26.1  \n",
       "2           21.7             22.2  \n",
       "3           32.9             26.7  \n",
       "4           33.4             25.7  "
      ]
     },
     "execution_count": 14,
     "metadata": {},
     "output_type": "execute_result"
    }
   ],
   "source": [
    "income_df = pd.read_excel(\"../data/landing/sa2_income.xlsx\", \n",
    "                          sheet_name = \"Table 2.4\", \n",
    "                          header = [5, 6], \n",
    "                          na_values = \"np\",\n",
    "                          thousands = \",\",\n",
    "                          skipfooter = 5\n",
    "                          )\n",
    "\n",
    "income_df.head()"
   ]
  },
  {
   "cell_type": "code",
   "execution_count": 15,
   "metadata": {},
   "outputs": [
    {
     "data": {
      "text/plain": [
       "(2459, 19)"
      ]
     },
     "execution_count": 15,
     "metadata": {},
     "output_type": "execute_result"
    }
   ],
   "source": [
    "income_df.shape"
   ]
  },
  {
   "cell_type": "code",
   "execution_count": 16,
   "metadata": {},
   "outputs": [
    {
     "data": {
      "text/plain": [
       "MultiIndex([(   'Unnamed: 0_level_0',       'SA2'),\n",
       "            (   'Unnamed: 1_level_0',  'SA2 NAME'),\n",
       "            (              'Earners', '(persons)'),\n",
       "            ('Median age of earners',     'years'),\n",
       "            (                  'Sum',         '$'),\n",
       "            (               'Median',         '$'),\n",
       "            (                 'Mean',         '$'),\n",
       "            (              'P80/P20',     'ratio'),\n",
       "            (              'P80/P50',     'ratio'),\n",
       "            (              'P20/P50',     'ratio'),\n",
       "            (              'P10/P50',     'ratio'),\n",
       "            (     'Gini coefficient',     'coef.'),\n",
       "            (               'Top 1%',         '%'),\n",
       "            (               'Top 5%',         '%'),\n",
       "            (              'Top 10%',         '%'),\n",
       "            (      'Lowest Quartile',         '%'),\n",
       "            (      'Second Quartile',         '%'),\n",
       "            (       'Third Quartile',         '%'),\n",
       "            (     'Highest Quartile',         '%')],\n",
       "           )"
      ]
     },
     "execution_count": 16,
     "metadata": {},
     "output_type": "execute_result"
    }
   ],
   "source": [
    "income_df.columns"
   ]
  },
  {
   "cell_type": "markdown",
   "metadata": {},
   "source": [
    "Rename columns to make them a consistent case and make them compatible with other datasets"
   ]
  },
  {
   "cell_type": "code",
   "execution_count": 17,
   "metadata": {},
   "outputs": [
    {
     "data": {
      "text/plain": [
       "['sa2',\n",
       " 'sa2_name',\n",
       " 'earners',\n",
       " 'median_age_of_earners',\n",
       " 'sum',\n",
       " 'median',\n",
       " 'mean',\n",
       " 'p80/p20',\n",
       " 'p80/p50',\n",
       " 'p20/p50',\n",
       " 'p10/p50',\n",
       " 'gini_coefficient',\n",
       " 'top_1%',\n",
       " 'top_5%',\n",
       " 'top_10%',\n",
       " 'lowest_quartile',\n",
       " 'second_quartile',\n",
       " 'third_quartile',\n",
       " 'highest_quartile']"
      ]
     },
     "execution_count": 17,
     "metadata": {},
     "output_type": "execute_result"
    }
   ],
   "source": [
    "# List to hold new column names\n",
    "income_cols = []\n",
    "\n",
    "for i in range(len(income_df.columns)):\n",
    "\n",
    "    # For the first two columns, take the second part of the multi-header\n",
    "    if i < 2:\n",
    "        income_cols.append(income_df.columns[i][1]\n",
    "                           .lower()                 # Convert to lowercase\n",
    "                           .replace(\" \", \"_\")       # Replace spaces with underscores\n",
    "                           )\n",
    "\n",
    "    # For the rest of the columns, take the first part of the multi-header    \n",
    "    else:\n",
    "        income_cols.append(income_df.columns[i][0]\n",
    "                           .lower()                 # Convert to lowercase\n",
    "                           .replace(\" \", \"_\")       # Replace spaces with underscores\n",
    "                           )\n",
    "\n",
    "income_cols"
   ]
  },
  {
   "cell_type": "markdown",
   "metadata": {},
   "source": [
    "Other datasets have `sa2_code` instead of `sa2`. Rename for consistency"
   ]
  },
  {
   "cell_type": "code",
   "execution_count": 18,
   "metadata": {},
   "outputs": [],
   "source": [
    "income_cols[0] = \"sa2_code\""
   ]
  },
  {
   "cell_type": "markdown",
   "metadata": {},
   "source": [
    "Assign new column names"
   ]
  },
  {
   "cell_type": "code",
   "execution_count": 19,
   "metadata": {},
   "outputs": [
    {
     "data": {
      "text/plain": [
       "Index(['sa2_code', 'sa2_name', 'earners', 'median_age_of_earners', 'sum',\n",
       "       'median', 'mean', 'p80/p20', 'p80/p50', 'p20/p50', 'p10/p50',\n",
       "       'gini_coefficient', 'top_1%', 'top_5%', 'top_10%', 'lowest_quartile',\n",
       "       'second_quartile', 'third_quartile', 'highest_quartile'],\n",
       "      dtype='object')"
      ]
     },
     "execution_count": 19,
     "metadata": {},
     "output_type": "execute_result"
    }
   ],
   "source": [
    "income_df.columns = income_cols\n",
    "\n",
    "income_df.columns"
   ]
  },
  {
   "cell_type": "markdown",
   "metadata": {},
   "source": [
    "Check data types"
   ]
  },
  {
   "cell_type": "code",
   "execution_count": 20,
   "metadata": {},
   "outputs": [
    {
     "data": {
      "text/plain": [
       "sa2_code                  object\n",
       "sa2_name                  object\n",
       "earners                  float64\n",
       "median_age_of_earners    float64\n",
       "sum                      float64\n",
       "median                   float64\n",
       "mean                     float64\n",
       "p80/p20                  float64\n",
       "p80/p50                  float64\n",
       "p20/p50                  float64\n",
       "p10/p50                  float64\n",
       "gini_coefficient         float64\n",
       "top_1%                   float64\n",
       "top_5%                   float64\n",
       "top_10%                  float64\n",
       "lowest_quartile          float64\n",
       "second_quartile          float64\n",
       "third_quartile           float64\n",
       "highest_quartile         float64\n",
       "dtype: object"
      ]
     },
     "execution_count": 20,
     "metadata": {},
     "output_type": "execute_result"
    }
   ],
   "source": [
    "income_df.dtypes"
   ]
  },
  {
   "cell_type": "markdown",
   "metadata": {},
   "source": [
    "Save into raw folder"
   ]
  },
  {
   "cell_type": "code",
   "execution_count": 21,
   "metadata": {},
   "outputs": [],
   "source": [
    "output_dir = f\"../data/raw\"\n",
    "\n",
    "# Create directory\n",
    "if not os.path.exists(output_dir):\n",
    "    os.makedirs(output_dir)\n",
    "\n",
    "# Save file\n",
    "income_df.to_csv(f\"{output_dir}/sa2_income.csv\", index = False)"
   ]
  },
  {
   "cell_type": "markdown",
   "metadata": {},
   "source": [
    "#### Historical Population Data"
   ]
  },
  {
   "cell_type": "markdown",
   "metadata": {},
   "source": [
    "Read file, ignoring excess formatting cells"
   ]
  },
  {
   "cell_type": "code",
   "execution_count": 22,
   "metadata": {},
   "outputs": [
    {
     "data": {
      "text/html": [
       "<div>\n",
       "<style scoped>\n",
       "    .dataframe tbody tr th:only-of-type {\n",
       "        vertical-align: middle;\n",
       "    }\n",
       "\n",
       "    .dataframe tbody tr th {\n",
       "        vertical-align: top;\n",
       "    }\n",
       "\n",
       "    .dataframe thead tr th {\n",
       "        text-align: left;\n",
       "    }\n",
       "</style>\n",
       "<table border=\"1\" class=\"dataframe\">\n",
       "  <thead>\n",
       "    <tr>\n",
       "      <th></th>\n",
       "      <th>Unnamed: 0_level_0</th>\n",
       "      <th>Unnamed: 1_level_0</th>\n",
       "      <th>Unnamed: 2_level_0</th>\n",
       "      <th>Unnamed: 3_level_0</th>\n",
       "      <th>Unnamed: 4_level_0</th>\n",
       "      <th>Unnamed: 5_level_0</th>\n",
       "      <th>Unnamed: 6_level_0</th>\n",
       "      <th>Unnamed: 7_level_0</th>\n",
       "      <th>2001</th>\n",
       "      <th>2002</th>\n",
       "      <th>...</th>\n",
       "      <th>2014</th>\n",
       "      <th>2015</th>\n",
       "      <th>2016</th>\n",
       "      <th>2017</th>\n",
       "      <th>2018</th>\n",
       "      <th>2019</th>\n",
       "      <th>2020</th>\n",
       "      <th>2021</th>\n",
       "      <th>2022</th>\n",
       "      <th>2023</th>\n",
       "    </tr>\n",
       "    <tr>\n",
       "      <th></th>\n",
       "      <th>GCCSA code</th>\n",
       "      <th>GCCSA name</th>\n",
       "      <th>SA4 code</th>\n",
       "      <th>SA4 name</th>\n",
       "      <th>SA3 code</th>\n",
       "      <th>SA3 name</th>\n",
       "      <th>SA2 code</th>\n",
       "      <th>SA2 name</th>\n",
       "      <th>no.</th>\n",
       "      <th>no.</th>\n",
       "      <th>...</th>\n",
       "      <th>no.</th>\n",
       "      <th>no.</th>\n",
       "      <th>no.</th>\n",
       "      <th>no.</th>\n",
       "      <th>no.</th>\n",
       "      <th>no.</th>\n",
       "      <th>no.</th>\n",
       "      <th>no.</th>\n",
       "      <th>no.</th>\n",
       "      <th>no.</th>\n",
       "    </tr>\n",
       "  </thead>\n",
       "  <tbody>\n",
       "    <tr>\n",
       "      <th>0</th>\n",
       "      <td>1RNSW</td>\n",
       "      <td>Rest of NSW</td>\n",
       "      <td>101</td>\n",
       "      <td>Capital Region</td>\n",
       "      <td>10102</td>\n",
       "      <td>Queanbeyan</td>\n",
       "      <td>101021007</td>\n",
       "      <td>Braidwood</td>\n",
       "      <td>2760</td>\n",
       "      <td>2811</td>\n",
       "      <td>...</td>\n",
       "      <td>3762</td>\n",
       "      <td>3849</td>\n",
       "      <td>3950</td>\n",
       "      <td>4041</td>\n",
       "      <td>4145</td>\n",
       "      <td>4218</td>\n",
       "      <td>4282</td>\n",
       "      <td>4332</td>\n",
       "      <td>4366</td>\n",
       "      <td>4396</td>\n",
       "    </tr>\n",
       "    <tr>\n",
       "      <th>1</th>\n",
       "      <td>1RNSW</td>\n",
       "      <td>Rest of NSW</td>\n",
       "      <td>101</td>\n",
       "      <td>Capital Region</td>\n",
       "      <td>10102</td>\n",
       "      <td>Queanbeyan</td>\n",
       "      <td>101021008</td>\n",
       "      <td>Karabar</td>\n",
       "      <td>9129</td>\n",
       "      <td>9199</td>\n",
       "      <td>...</td>\n",
       "      <td>8731</td>\n",
       "      <td>8603</td>\n",
       "      <td>8531</td>\n",
       "      <td>8530</td>\n",
       "      <td>8516</td>\n",
       "      <td>8500</td>\n",
       "      <td>8535</td>\n",
       "      <td>8548</td>\n",
       "      <td>8528</td>\n",
       "      <td>8483</td>\n",
       "    </tr>\n",
       "    <tr>\n",
       "      <th>2</th>\n",
       "      <td>1RNSW</td>\n",
       "      <td>Rest of NSW</td>\n",
       "      <td>101</td>\n",
       "      <td>Capital Region</td>\n",
       "      <td>10102</td>\n",
       "      <td>Queanbeyan</td>\n",
       "      <td>101021009</td>\n",
       "      <td>Queanbeyan</td>\n",
       "      <td>9717</td>\n",
       "      <td>9513</td>\n",
       "      <td>...</td>\n",
       "      <td>11199</td>\n",
       "      <td>11213</td>\n",
       "      <td>11230</td>\n",
       "      <td>11362</td>\n",
       "      <td>11460</td>\n",
       "      <td>11468</td>\n",
       "      <td>11460</td>\n",
       "      <td>11375</td>\n",
       "      <td>11391</td>\n",
       "      <td>11420</td>\n",
       "    </tr>\n",
       "    <tr>\n",
       "      <th>3</th>\n",
       "      <td>1RNSW</td>\n",
       "      <td>Rest of NSW</td>\n",
       "      <td>101</td>\n",
       "      <td>Capital Region</td>\n",
       "      <td>10102</td>\n",
       "      <td>Queanbeyan</td>\n",
       "      <td>101021010</td>\n",
       "      <td>Queanbeyan - East</td>\n",
       "      <td>3925</td>\n",
       "      <td>4073</td>\n",
       "      <td>...</td>\n",
       "      <td>4967</td>\n",
       "      <td>4961</td>\n",
       "      <td>4970</td>\n",
       "      <td>5016</td>\n",
       "      <td>5079</td>\n",
       "      <td>5126</td>\n",
       "      <td>5089</td>\n",
       "      <td>5097</td>\n",
       "      <td>5091</td>\n",
       "      <td>5099</td>\n",
       "    </tr>\n",
       "    <tr>\n",
       "      <th>4</th>\n",
       "      <td>1RNSW</td>\n",
       "      <td>Rest of NSW</td>\n",
       "      <td>101</td>\n",
       "      <td>Capital Region</td>\n",
       "      <td>10102</td>\n",
       "      <td>Queanbeyan</td>\n",
       "      <td>101021012</td>\n",
       "      <td>Queanbeyan West - Jerrabomberra</td>\n",
       "      <td>9425</td>\n",
       "      <td>10257</td>\n",
       "      <td>...</td>\n",
       "      <td>13193</td>\n",
       "      <td>13164</td>\n",
       "      <td>13150</td>\n",
       "      <td>13090</td>\n",
       "      <td>13022</td>\n",
       "      <td>12955</td>\n",
       "      <td>12821</td>\n",
       "      <td>12748</td>\n",
       "      <td>12781</td>\n",
       "      <td>12873</td>\n",
       "    </tr>\n",
       "    <tr>\n",
       "      <th>...</th>\n",
       "      <td>...</td>\n",
       "      <td>...</td>\n",
       "      <td>...</td>\n",
       "      <td>...</td>\n",
       "      <td>...</td>\n",
       "      <td>...</td>\n",
       "      <td>...</td>\n",
       "      <td>...</td>\n",
       "      <td>...</td>\n",
       "      <td>...</td>\n",
       "      <td>...</td>\n",
       "      <td>...</td>\n",
       "      <td>...</td>\n",
       "      <td>...</td>\n",
       "      <td>...</td>\n",
       "      <td>...</td>\n",
       "      <td>...</td>\n",
       "      <td>...</td>\n",
       "      <td>...</td>\n",
       "      <td>...</td>\n",
       "      <td>...</td>\n",
       "    </tr>\n",
       "    <tr>\n",
       "      <th>2449</th>\n",
       "      <td>8ACTE</td>\n",
       "      <td>Australian Capital Territory</td>\n",
       "      <td>801</td>\n",
       "      <td>Australian Capital Territory</td>\n",
       "      <td>80111</td>\n",
       "      <td>Uriarra - Namadgi</td>\n",
       "      <td>801111141</td>\n",
       "      <td>Namadgi</td>\n",
       "      <td>12</td>\n",
       "      <td>11</td>\n",
       "      <td>...</td>\n",
       "      <td>38</td>\n",
       "      <td>39</td>\n",
       "      <td>39</td>\n",
       "      <td>45</td>\n",
       "      <td>50</td>\n",
       "      <td>55</td>\n",
       "      <td>60</td>\n",
       "      <td>67</td>\n",
       "      <td>67</td>\n",
       "      <td>67</td>\n",
       "    </tr>\n",
       "    <tr>\n",
       "      <th>2450</th>\n",
       "      <td>9OTER</td>\n",
       "      <td>Other Territories</td>\n",
       "      <td>901</td>\n",
       "      <td>Other Territories</td>\n",
       "      <td>90101</td>\n",
       "      <td>Christmas Island</td>\n",
       "      <td>901011001</td>\n",
       "      <td>Christmas Island</td>\n",
       "      <td>1442</td>\n",
       "      <td>1365</td>\n",
       "      <td>...</td>\n",
       "      <td>1979</td>\n",
       "      <td>1929</td>\n",
       "      <td>1903</td>\n",
       "      <td>1876</td>\n",
       "      <td>1848</td>\n",
       "      <td>1803</td>\n",
       "      <td>1758</td>\n",
       "      <td>1717</td>\n",
       "      <td>1786</td>\n",
       "      <td>1823</td>\n",
       "    </tr>\n",
       "    <tr>\n",
       "      <th>2451</th>\n",
       "      <td>9OTER</td>\n",
       "      <td>Other Territories</td>\n",
       "      <td>901</td>\n",
       "      <td>Other Territories</td>\n",
       "      <td>90102</td>\n",
       "      <td>Cocos (Keeling) Islands</td>\n",
       "      <td>901021002</td>\n",
       "      <td>Cocos (Keeling) Islands</td>\n",
       "      <td>600</td>\n",
       "      <td>568</td>\n",
       "      <td>...</td>\n",
       "      <td>556</td>\n",
       "      <td>555</td>\n",
       "      <td>546</td>\n",
       "      <td>552</td>\n",
       "      <td>553</td>\n",
       "      <td>591</td>\n",
       "      <td>608</td>\n",
       "      <td>603</td>\n",
       "      <td>616</td>\n",
       "      <td>631</td>\n",
       "    </tr>\n",
       "    <tr>\n",
       "      <th>2452</th>\n",
       "      <td>9OTER</td>\n",
       "      <td>Other Territories</td>\n",
       "      <td>901</td>\n",
       "      <td>Other Territories</td>\n",
       "      <td>90103</td>\n",
       "      <td>Jervis Bay</td>\n",
       "      <td>901031003</td>\n",
       "      <td>Jervis Bay</td>\n",
       "      <td>542</td>\n",
       "      <td>464</td>\n",
       "      <td>...</td>\n",
       "      <td>361</td>\n",
       "      <td>367</td>\n",
       "      <td>402</td>\n",
       "      <td>398</td>\n",
       "      <td>386</td>\n",
       "      <td>367</td>\n",
       "      <td>335</td>\n",
       "      <td>309</td>\n",
       "      <td>307</td>\n",
       "      <td>307</td>\n",
       "    </tr>\n",
       "    <tr>\n",
       "      <th>2453</th>\n",
       "      <td>9OTER</td>\n",
       "      <td>Other Territories</td>\n",
       "      <td>901</td>\n",
       "      <td>Other Territories</td>\n",
       "      <td>90104</td>\n",
       "      <td>Norfolk Island</td>\n",
       "      <td>901041004</td>\n",
       "      <td>Norfolk Island</td>\n",
       "      <td>0</td>\n",
       "      <td>0</td>\n",
       "      <td>...</td>\n",
       "      <td>0</td>\n",
       "      <td>0</td>\n",
       "      <td>1757</td>\n",
       "      <td>1845</td>\n",
       "      <td>1938</td>\n",
       "      <td>2015</td>\n",
       "      <td>2102</td>\n",
       "      <td>2221</td>\n",
       "      <td>2211</td>\n",
       "      <td>2209</td>\n",
       "    </tr>\n",
       "  </tbody>\n",
       "</table>\n",
       "<p>2454 rows × 31 columns</p>\n",
       "</div>"
      ],
      "text/plain": [
       "     Unnamed: 0_level_0            Unnamed: 1_level_0 Unnamed: 2_level_0  \\\n",
       "             GCCSA code                    GCCSA name           SA4 code   \n",
       "0                 1RNSW                   Rest of NSW                101   \n",
       "1                 1RNSW                   Rest of NSW                101   \n",
       "2                 1RNSW                   Rest of NSW                101   \n",
       "3                 1RNSW                   Rest of NSW                101   \n",
       "4                 1RNSW                   Rest of NSW                101   \n",
       "...                 ...                           ...                ...   \n",
       "2449              8ACTE  Australian Capital Territory                801   \n",
       "2450              9OTER             Other Territories                901   \n",
       "2451              9OTER             Other Territories                901   \n",
       "2452              9OTER             Other Territories                901   \n",
       "2453              9OTER             Other Territories                901   \n",
       "\n",
       "                Unnamed: 3_level_0 Unnamed: 4_level_0  \\\n",
       "                          SA4 name           SA3 code   \n",
       "0                   Capital Region              10102   \n",
       "1                   Capital Region              10102   \n",
       "2                   Capital Region              10102   \n",
       "3                   Capital Region              10102   \n",
       "4                   Capital Region              10102   \n",
       "...                            ...                ...   \n",
       "2449  Australian Capital Territory              80111   \n",
       "2450             Other Territories              90101   \n",
       "2451             Other Territories              90102   \n",
       "2452             Other Territories              90103   \n",
       "2453             Other Territories              90104   \n",
       "\n",
       "           Unnamed: 5_level_0 Unnamed: 6_level_0  \\\n",
       "                     SA3 name           SA2 code   \n",
       "0                  Queanbeyan          101021007   \n",
       "1                  Queanbeyan          101021008   \n",
       "2                  Queanbeyan          101021009   \n",
       "3                  Queanbeyan          101021010   \n",
       "4                  Queanbeyan          101021012   \n",
       "...                       ...                ...   \n",
       "2449        Uriarra - Namadgi          801111141   \n",
       "2450         Christmas Island          901011001   \n",
       "2451  Cocos (Keeling) Islands          901021002   \n",
       "2452               Jervis Bay          901031003   \n",
       "2453           Norfolk Island          901041004   \n",
       "\n",
       "                   Unnamed: 7_level_0  2001   2002  ...   2014   2015   2016  \\\n",
       "                             SA2 name   no.    no.  ...    no.    no.    no.   \n",
       "0                           Braidwood  2760   2811  ...   3762   3849   3950   \n",
       "1                             Karabar  9129   9199  ...   8731   8603   8531   \n",
       "2                          Queanbeyan  9717   9513  ...  11199  11213  11230   \n",
       "3                   Queanbeyan - East  3925   4073  ...   4967   4961   4970   \n",
       "4     Queanbeyan West - Jerrabomberra  9425  10257  ...  13193  13164  13150   \n",
       "...                               ...   ...    ...  ...    ...    ...    ...   \n",
       "2449                          Namadgi    12     11  ...     38     39     39   \n",
       "2450                 Christmas Island  1442   1365  ...   1979   1929   1903   \n",
       "2451          Cocos (Keeling) Islands   600    568  ...    556    555    546   \n",
       "2452                       Jervis Bay   542    464  ...    361    367    402   \n",
       "2453                   Norfolk Island     0      0  ...      0      0   1757   \n",
       "\n",
       "       2017   2018   2019   2020   2021   2022   2023  \n",
       "        no.    no.    no.    no.    no.    no.    no.  \n",
       "0      4041   4145   4218   4282   4332   4366   4396  \n",
       "1      8530   8516   8500   8535   8548   8528   8483  \n",
       "2     11362  11460  11468  11460  11375  11391  11420  \n",
       "3      5016   5079   5126   5089   5097   5091   5099  \n",
       "4     13090  13022  12955  12821  12748  12781  12873  \n",
       "...     ...    ...    ...    ...    ...    ...    ...  \n",
       "2449     45     50     55     60     67     67     67  \n",
       "2450   1876   1848   1803   1758   1717   1786   1823  \n",
       "2451    552    553    591    608    603    616    631  \n",
       "2452    398    386    367    335    309    307    307  \n",
       "2453   1845   1938   2015   2102   2221   2211   2209  \n",
       "\n",
       "[2454 rows x 31 columns]"
      ]
     },
     "execution_count": 22,
     "metadata": {},
     "output_type": "execute_result"
    }
   ],
   "source": [
    "population_df = pd.read_excel(\"../data/landing/sa2_population_hist.xlsx\", \n",
    "                       sheet_name = \"Table 1\", \n",
    "                       header = [5, 6], \n",
    "                       skipfooter = 2\n",
    "                       )\n",
    "\n",
    "population_df"
   ]
  },
  {
   "cell_type": "code",
   "execution_count": 23,
   "metadata": {},
   "outputs": [
    {
     "data": {
      "text/plain": [
       "(2454, 31)"
      ]
     },
     "execution_count": 23,
     "metadata": {},
     "output_type": "execute_result"
    }
   ],
   "source": [
    "population_df.shape"
   ]
  },
  {
   "cell_type": "code",
   "execution_count": 24,
   "metadata": {},
   "outputs": [
    {
     "data": {
      "text/plain": [
       "MultiIndex([('Unnamed: 0_level_0', 'GCCSA code'),\n",
       "            ('Unnamed: 1_level_0', 'GCCSA name'),\n",
       "            ('Unnamed: 2_level_0',   'SA4 code'),\n",
       "            ('Unnamed: 3_level_0',   'SA4 name'),\n",
       "            ('Unnamed: 4_level_0',   'SA3 code'),\n",
       "            ('Unnamed: 5_level_0',   'SA3 name'),\n",
       "            ('Unnamed: 6_level_0',   'SA2 code'),\n",
       "            ('Unnamed: 7_level_0',   'SA2 name'),\n",
       "            (                2001,        'no.'),\n",
       "            (                2002,        'no.'),\n",
       "            (                2003,        'no.'),\n",
       "            (                2004,        'no.'),\n",
       "            (                2005,        'no.'),\n",
       "            (                2006,        'no.'),\n",
       "            (                2007,        'no.'),\n",
       "            (                2008,        'no.'),\n",
       "            (                2009,        'no.'),\n",
       "            (                2010,        'no.'),\n",
       "            (                2011,        'no.'),\n",
       "            (                2012,        'no.'),\n",
       "            (                2013,        'no.'),\n",
       "            (                2014,        'no.'),\n",
       "            (                2015,        'no.'),\n",
       "            (                2016,        'no.'),\n",
       "            (                2017,        'no.'),\n",
       "            (                2018,        'no.'),\n",
       "            (                2019,        'no.'),\n",
       "            (                2020,        'no.'),\n",
       "            (                2021,        'no.'),\n",
       "            (                2022,        'no.'),\n",
       "            (                2023,        'no.')],\n",
       "           )"
      ]
     },
     "execution_count": 24,
     "metadata": {},
     "output_type": "execute_result"
    }
   ],
   "source": [
    "population_df.columns"
   ]
  },
  {
   "cell_type": "markdown",
   "metadata": {},
   "source": [
    "Rename columns to make them a consistent case and make them compatible with other datasets"
   ]
  },
  {
   "cell_type": "code",
   "execution_count": 25,
   "metadata": {},
   "outputs": [
    {
     "data": {
      "text/plain": [
       "['gcc_code',\n",
       " 'gcc_name',\n",
       " 'sa4_code',\n",
       " 'sa4_name',\n",
       " 'sa3_code',\n",
       " 'sa3_name',\n",
       " 'sa2_code',\n",
       " 'sa2_name',\n",
       " '2001',\n",
       " '2002',\n",
       " '2003',\n",
       " '2004',\n",
       " '2005',\n",
       " '2006',\n",
       " '2007',\n",
       " '2008',\n",
       " '2009',\n",
       " '2010',\n",
       " '2011',\n",
       " '2012',\n",
       " '2013',\n",
       " '2014',\n",
       " '2015',\n",
       " '2016',\n",
       " '2017',\n",
       " '2018',\n",
       " '2019',\n",
       " '2020',\n",
       " '2021',\n",
       " '2022',\n",
       " '2023']"
      ]
     },
     "execution_count": 25,
     "metadata": {},
     "output_type": "execute_result"
    }
   ],
   "source": [
    "# List to hold new column names\n",
    "population_cols = []\n",
    "\n",
    "for i in range(len(population_df.columns)):\n",
    "\n",
    "    # For the first 8 columns, take the second part of the multi-header \n",
    "    # Rename \"gccsa\" to \"gcc\" for consistency with other datasets\n",
    "    if i < 8:\n",
    "        population_cols.append(population_df.columns[i][1]\n",
    "                            .lower()                        # Convert to lowercase\n",
    "                            .replace(\" \", \"_\")              # Replace spaces with underscores\n",
    "                            .replace(\"gccsa\", \"gcc\")        # Replace \"gccsa\" with \"gcc\"\n",
    "                            )\n",
    "\n",
    "    # For the rest of the columns, take the first part of the multi-header    \n",
    "    else:\n",
    "        population_cols.append(str(population_df.columns[i][0]))\n",
    "\n",
    "population_cols"
   ]
  },
  {
   "cell_type": "code",
   "execution_count": 26,
   "metadata": {},
   "outputs": [
    {
     "data": {
      "text/plain": [
       "Index(['gcc_code', 'gcc_name', 'sa4_code', 'sa4_name', 'sa3_code', 'sa3_name',\n",
       "       'sa2_code', 'sa2_name', '2001', '2002', '2003', '2004', '2005', '2006',\n",
       "       '2007', '2008', '2009', '2010', '2011', '2012', '2013', '2014', '2015',\n",
       "       '2016', '2017', '2018', '2019', '2020', '2021', '2022', '2023'],\n",
       "      dtype='object')"
      ]
     },
     "execution_count": 26,
     "metadata": {},
     "output_type": "execute_result"
    }
   ],
   "source": [
    "population_df.columns = population_cols\n",
    "\n",
    "population_df.columns"
   ]
  },
  {
   "cell_type": "markdown",
   "metadata": {},
   "source": [
    "Check data types"
   ]
  },
  {
   "cell_type": "code",
   "execution_count": 27,
   "metadata": {},
   "outputs": [
    {
     "data": {
      "text/plain": [
       "gcc_code    object\n",
       "gcc_name    object\n",
       "sa4_code     int64\n",
       "sa4_name    object\n",
       "sa3_code     int64\n",
       "sa3_name    object\n",
       "sa2_code     int64\n",
       "sa2_name    object\n",
       "2001         int64\n",
       "2002         int64\n",
       "2003         int64\n",
       "2004         int64\n",
       "2005         int64\n",
       "2006         int64\n",
       "2007         int64\n",
       "2008         int64\n",
       "2009         int64\n",
       "2010         int64\n",
       "2011         int64\n",
       "2012         int64\n",
       "2013         int64\n",
       "2014         int64\n",
       "2015         int64\n",
       "2016         int64\n",
       "2017         int64\n",
       "2018         int64\n",
       "2019         int64\n",
       "2020         int64\n",
       "2021         int64\n",
       "2022         int64\n",
       "2023         int64\n",
       "dtype: object"
      ]
     },
     "execution_count": 27,
     "metadata": {},
     "output_type": "execute_result"
    }
   ],
   "source": [
    "population_df.dtypes"
   ]
  },
  {
   "cell_type": "markdown",
   "metadata": {},
   "source": [
    "Code columns (e.g. `sa2_code`) represent unique idenitifiers in the real world, not numbers, so it doesn't make sense to store them as `int`"
   ]
  },
  {
   "cell_type": "code",
   "execution_count": 28,
   "metadata": {},
   "outputs": [
    {
     "data": {
      "text/plain": [
       "gcc_code    object\n",
       "gcc_name    object\n",
       "sa4_code    object\n",
       "sa4_name    object\n",
       "sa3_code    object\n",
       "sa3_name    object\n",
       "sa2_code    object\n",
       "sa2_name    object\n",
       "2001         int64\n",
       "2002         int64\n",
       "2003         int64\n",
       "2004         int64\n",
       "2005         int64\n",
       "2006         int64\n",
       "2007         int64\n",
       "2008         int64\n",
       "2009         int64\n",
       "2010         int64\n",
       "2011         int64\n",
       "2012         int64\n",
       "2013         int64\n",
       "2014         int64\n",
       "2015         int64\n",
       "2016         int64\n",
       "2017         int64\n",
       "2018         int64\n",
       "2019         int64\n",
       "2020         int64\n",
       "2021         int64\n",
       "2022         int64\n",
       "2023         int64\n",
       "dtype: object"
      ]
     },
     "execution_count": 28,
     "metadata": {},
     "output_type": "execute_result"
    }
   ],
   "source": [
    "population_df[[\"sa4_code\", \"sa3_code\", \"sa2_code\"]] = population_df[[\"sa4_code\", \"sa3_code\", \"sa2_code\"]].astype(str)\n",
    "\n",
    "population_df.dtypes"
   ]
  },
  {
   "cell_type": "markdown",
   "metadata": {},
   "source": [
    "Save into raw folder"
   ]
  },
  {
   "cell_type": "code",
   "execution_count": 29,
   "metadata": {},
   "outputs": [],
   "source": [
    "output_dir = f\"../data/raw\"\n",
    "\n",
    "# Create directory\n",
    "if not os.path.exists(output_dir):\n",
    "    os.makedirs(output_dir)\n",
    "\n",
    "# Save file\n",
    "population_df.to_csv(f\"{output_dir}/sa2_population_hist.csv\", index = False)"
   ]
  },
  {
   "cell_type": "markdown",
   "metadata": {},
   "source": [
    "### Postal Areas Boundary Shapefile"
   ]
  },
  {
   "cell_type": "markdown",
   "metadata": {},
   "source": [
    "Read file"
   ]
  },
  {
   "cell_type": "code",
   "execution_count": 30,
   "metadata": {},
   "outputs": [
    {
     "data": {
      "text/html": [
       "<div>\n",
       "<style scoped>\n",
       "    .dataframe tbody tr th:only-of-type {\n",
       "        vertical-align: middle;\n",
       "    }\n",
       "\n",
       "    .dataframe tbody tr th {\n",
       "        vertical-align: top;\n",
       "    }\n",
       "\n",
       "    .dataframe thead th {\n",
       "        text-align: right;\n",
       "    }\n",
       "</style>\n",
       "<table border=\"1\" class=\"dataframe\">\n",
       "  <thead>\n",
       "    <tr style=\"text-align: right;\">\n",
       "      <th></th>\n",
       "      <th>POA_CODE21</th>\n",
       "      <th>POA_NAME21</th>\n",
       "      <th>AUS_CODE21</th>\n",
       "      <th>AUS_NAME21</th>\n",
       "      <th>AREASQKM21</th>\n",
       "      <th>LOCI_URI21</th>\n",
       "      <th>SHAPE_Leng</th>\n",
       "      <th>SHAPE_Area</th>\n",
       "      <th>geometry</th>\n",
       "    </tr>\n",
       "  </thead>\n",
       "  <tbody>\n",
       "    <tr>\n",
       "      <th>0</th>\n",
       "      <td>0800</td>\n",
       "      <td>0800</td>\n",
       "      <td>AUS</td>\n",
       "      <td>Australia</td>\n",
       "      <td>3.1731</td>\n",
       "      <td>http://linked.data.gov.au/dataset/asgsed3/POA/...</td>\n",
       "      <td>0.081893</td>\n",
       "      <td>0.000264</td>\n",
       "      <td>POLYGON ((130.8368 -12.45378, 130.83683 -12.45...</td>\n",
       "    </tr>\n",
       "    <tr>\n",
       "      <th>1</th>\n",
       "      <td>0810</td>\n",
       "      <td>0810</td>\n",
       "      <td>AUS</td>\n",
       "      <td>Australia</td>\n",
       "      <td>24.4283</td>\n",
       "      <td>http://linked.data.gov.au/dataset/asgsed3/POA/...</td>\n",
       "      <td>0.241859</td>\n",
       "      <td>0.002031</td>\n",
       "      <td>POLYGON ((130.89985 -12.36568, 130.89874 -12.3...</td>\n",
       "    </tr>\n",
       "    <tr>\n",
       "      <th>2</th>\n",
       "      <td>0812</td>\n",
       "      <td>0812</td>\n",
       "      <td>AUS</td>\n",
       "      <td>Australia</td>\n",
       "      <td>35.8899</td>\n",
       "      <td>http://linked.data.gov.au/dataset/asgsed3/POA/...</td>\n",
       "      <td>0.278789</td>\n",
       "      <td>0.002983</td>\n",
       "      <td>POLYGON ((130.91914 -12.40788, 130.9183 -12.40...</td>\n",
       "    </tr>\n",
       "    <tr>\n",
       "      <th>3</th>\n",
       "      <td>0820</td>\n",
       "      <td>0820</td>\n",
       "      <td>AUS</td>\n",
       "      <td>Australia</td>\n",
       "      <td>39.0642</td>\n",
       "      <td>http://linked.data.gov.au/dataset/asgsed3/POA/...</td>\n",
       "      <td>0.409134</td>\n",
       "      <td>0.003248</td>\n",
       "      <td>POLYGON ((130.8526 -12.43995, 130.85088 -12.43...</td>\n",
       "    </tr>\n",
       "    <tr>\n",
       "      <th>4</th>\n",
       "      <td>0822</td>\n",
       "      <td>0822</td>\n",
       "      <td>AUS</td>\n",
       "      <td>Australia</td>\n",
       "      <td>150775.8030</td>\n",
       "      <td>http://linked.data.gov.au/dataset/asgsed3/POA/...</td>\n",
       "      <td>90.601833</td>\n",
       "      <td>12.564239</td>\n",
       "      <td>MULTIPOLYGON (((136.56647 -12.08393, 136.56703...</td>\n",
       "    </tr>\n",
       "  </tbody>\n",
       "</table>\n",
       "</div>"
      ],
      "text/plain": [
       "  POA_CODE21 POA_NAME21 AUS_CODE21 AUS_NAME21   AREASQKM21  \\\n",
       "0       0800       0800        AUS  Australia       3.1731   \n",
       "1       0810       0810        AUS  Australia      24.4283   \n",
       "2       0812       0812        AUS  Australia      35.8899   \n",
       "3       0820       0820        AUS  Australia      39.0642   \n",
       "4       0822       0822        AUS  Australia  150775.8030   \n",
       "\n",
       "                                          LOCI_URI21  SHAPE_Leng  SHAPE_Area  \\\n",
       "0  http://linked.data.gov.au/dataset/asgsed3/POA/...    0.081893    0.000264   \n",
       "1  http://linked.data.gov.au/dataset/asgsed3/POA/...    0.241859    0.002031   \n",
       "2  http://linked.data.gov.au/dataset/asgsed3/POA/...    0.278789    0.002983   \n",
       "3  http://linked.data.gov.au/dataset/asgsed3/POA/...    0.409134    0.003248   \n",
       "4  http://linked.data.gov.au/dataset/asgsed3/POA/...   90.601833   12.564239   \n",
       "\n",
       "                                            geometry  \n",
       "0  POLYGON ((130.8368 -12.45378, 130.83683 -12.45...  \n",
       "1  POLYGON ((130.89985 -12.36568, 130.89874 -12.3...  \n",
       "2  POLYGON ((130.91914 -12.40788, 130.9183 -12.40...  \n",
       "3  POLYGON ((130.8526 -12.43995, 130.85088 -12.43...  \n",
       "4  MULTIPOLYGON (((136.56647 -12.08393, 136.56703...  "
      ]
     },
     "execution_count": 30,
     "metadata": {},
     "output_type": "execute_result"
    }
   ],
   "source": [
    "postcode_sf = gpd.read_file(\"../data/landing/boundary/postcode\")\n",
    "\n",
    "postcode_sf.head()"
   ]
  },
  {
   "cell_type": "code",
   "execution_count": 31,
   "metadata": {},
   "outputs": [
    {
     "data": {
      "text/plain": [
       "(2644, 9)"
      ]
     },
     "execution_count": 31,
     "metadata": {},
     "output_type": "execute_result"
    }
   ],
   "source": [
    "postcode_sf.shape"
   ]
  },
  {
   "cell_type": "code",
   "execution_count": 32,
   "metadata": {},
   "outputs": [
    {
     "data": {
      "text/plain": [
       "Index(['POA_CODE21', 'POA_NAME21', 'AUS_CODE21', 'AUS_NAME21', 'AREASQKM21',\n",
       "       'LOCI_URI21', 'SHAPE_Leng', 'SHAPE_Area', 'geometry'],\n",
       "      dtype='object')"
      ]
     },
     "execution_count": 32,
     "metadata": {},
     "output_type": "execute_result"
    }
   ],
   "source": [
    "postcode_sf.columns"
   ]
  },
  {
   "cell_type": "markdown",
   "metadata": {},
   "source": [
    "Rename columns to make them a consistent case and make them compatible with other datasets"
   ]
  },
  {
   "cell_type": "code",
   "execution_count": 33,
   "metadata": {},
   "outputs": [
    {
     "data": {
      "text/plain": [
       "Index(['poa_code', 'poa_name', 'aus_code', 'aus_name', 'areasqkm', 'loci_uri',\n",
       "       'shape_leng', 'shape_area', 'geometry'],\n",
       "      dtype='object')"
      ]
     },
     "execution_count": 33,
     "metadata": {},
     "output_type": "execute_result"
    }
   ],
   "source": [
    "postcode_sf.columns = [col\n",
    "                       .lower()                         # Convert to lowercase\n",
    "                       .replace(\"21\", \"\")               # Remove '21' \n",
    "                       for col in postcode_sf.columns]\n",
    "\n",
    "postcode_sf.columns"
   ]
  },
  {
   "cell_type": "markdown",
   "metadata": {},
   "source": [
    "Check data types"
   ]
  },
  {
   "cell_type": "code",
   "execution_count": 34,
   "metadata": {},
   "outputs": [
    {
     "data": {
      "text/plain": [
       "poa_code        object\n",
       "poa_name        object\n",
       "aus_code        object\n",
       "aus_name        object\n",
       "areasqkm       float64\n",
       "loci_uri        object\n",
       "shape_leng     float64\n",
       "shape_area     float64\n",
       "geometry      geometry\n",
       "dtype: object"
      ]
     },
     "execution_count": 34,
     "metadata": {},
     "output_type": "execute_result"
    }
   ],
   "source": [
    "postcode_sf.dtypes"
   ]
  },
  {
   "cell_type": "markdown",
   "metadata": {},
   "source": [
    "Save into raw folder"
   ]
  },
  {
   "cell_type": "code",
   "execution_count": 35,
   "metadata": {},
   "outputs": [],
   "source": [
    "output_dir = f\"../data/raw/boundary/postcode\"\n",
    "\n",
    "# Create directory\n",
    "if not os.path.exists(output_dir):\n",
    "    os.makedirs(output_dir)\n",
    "\n",
    "# Save file\n",
    "postcode_sf.to_file(f\"{output_dir}/postcode_boundary.shp\")"
   ]
  },
  {
   "cell_type": "markdown",
   "metadata": {},
   "source": [
    "### Suburbs and Localities Boundary Shapefile"
   ]
  },
  {
   "cell_type": "markdown",
   "metadata": {},
   "source": [
    "Read file"
   ]
  },
  {
   "cell_type": "code",
   "execution_count": 36,
   "metadata": {},
   "outputs": [
    {
     "data": {
      "text/html": [
       "<div>\n",
       "<style scoped>\n",
       "    .dataframe tbody tr th:only-of-type {\n",
       "        vertical-align: middle;\n",
       "    }\n",
       "\n",
       "    .dataframe tbody tr th {\n",
       "        vertical-align: top;\n",
       "    }\n",
       "\n",
       "    .dataframe thead th {\n",
       "        text-align: right;\n",
       "    }\n",
       "</style>\n",
       "<table border=\"1\" class=\"dataframe\">\n",
       "  <thead>\n",
       "    <tr style=\"text-align: right;\">\n",
       "      <th></th>\n",
       "      <th>SAL_CODE21</th>\n",
       "      <th>SAL_NAME21</th>\n",
       "      <th>STE_CODE21</th>\n",
       "      <th>STE_NAME21</th>\n",
       "      <th>AUS_CODE21</th>\n",
       "      <th>AUS_NAME21</th>\n",
       "      <th>AREASQKM21</th>\n",
       "      <th>LOCI_URI21</th>\n",
       "      <th>SHAPE_Leng</th>\n",
       "      <th>SHAPE_Area</th>\n",
       "      <th>geometry</th>\n",
       "    </tr>\n",
       "  </thead>\n",
       "  <tbody>\n",
       "    <tr>\n",
       "      <th>0</th>\n",
       "      <td>10001</td>\n",
       "      <td>Aarons Pass</td>\n",
       "      <td>1</td>\n",
       "      <td>New South Wales</td>\n",
       "      <td>AUS</td>\n",
       "      <td>Australia</td>\n",
       "      <td>82.7639</td>\n",
       "      <td>http://linked.data.gov.au/dataset/asgsed3/SAL/...</td>\n",
       "      <td>0.554241</td>\n",
       "      <td>0.007975</td>\n",
       "      <td>POLYGON ((149.82477 -32.84384, 149.83271 -32.8...</td>\n",
       "    </tr>\n",
       "    <tr>\n",
       "      <th>1</th>\n",
       "      <td>10002</td>\n",
       "      <td>Abbotsbury</td>\n",
       "      <td>1</td>\n",
       "      <td>New South Wales</td>\n",
       "      <td>AUS</td>\n",
       "      <td>Australia</td>\n",
       "      <td>4.9788</td>\n",
       "      <td>http://linked.data.gov.au/dataset/asgsed3/SAL/...</td>\n",
       "      <td>0.123051</td>\n",
       "      <td>0.000485</td>\n",
       "      <td>POLYGON ((150.86523 -33.88264, 150.86479 -33.8...</td>\n",
       "    </tr>\n",
       "    <tr>\n",
       "      <th>2</th>\n",
       "      <td>10003</td>\n",
       "      <td>Abbotsford (NSW)</td>\n",
       "      <td>1</td>\n",
       "      <td>New South Wales</td>\n",
       "      <td>AUS</td>\n",
       "      <td>Australia</td>\n",
       "      <td>1.0180</td>\n",
       "      <td>http://linked.data.gov.au/dataset/asgsed3/SAL/...</td>\n",
       "      <td>0.053423</td>\n",
       "      <td>0.000099</td>\n",
       "      <td>POLYGON ((151.13472 -33.85492, 151.13445 -33.8...</td>\n",
       "    </tr>\n",
       "    <tr>\n",
       "      <th>3</th>\n",
       "      <td>10004</td>\n",
       "      <td>Abercrombie</td>\n",
       "      <td>1</td>\n",
       "      <td>New South Wales</td>\n",
       "      <td>AUS</td>\n",
       "      <td>Australia</td>\n",
       "      <td>2.9775</td>\n",
       "      <td>http://linked.data.gov.au/dataset/asgsed3/SAL/...</td>\n",
       "      <td>0.097338</td>\n",
       "      <td>0.000289</td>\n",
       "      <td>POLYGON ((149.55192 -33.3928, 149.55148 -33.39...</td>\n",
       "    </tr>\n",
       "    <tr>\n",
       "      <th>4</th>\n",
       "      <td>10005</td>\n",
       "      <td>Abercrombie River</td>\n",
       "      <td>1</td>\n",
       "      <td>New South Wales</td>\n",
       "      <td>AUS</td>\n",
       "      <td>Australia</td>\n",
       "      <td>127.1701</td>\n",
       "      <td>http://linked.data.gov.au/dataset/asgsed3/SAL/...</td>\n",
       "      <td>0.848903</td>\n",
       "      <td>0.012397</td>\n",
       "      <td>POLYGON ((149.25562 -33.96535, 149.25563 -33.9...</td>\n",
       "    </tr>\n",
       "  </tbody>\n",
       "</table>\n",
       "</div>"
      ],
      "text/plain": [
       "  SAL_CODE21         SAL_NAME21 STE_CODE21       STE_NAME21 AUS_CODE21  \\\n",
       "0      10001        Aarons Pass          1  New South Wales        AUS   \n",
       "1      10002         Abbotsbury          1  New South Wales        AUS   \n",
       "2      10003   Abbotsford (NSW)          1  New South Wales        AUS   \n",
       "3      10004        Abercrombie          1  New South Wales        AUS   \n",
       "4      10005  Abercrombie River          1  New South Wales        AUS   \n",
       "\n",
       "  AUS_NAME21  AREASQKM21                                         LOCI_URI21  \\\n",
       "0  Australia     82.7639  http://linked.data.gov.au/dataset/asgsed3/SAL/...   \n",
       "1  Australia      4.9788  http://linked.data.gov.au/dataset/asgsed3/SAL/...   \n",
       "2  Australia      1.0180  http://linked.data.gov.au/dataset/asgsed3/SAL/...   \n",
       "3  Australia      2.9775  http://linked.data.gov.au/dataset/asgsed3/SAL/...   \n",
       "4  Australia    127.1701  http://linked.data.gov.au/dataset/asgsed3/SAL/...   \n",
       "\n",
       "   SHAPE_Leng  SHAPE_Area                                           geometry  \n",
       "0    0.554241    0.007975  POLYGON ((149.82477 -32.84384, 149.83271 -32.8...  \n",
       "1    0.123051    0.000485  POLYGON ((150.86523 -33.88264, 150.86479 -33.8...  \n",
       "2    0.053423    0.000099  POLYGON ((151.13472 -33.85492, 151.13445 -33.8...  \n",
       "3    0.097338    0.000289  POLYGON ((149.55192 -33.3928, 149.55148 -33.39...  \n",
       "4    0.848903    0.012397  POLYGON ((149.25562 -33.96535, 149.25563 -33.9...  "
      ]
     },
     "execution_count": 36,
     "metadata": {},
     "output_type": "execute_result"
    }
   ],
   "source": [
    "suburb_sf = gpd.read_file(\"../data/landing/boundary/suburb\")\n",
    "\n",
    "suburb_sf.head()"
   ]
  },
  {
   "cell_type": "code",
   "execution_count": 37,
   "metadata": {},
   "outputs": [
    {
     "data": {
      "text/plain": [
       "(15353, 11)"
      ]
     },
     "execution_count": 37,
     "metadata": {},
     "output_type": "execute_result"
    }
   ],
   "source": [
    "suburb_sf.shape"
   ]
  },
  {
   "cell_type": "code",
   "execution_count": 38,
   "metadata": {},
   "outputs": [
    {
     "data": {
      "text/plain": [
       "Index(['SAL_CODE21', 'SAL_NAME21', 'STE_CODE21', 'STE_NAME21', 'AUS_CODE21',\n",
       "       'AUS_NAME21', 'AREASQKM21', 'LOCI_URI21', 'SHAPE_Leng', 'SHAPE_Area',\n",
       "       'geometry'],\n",
       "      dtype='object')"
      ]
     },
     "execution_count": 38,
     "metadata": {},
     "output_type": "execute_result"
    }
   ],
   "source": [
    "suburb_sf.columns"
   ]
  },
  {
   "cell_type": "markdown",
   "metadata": {},
   "source": [
    "Rename columns to make them a consistent case and make them compatible with other datasets"
   ]
  },
  {
   "cell_type": "code",
   "execution_count": 39,
   "metadata": {},
   "outputs": [
    {
     "data": {
      "text/plain": [
       "Index(['sal_code', 'sal_name', 'ste_code', 'ste_name', 'aus_code', 'aus_name',\n",
       "       'areasqkm', 'loci_uri', 'shape_leng', 'shape_area', 'geometry'],\n",
       "      dtype='object')"
      ]
     },
     "execution_count": 39,
     "metadata": {},
     "output_type": "execute_result"
    }
   ],
   "source": [
    "suburb_sf.columns = [col\n",
    "                     .lower()                       # Convert to lowercase\n",
    "                     .replace(\"21\", \"\")             # Remove '21' \n",
    "                     for col in suburb_sf.columns]\n",
    "\n",
    "suburb_sf.columns"
   ]
  },
  {
   "cell_type": "markdown",
   "metadata": {},
   "source": [
    "Check data types"
   ]
  },
  {
   "cell_type": "code",
   "execution_count": 40,
   "metadata": {},
   "outputs": [
    {
     "data": {
      "text/plain": [
       "sal_code        object\n",
       "sal_name        object\n",
       "ste_code        object\n",
       "ste_name        object\n",
       "aus_code        object\n",
       "aus_name        object\n",
       "areasqkm       float64\n",
       "loci_uri        object\n",
       "shape_leng     float64\n",
       "shape_area     float64\n",
       "geometry      geometry\n",
       "dtype: object"
      ]
     },
     "execution_count": 40,
     "metadata": {},
     "output_type": "execute_result"
    }
   ],
   "source": [
    "suburb_sf.dtypes"
   ]
  },
  {
   "cell_type": "markdown",
   "metadata": {},
   "source": [
    "Save into raw folder"
   ]
  },
  {
   "cell_type": "code",
   "execution_count": 41,
   "metadata": {},
   "outputs": [],
   "source": [
    "output_dir = f\"../data/raw/boundary/suburb\"\n",
    "\n",
    "# Create directory\n",
    "if not os.path.exists(output_dir):\n",
    "    os.makedirs(output_dir)\n",
    "\n",
    "# Save file\n",
    "suburb_sf.to_file(f\"{output_dir}/suburb_boundary.shp\")"
   ]
  },
  {
   "cell_type": "markdown",
   "metadata": {},
   "source": [
    "## DFFH Suburb Historical Rent Data"
   ]
  },
  {
   "cell_type": "markdown",
   "metadata": {},
   "source": [
    "Read file, ignoring excess formatting cells"
   ]
  },
  {
   "cell_type": "code",
   "execution_count": 42,
   "metadata": {},
   "outputs": [
    {
     "data": {
      "text/html": [
       "<div>\n",
       "<style scoped>\n",
       "    .dataframe tbody tr th:only-of-type {\n",
       "        vertical-align: middle;\n",
       "    }\n",
       "\n",
       "    .dataframe tbody tr th {\n",
       "        vertical-align: top;\n",
       "    }\n",
       "\n",
       "    .dataframe thead tr th {\n",
       "        text-align: left;\n",
       "    }\n",
       "</style>\n",
       "<table border=\"1\" class=\"dataframe\">\n",
       "  <thead>\n",
       "    <tr>\n",
       "      <th></th>\n",
       "      <th>All properties</th>\n",
       "      <th colspan=\"2\" halign=\"left\">Mar 2000</th>\n",
       "      <th colspan=\"2\" halign=\"left\">Jun 2000</th>\n",
       "      <th colspan=\"2\" halign=\"left\">Sep 2000</th>\n",
       "      <th colspan=\"2\" halign=\"left\">Dec 2000</th>\n",
       "      <th colspan=\"2\" halign=\"left\">Mar 2001</th>\n",
       "      <th>...</th>\n",
       "      <th colspan=\"2\" halign=\"left\">Mar 2022</th>\n",
       "      <th colspan=\"2\" halign=\"left\">Jun 2022</th>\n",
       "      <th colspan=\"2\" halign=\"left\">Sep 2022</th>\n",
       "      <th colspan=\"2\" halign=\"left\">Dec 2022</th>\n",
       "      <th colspan=\"2\" halign=\"left\">Mar 2023</th>\n",
       "    </tr>\n",
       "    <tr>\n",
       "      <th></th>\n",
       "      <th></th>\n",
       "      <th>Count</th>\n",
       "      <th>Median</th>\n",
       "      <th>Count</th>\n",
       "      <th>Median</th>\n",
       "      <th>Count</th>\n",
       "      <th>Median</th>\n",
       "      <th>Count</th>\n",
       "      <th>Median</th>\n",
       "      <th>Count</th>\n",
       "      <th>Median</th>\n",
       "      <th>...</th>\n",
       "      <th>Count</th>\n",
       "      <th>Median</th>\n",
       "      <th>Count</th>\n",
       "      <th>Median</th>\n",
       "      <th>Count</th>\n",
       "      <th>Median</th>\n",
       "      <th>Count</th>\n",
       "      <th>Median</th>\n",
       "      <th>Count</th>\n",
       "      <th>Median</th>\n",
       "    </tr>\n",
       "  </thead>\n",
       "  <tbody>\n",
       "    <tr>\n",
       "      <th rowspan=\"5\" valign=\"top\">Inner Melbourne</th>\n",
       "      <th>Albert Park-Middle Park-West St Kilda</th>\n",
       "      <td>1143.0</td>\n",
       "      <td>260.0</td>\n",
       "      <td>1134</td>\n",
       "      <td>260</td>\n",
       "      <td>1177.0</td>\n",
       "      <td>270.0</td>\n",
       "      <td>1178.0</td>\n",
       "      <td>275.0</td>\n",
       "      <td>1208.0</td>\n",
       "      <td>275.0</td>\n",
       "      <td>...</td>\n",
       "      <td>867</td>\n",
       "      <td>500</td>\n",
       "      <td>855</td>\n",
       "      <td>515</td>\n",
       "      <td>881</td>\n",
       "      <td>500</td>\n",
       "      <td>832</td>\n",
       "      <td>525</td>\n",
       "      <td>786</td>\n",
       "      <td>545</td>\n",
       "    </tr>\n",
       "    <tr>\n",
       "      <th>Armadale</th>\n",
       "      <td>733.0</td>\n",
       "      <td>200.0</td>\n",
       "      <td>737</td>\n",
       "      <td>200</td>\n",
       "      <td>738.0</td>\n",
       "      <td>205.0</td>\n",
       "      <td>739.0</td>\n",
       "      <td>210.0</td>\n",
       "      <td>718.0</td>\n",
       "      <td>215.0</td>\n",
       "      <td>...</td>\n",
       "      <td>805</td>\n",
       "      <td>430</td>\n",
       "      <td>851</td>\n",
       "      <td>450</td>\n",
       "      <td>852</td>\n",
       "      <td>450</td>\n",
       "      <td>840</td>\n",
       "      <td>460</td>\n",
       "      <td>751</td>\n",
       "      <td>490</td>\n",
       "    </tr>\n",
       "    <tr>\n",
       "      <th>Carlton North</th>\n",
       "      <td>864.0</td>\n",
       "      <td>260.0</td>\n",
       "      <td>814</td>\n",
       "      <td>260</td>\n",
       "      <td>799.0</td>\n",
       "      <td>265.0</td>\n",
       "      <td>736.0</td>\n",
       "      <td>270.0</td>\n",
       "      <td>718.0</td>\n",
       "      <td>270.0</td>\n",
       "      <td>...</td>\n",
       "      <td>581</td>\n",
       "      <td>580</td>\n",
       "      <td>535</td>\n",
       "      <td>595</td>\n",
       "      <td>547</td>\n",
       "      <td>600</td>\n",
       "      <td>546</td>\n",
       "      <td>600</td>\n",
       "      <td>490</td>\n",
       "      <td>620</td>\n",
       "    </tr>\n",
       "    <tr>\n",
       "      <th>Carlton-Parkville</th>\n",
       "      <td>1339.0</td>\n",
       "      <td>260.0</td>\n",
       "      <td>1304</td>\n",
       "      <td>260</td>\n",
       "      <td>1300.0</td>\n",
       "      <td>260.0</td>\n",
       "      <td>1320.0</td>\n",
       "      <td>260.0</td>\n",
       "      <td>1273.0</td>\n",
       "      <td>260.0</td>\n",
       "      <td>...</td>\n",
       "      <td>6143</td>\n",
       "      <td>310</td>\n",
       "      <td>6018</td>\n",
       "      <td>319</td>\n",
       "      <td>6871</td>\n",
       "      <td>340</td>\n",
       "      <td>6627</td>\n",
       "      <td>350</td>\n",
       "      <td>6690</td>\n",
       "      <td>400</td>\n",
       "    </tr>\n",
       "    <tr>\n",
       "      <th>CBD-St Kilda Rd</th>\n",
       "      <td>2132.0</td>\n",
       "      <td>320.0</td>\n",
       "      <td>2264</td>\n",
       "      <td>320</td>\n",
       "      <td>2358.0</td>\n",
       "      <td>320.0</td>\n",
       "      <td>2361.0</td>\n",
       "      <td>320.0</td>\n",
       "      <td>2591.0</td>\n",
       "      <td>320.0</td>\n",
       "      <td>...</td>\n",
       "      <td>17845</td>\n",
       "      <td>365</td>\n",
       "      <td>16792</td>\n",
       "      <td>390</td>\n",
       "      <td>18284</td>\n",
       "      <td>419</td>\n",
       "      <td>17627</td>\n",
       "      <td>450</td>\n",
       "      <td>17426</td>\n",
       "      <td>500</td>\n",
       "    </tr>\n",
       "    <tr>\n",
       "      <th>...</th>\n",
       "      <th>...</th>\n",
       "      <td>...</td>\n",
       "      <td>...</td>\n",
       "      <td>...</td>\n",
       "      <td>...</td>\n",
       "      <td>...</td>\n",
       "      <td>...</td>\n",
       "      <td>...</td>\n",
       "      <td>...</td>\n",
       "      <td>...</td>\n",
       "      <td>...</td>\n",
       "      <td>...</td>\n",
       "      <td>...</td>\n",
       "      <td>...</td>\n",
       "      <td>...</td>\n",
       "      <td>...</td>\n",
       "      <td>...</td>\n",
       "      <td>...</td>\n",
       "      <td>...</td>\n",
       "      <td>...</td>\n",
       "      <td>...</td>\n",
       "      <td>...</td>\n",
       "    </tr>\n",
       "    <tr>\n",
       "      <th rowspan=\"5\" valign=\"top\">Other Regional Centres</th>\n",
       "      <th>Wanagaratta</th>\n",
       "      <td>705.0</td>\n",
       "      <td>125.0</td>\n",
       "      <td>671</td>\n",
       "      <td>125</td>\n",
       "      <td>631.0</td>\n",
       "      <td>130.0</td>\n",
       "      <td>623.0</td>\n",
       "      <td>130.0</td>\n",
       "      <td>602.0</td>\n",
       "      <td>130.0</td>\n",
       "      <td>...</td>\n",
       "      <td>531</td>\n",
       "      <td>370</td>\n",
       "      <td>530</td>\n",
       "      <td>380</td>\n",
       "      <td>547</td>\n",
       "      <td>380</td>\n",
       "      <td>541</td>\n",
       "      <td>380</td>\n",
       "      <td>518</td>\n",
       "      <td>380</td>\n",
       "    </tr>\n",
       "    <tr>\n",
       "      <th>Warragul</th>\n",
       "      <td>385.0</td>\n",
       "      <td>130.0</td>\n",
       "      <td>367</td>\n",
       "      <td>135</td>\n",
       "      <td>382.0</td>\n",
       "      <td>135.0</td>\n",
       "      <td>366.0</td>\n",
       "      <td>135.0</td>\n",
       "      <td>365.0</td>\n",
       "      <td>135.0</td>\n",
       "      <td>...</td>\n",
       "      <td>522</td>\n",
       "      <td>400</td>\n",
       "      <td>512</td>\n",
       "      <td>400</td>\n",
       "      <td>515</td>\n",
       "      <td>420</td>\n",
       "      <td>523</td>\n",
       "      <td>430</td>\n",
       "      <td>497</td>\n",
       "      <td>440</td>\n",
       "    </tr>\n",
       "    <tr>\n",
       "      <th>Warrnambool</th>\n",
       "      <td>1266.0</td>\n",
       "      <td>130.0</td>\n",
       "      <td>1229</td>\n",
       "      <td>135</td>\n",
       "      <td>1204.0</td>\n",
       "      <td>135.0</td>\n",
       "      <td>1135.0</td>\n",
       "      <td>135.0</td>\n",
       "      <td>1069.0</td>\n",
       "      <td>140.0</td>\n",
       "      <td>...</td>\n",
       "      <td>854</td>\n",
       "      <td>400</td>\n",
       "      <td>844</td>\n",
       "      <td>400</td>\n",
       "      <td>870</td>\n",
       "      <td>420</td>\n",
       "      <td>859</td>\n",
       "      <td>420</td>\n",
       "      <td>867</td>\n",
       "      <td>420</td>\n",
       "    </tr>\n",
       "    <tr>\n",
       "      <th>Wodonga</th>\n",
       "      <td>1446.0</td>\n",
       "      <td>145.0</td>\n",
       "      <td>1439</td>\n",
       "      <td>145</td>\n",
       "      <td>1468.0</td>\n",
       "      <td>150.0</td>\n",
       "      <td>1449.0</td>\n",
       "      <td>150.0</td>\n",
       "      <td>1405.0</td>\n",
       "      <td>150.0</td>\n",
       "      <td>...</td>\n",
       "      <td>1233</td>\n",
       "      <td>380</td>\n",
       "      <td>1267</td>\n",
       "      <td>390</td>\n",
       "      <td>1251</td>\n",
       "      <td>400</td>\n",
       "      <td>1191</td>\n",
       "      <td>410</td>\n",
       "      <td>1173</td>\n",
       "      <td>410</td>\n",
       "    </tr>\n",
       "    <tr>\n",
       "      <th>Group Total</th>\n",
       "      <td>13812.0</td>\n",
       "      <td>130.0</td>\n",
       "      <td>13758</td>\n",
       "      <td>130</td>\n",
       "      <td>13842.0</td>\n",
       "      <td>130.0</td>\n",
       "      <td>13636.0</td>\n",
       "      <td>130.0</td>\n",
       "      <td>13285.0</td>\n",
       "      <td>135.0</td>\n",
       "      <td>...</td>\n",
       "      <td>12149</td>\n",
       "      <td>360</td>\n",
       "      <td>12089</td>\n",
       "      <td>365</td>\n",
       "      <td>12258</td>\n",
       "      <td>380</td>\n",
       "      <td>12072</td>\n",
       "      <td>380</td>\n",
       "      <td>11944</td>\n",
       "      <td>390</td>\n",
       "    </tr>\n",
       "  </tbody>\n",
       "</table>\n",
       "<p>159 rows × 186 columns</p>\n",
       "</div>"
      ],
      "text/plain": [
       "All properties                                               Mar 2000         \\\n",
       "                                                                Count Median   \n",
       "Inner Melbourne        Albert Park-Middle Park-West St Kilda   1143.0  260.0   \n",
       "                       Armadale                                 733.0  200.0   \n",
       "                       Carlton North                            864.0  260.0   \n",
       "                       Carlton-Parkville                       1339.0  260.0   \n",
       "                       CBD-St Kilda Rd                         2132.0  320.0   \n",
       "...                                                               ...    ...   \n",
       "Other Regional Centres Wanagaratta                              705.0  125.0   \n",
       "                       Warragul                                 385.0  130.0   \n",
       "                       Warrnambool                             1266.0  130.0   \n",
       "                       Wodonga                                 1446.0  145.0   \n",
       "                       Group Total                            13812.0  130.0   \n",
       "\n",
       "All properties                                               Jun 2000         \\\n",
       "                                                                Count Median   \n",
       "Inner Melbourne        Albert Park-Middle Park-West St Kilda     1134    260   \n",
       "                       Armadale                                   737    200   \n",
       "                       Carlton North                              814    260   \n",
       "                       Carlton-Parkville                         1304    260   \n",
       "                       CBD-St Kilda Rd                           2264    320   \n",
       "...                                                               ...    ...   \n",
       "Other Regional Centres Wanagaratta                                671    125   \n",
       "                       Warragul                                   367    135   \n",
       "                       Warrnambool                               1229    135   \n",
       "                       Wodonga                                   1439    145   \n",
       "                       Group Total                              13758    130   \n",
       "\n",
       "All properties                                               Sep 2000         \\\n",
       "                                                                Count Median   \n",
       "Inner Melbourne        Albert Park-Middle Park-West St Kilda   1177.0  270.0   \n",
       "                       Armadale                                 738.0  205.0   \n",
       "                       Carlton North                            799.0  265.0   \n",
       "                       Carlton-Parkville                       1300.0  260.0   \n",
       "                       CBD-St Kilda Rd                         2358.0  320.0   \n",
       "...                                                               ...    ...   \n",
       "Other Regional Centres Wanagaratta                              631.0  130.0   \n",
       "                       Warragul                                 382.0  135.0   \n",
       "                       Warrnambool                             1204.0  135.0   \n",
       "                       Wodonga                                 1468.0  150.0   \n",
       "                       Group Total                            13842.0  130.0   \n",
       "\n",
       "All properties                                               Dec 2000         \\\n",
       "                                                                Count Median   \n",
       "Inner Melbourne        Albert Park-Middle Park-West St Kilda   1178.0  275.0   \n",
       "                       Armadale                                 739.0  210.0   \n",
       "                       Carlton North                            736.0  270.0   \n",
       "                       Carlton-Parkville                       1320.0  260.0   \n",
       "                       CBD-St Kilda Rd                         2361.0  320.0   \n",
       "...                                                               ...    ...   \n",
       "Other Regional Centres Wanagaratta                              623.0  130.0   \n",
       "                       Warragul                                 366.0  135.0   \n",
       "                       Warrnambool                             1135.0  135.0   \n",
       "                       Wodonga                                 1449.0  150.0   \n",
       "                       Group Total                            13636.0  130.0   \n",
       "\n",
       "All properties                                               Mar 2001         \\\n",
       "                                                                Count Median   \n",
       "Inner Melbourne        Albert Park-Middle Park-West St Kilda   1208.0  275.0   \n",
       "                       Armadale                                 718.0  215.0   \n",
       "                       Carlton North                            718.0  270.0   \n",
       "                       Carlton-Parkville                       1273.0  260.0   \n",
       "                       CBD-St Kilda Rd                         2591.0  320.0   \n",
       "...                                                               ...    ...   \n",
       "Other Regional Centres Wanagaratta                              602.0  130.0   \n",
       "                       Warragul                                 365.0  135.0   \n",
       "                       Warrnambool                             1069.0  140.0   \n",
       "                       Wodonga                                 1405.0  150.0   \n",
       "                       Group Total                            13285.0  135.0   \n",
       "\n",
       "All properties                                                ... Mar 2022  \\\n",
       "                                                              ...    Count   \n",
       "Inner Melbourne        Albert Park-Middle Park-West St Kilda  ...      867   \n",
       "                       Armadale                               ...      805   \n",
       "                       Carlton North                          ...      581   \n",
       "                       Carlton-Parkville                      ...     6143   \n",
       "                       CBD-St Kilda Rd                        ...    17845   \n",
       "...                                                           ...      ...   \n",
       "Other Regional Centres Wanagaratta                            ...      531   \n",
       "                       Warragul                               ...      522   \n",
       "                       Warrnambool                            ...      854   \n",
       "                       Wodonga                                ...     1233   \n",
       "                       Group Total                            ...    12149   \n",
       "\n",
       "All properties                                                      Jun 2022  \\\n",
       "                                                             Median    Count   \n",
       "Inner Melbourne        Albert Park-Middle Park-West St Kilda    500      855   \n",
       "                       Armadale                                 430      851   \n",
       "                       Carlton North                            580      535   \n",
       "                       Carlton-Parkville                        310     6018   \n",
       "                       CBD-St Kilda Rd                          365    16792   \n",
       "...                                                             ...      ...   \n",
       "Other Regional Centres Wanagaratta                              370      530   \n",
       "                       Warragul                                 400      512   \n",
       "                       Warrnambool                              400      844   \n",
       "                       Wodonga                                  380     1267   \n",
       "                       Group Total                              360    12089   \n",
       "\n",
       "All properties                                                      Sep 2022  \\\n",
       "                                                             Median    Count   \n",
       "Inner Melbourne        Albert Park-Middle Park-West St Kilda    515      881   \n",
       "                       Armadale                                 450      852   \n",
       "                       Carlton North                            595      547   \n",
       "                       Carlton-Parkville                        319     6871   \n",
       "                       CBD-St Kilda Rd                          390    18284   \n",
       "...                                                             ...      ...   \n",
       "Other Regional Centres Wanagaratta                              380      547   \n",
       "                       Warragul                                 400      515   \n",
       "                       Warrnambool                              400      870   \n",
       "                       Wodonga                                  390     1251   \n",
       "                       Group Total                              365    12258   \n",
       "\n",
       "All properties                                                      Dec 2022  \\\n",
       "                                                             Median    Count   \n",
       "Inner Melbourne        Albert Park-Middle Park-West St Kilda    500      832   \n",
       "                       Armadale                                 450      840   \n",
       "                       Carlton North                            600      546   \n",
       "                       Carlton-Parkville                        340     6627   \n",
       "                       CBD-St Kilda Rd                          419    17627   \n",
       "...                                                             ...      ...   \n",
       "Other Regional Centres Wanagaratta                              380      541   \n",
       "                       Warragul                                 420      523   \n",
       "                       Warrnambool                              420      859   \n",
       "                       Wodonga                                  400     1191   \n",
       "                       Group Total                              380    12072   \n",
       "\n",
       "All properties                                                      Mar 2023  \\\n",
       "                                                             Median    Count   \n",
       "Inner Melbourne        Albert Park-Middle Park-West St Kilda    525      786   \n",
       "                       Armadale                                 460      751   \n",
       "                       Carlton North                            600      490   \n",
       "                       Carlton-Parkville                        350     6690   \n",
       "                       CBD-St Kilda Rd                          450    17426   \n",
       "...                                                             ...      ...   \n",
       "Other Regional Centres Wanagaratta                              380      518   \n",
       "                       Warragul                                 430      497   \n",
       "                       Warrnambool                              420      867   \n",
       "                       Wodonga                                  410     1173   \n",
       "                       Group Total                              380    11944   \n",
       "\n",
       "All properties                                                       \n",
       "                                                             Median  \n",
       "Inner Melbourne        Albert Park-Middle Park-West St Kilda    545  \n",
       "                       Armadale                                 490  \n",
       "                       Carlton North                            620  \n",
       "                       Carlton-Parkville                        400  \n",
       "                       CBD-St Kilda Rd                          500  \n",
       "...                                                             ...  \n",
       "Other Regional Centres Wanagaratta                              380  \n",
       "                       Warragul                                 440  \n",
       "                       Warrnambool                              420  \n",
       "                       Wodonga                                  410  \n",
       "                       Group Total                              390  \n",
       "\n",
       "[159 rows x 186 columns]"
      ]
     },
     "execution_count": 42,
     "metadata": {},
     "output_type": "execute_result"
    }
   ],
   "source": [
    "rent_df = pd.read_excel(\"../data/landing/suburb_rent_hist.xlsx\", \n",
    "                        sheet_name = \"All properties\", \n",
    "                        header = [1, 2], \n",
    "                        index_col = [0, 1], \n",
    "                        na_values = \"-\"\n",
    "                        )\n",
    "\n",
    "rent_df"
   ]
  },
  {
   "cell_type": "code",
   "execution_count": 43,
   "metadata": {},
   "outputs": [
    {
     "data": {
      "text/plain": [
       "(159, 186)"
      ]
     },
     "execution_count": 43,
     "metadata": {},
     "output_type": "execute_result"
    }
   ],
   "source": [
    "rent_df.shape"
   ]
  },
  {
   "cell_type": "code",
   "execution_count": 44,
   "metadata": {},
   "outputs": [
    {
     "data": {
      "text/html": [
       "<div>\n",
       "<style scoped>\n",
       "    .dataframe tbody tr th:only-of-type {\n",
       "        vertical-align: middle;\n",
       "    }\n",
       "\n",
       "    .dataframe tbody tr th {\n",
       "        vertical-align: top;\n",
       "    }\n",
       "\n",
       "    .dataframe thead tr th {\n",
       "        text-align: left;\n",
       "    }\n",
       "</style>\n",
       "<table border=\"1\" class=\"dataframe\">\n",
       "  <thead>\n",
       "    <tr>\n",
       "      <th>All properties</th>\n",
       "      <th>level_0</th>\n",
       "      <th>level_1</th>\n",
       "      <th colspan=\"2\" halign=\"left\">Mar 2000</th>\n",
       "      <th colspan=\"2\" halign=\"left\">Jun 2000</th>\n",
       "      <th colspan=\"2\" halign=\"left\">Sep 2000</th>\n",
       "      <th colspan=\"2\" halign=\"left\">Dec 2000</th>\n",
       "      <th>...</th>\n",
       "      <th colspan=\"2\" halign=\"left\">Mar 2022</th>\n",
       "      <th colspan=\"2\" halign=\"left\">Jun 2022</th>\n",
       "      <th colspan=\"2\" halign=\"left\">Sep 2022</th>\n",
       "      <th colspan=\"2\" halign=\"left\">Dec 2022</th>\n",
       "      <th colspan=\"2\" halign=\"left\">Mar 2023</th>\n",
       "    </tr>\n",
       "    <tr>\n",
       "      <th></th>\n",
       "      <th></th>\n",
       "      <th></th>\n",
       "      <th>Count</th>\n",
       "      <th>Median</th>\n",
       "      <th>Count</th>\n",
       "      <th>Median</th>\n",
       "      <th>Count</th>\n",
       "      <th>Median</th>\n",
       "      <th>Count</th>\n",
       "      <th>Median</th>\n",
       "      <th>...</th>\n",
       "      <th>Count</th>\n",
       "      <th>Median</th>\n",
       "      <th>Count</th>\n",
       "      <th>Median</th>\n",
       "      <th>Count</th>\n",
       "      <th>Median</th>\n",
       "      <th>Count</th>\n",
       "      <th>Median</th>\n",
       "      <th>Count</th>\n",
       "      <th>Median</th>\n",
       "    </tr>\n",
       "  </thead>\n",
       "  <tbody>\n",
       "    <tr>\n",
       "      <th>0</th>\n",
       "      <td>Inner Melbourne</td>\n",
       "      <td>Albert Park-Middle Park-West St Kilda</td>\n",
       "      <td>1143.0</td>\n",
       "      <td>260.0</td>\n",
       "      <td>1134</td>\n",
       "      <td>260</td>\n",
       "      <td>1177.0</td>\n",
       "      <td>270.0</td>\n",
       "      <td>1178.0</td>\n",
       "      <td>275.0</td>\n",
       "      <td>...</td>\n",
       "      <td>867</td>\n",
       "      <td>500</td>\n",
       "      <td>855</td>\n",
       "      <td>515</td>\n",
       "      <td>881</td>\n",
       "      <td>500</td>\n",
       "      <td>832</td>\n",
       "      <td>525</td>\n",
       "      <td>786</td>\n",
       "      <td>545</td>\n",
       "    </tr>\n",
       "    <tr>\n",
       "      <th>1</th>\n",
       "      <td>Inner Melbourne</td>\n",
       "      <td>Armadale</td>\n",
       "      <td>733.0</td>\n",
       "      <td>200.0</td>\n",
       "      <td>737</td>\n",
       "      <td>200</td>\n",
       "      <td>738.0</td>\n",
       "      <td>205.0</td>\n",
       "      <td>739.0</td>\n",
       "      <td>210.0</td>\n",
       "      <td>...</td>\n",
       "      <td>805</td>\n",
       "      <td>430</td>\n",
       "      <td>851</td>\n",
       "      <td>450</td>\n",
       "      <td>852</td>\n",
       "      <td>450</td>\n",
       "      <td>840</td>\n",
       "      <td>460</td>\n",
       "      <td>751</td>\n",
       "      <td>490</td>\n",
       "    </tr>\n",
       "    <tr>\n",
       "      <th>2</th>\n",
       "      <td>Inner Melbourne</td>\n",
       "      <td>Carlton North</td>\n",
       "      <td>864.0</td>\n",
       "      <td>260.0</td>\n",
       "      <td>814</td>\n",
       "      <td>260</td>\n",
       "      <td>799.0</td>\n",
       "      <td>265.0</td>\n",
       "      <td>736.0</td>\n",
       "      <td>270.0</td>\n",
       "      <td>...</td>\n",
       "      <td>581</td>\n",
       "      <td>580</td>\n",
       "      <td>535</td>\n",
       "      <td>595</td>\n",
       "      <td>547</td>\n",
       "      <td>600</td>\n",
       "      <td>546</td>\n",
       "      <td>600</td>\n",
       "      <td>490</td>\n",
       "      <td>620</td>\n",
       "    </tr>\n",
       "    <tr>\n",
       "      <th>3</th>\n",
       "      <td>Inner Melbourne</td>\n",
       "      <td>Carlton-Parkville</td>\n",
       "      <td>1339.0</td>\n",
       "      <td>260.0</td>\n",
       "      <td>1304</td>\n",
       "      <td>260</td>\n",
       "      <td>1300.0</td>\n",
       "      <td>260.0</td>\n",
       "      <td>1320.0</td>\n",
       "      <td>260.0</td>\n",
       "      <td>...</td>\n",
       "      <td>6143</td>\n",
       "      <td>310</td>\n",
       "      <td>6018</td>\n",
       "      <td>319</td>\n",
       "      <td>6871</td>\n",
       "      <td>340</td>\n",
       "      <td>6627</td>\n",
       "      <td>350</td>\n",
       "      <td>6690</td>\n",
       "      <td>400</td>\n",
       "    </tr>\n",
       "    <tr>\n",
       "      <th>4</th>\n",
       "      <td>Inner Melbourne</td>\n",
       "      <td>CBD-St Kilda Rd</td>\n",
       "      <td>2132.0</td>\n",
       "      <td>320.0</td>\n",
       "      <td>2264</td>\n",
       "      <td>320</td>\n",
       "      <td>2358.0</td>\n",
       "      <td>320.0</td>\n",
       "      <td>2361.0</td>\n",
       "      <td>320.0</td>\n",
       "      <td>...</td>\n",
       "      <td>17845</td>\n",
       "      <td>365</td>\n",
       "      <td>16792</td>\n",
       "      <td>390</td>\n",
       "      <td>18284</td>\n",
       "      <td>419</td>\n",
       "      <td>17627</td>\n",
       "      <td>450</td>\n",
       "      <td>17426</td>\n",
       "      <td>500</td>\n",
       "    </tr>\n",
       "  </tbody>\n",
       "</table>\n",
       "<p>5 rows × 188 columns</p>\n",
       "</div>"
      ],
      "text/plain": [
       "All properties          level_0                                level_1  \\\n",
       "                                                                         \n",
       "0               Inner Melbourne  Albert Park-Middle Park-West St Kilda   \n",
       "1               Inner Melbourne                               Armadale   \n",
       "2               Inner Melbourne                          Carlton North   \n",
       "3               Inner Melbourne                      Carlton-Parkville   \n",
       "4               Inner Melbourne                        CBD-St Kilda Rd   \n",
       "\n",
       "All properties Mar 2000        Jun 2000        Sep 2000        Dec 2000  \\\n",
       "                  Count Median    Count Median    Count Median    Count   \n",
       "0                1143.0  260.0     1134    260   1177.0  270.0   1178.0   \n",
       "1                 733.0  200.0      737    200    738.0  205.0    739.0   \n",
       "2                 864.0  260.0      814    260    799.0  265.0    736.0   \n",
       "3                1339.0  260.0     1304    260   1300.0  260.0   1320.0   \n",
       "4                2132.0  320.0     2264    320   2358.0  320.0   2361.0   \n",
       "\n",
       "All properties         ... Mar 2022        Jun 2022        Sep 2022         \\\n",
       "               Median  ...    Count Median    Count Median    Count Median   \n",
       "0               275.0  ...      867    500      855    515      881    500   \n",
       "1               210.0  ...      805    430      851    450      852    450   \n",
       "2               270.0  ...      581    580      535    595      547    600   \n",
       "3               260.0  ...     6143    310     6018    319     6871    340   \n",
       "4               320.0  ...    17845    365    16792    390    18284    419   \n",
       "\n",
       "All properties Dec 2022        Mar 2023         \n",
       "                  Count Median    Count Median  \n",
       "0                   832    525      786    545  \n",
       "1                   840    460      751    490  \n",
       "2                   546    600      490    620  \n",
       "3                  6627    350     6690    400  \n",
       "4                 17627    450    17426    500  \n",
       "\n",
       "[5 rows x 188 columns]"
      ]
     },
     "execution_count": 44,
     "metadata": {},
     "output_type": "execute_result"
    }
   ],
   "source": [
    "rent_df = rent_df.reset_index()\n",
    "\n",
    "rent_df.head()"
   ]
  },
  {
   "cell_type": "code",
   "execution_count": 45,
   "metadata": {},
   "outputs": [
    {
     "data": {
      "text/plain": [
       "MultiIndex([( 'level_0',       ''),\n",
       "            ( 'level_1',       ''),\n",
       "            ('Mar 2000',  'Count'),\n",
       "            ('Mar 2000', 'Median'),\n",
       "            ('Jun 2000',  'Count'),\n",
       "            ('Jun 2000', 'Median'),\n",
       "            ('Sep 2000',  'Count'),\n",
       "            ('Sep 2000', 'Median'),\n",
       "            ('Dec 2000',  'Count'),\n",
       "            ('Dec 2000', 'Median'),\n",
       "            ...\n",
       "            ('Mar 2022',  'Count'),\n",
       "            ('Mar 2022', 'Median'),\n",
       "            ('Jun 2022',  'Count'),\n",
       "            ('Jun 2022', 'Median'),\n",
       "            ('Sep 2022',  'Count'),\n",
       "            ('Sep 2022', 'Median'),\n",
       "            ('Dec 2022',  'Count'),\n",
       "            ('Dec 2022', 'Median'),\n",
       "            ('Mar 2023',  'Count'),\n",
       "            ('Mar 2023', 'Median')],\n",
       "           names=['All properties', None], length=188)"
      ]
     },
     "execution_count": 45,
     "metadata": {},
     "output_type": "execute_result"
    }
   ],
   "source": [
    "rent_df.columns"
   ]
  },
  {
   "cell_type": "markdown",
   "metadata": {},
   "source": [
    "Combine column headings into one and make them a consistent case"
   ]
  },
  {
   "cell_type": "code",
   "execution_count": 46,
   "metadata": {},
   "outputs": [
    {
     "data": {
      "text/plain": [
       "Index(['level_0_', 'level_1_', 'mar_2000_count', 'mar_2000_median',\n",
       "       'jun_2000_count', 'jun_2000_median', 'sep_2000_count',\n",
       "       'sep_2000_median', 'dec_2000_count', 'dec_2000_median',\n",
       "       ...\n",
       "       'mar_2022_count', 'mar_2022_median', 'jun_2022_count',\n",
       "       'jun_2022_median', 'sep_2022_count', 'sep_2022_median',\n",
       "       'dec_2022_count', 'dec_2022_median', 'mar_2023_count',\n",
       "       'mar_2023_median'],\n",
       "      dtype='object', length=188)"
      ]
     },
     "execution_count": 46,
     "metadata": {},
     "output_type": "execute_result"
    }
   ],
   "source": [
    "rent_df.columns = [f\"{i}_{j}\"\n",
    "                   .lower()             # Convert to lowercase\n",
    "                   .replace(\" \", \"_\")   # Replace spaces with underscores\n",
    "                   for i, j in rent_df.columns]\n",
    "\n",
    "rent_df.columns"
   ]
  },
  {
   "cell_type": "markdown",
   "metadata": {},
   "source": [
    "Rename first two columns to make them compatible with other datasets"
   ]
  },
  {
   "cell_type": "code",
   "execution_count": 47,
   "metadata": {},
   "outputs": [
    {
     "data": {
      "text/plain": [
       "Index(['gcc_name', 'sal_name', 'mar_2000_count', 'mar_2000_median',\n",
       "       'jun_2000_count', 'jun_2000_median', 'sep_2000_count',\n",
       "       'sep_2000_median', 'dec_2000_count', 'dec_2000_median',\n",
       "       ...\n",
       "       'mar_2022_count', 'mar_2022_median', 'jun_2022_count',\n",
       "       'jun_2022_median', 'sep_2022_count', 'sep_2022_median',\n",
       "       'dec_2022_count', 'dec_2022_median', 'mar_2023_count',\n",
       "       'mar_2023_median'],\n",
       "      dtype='object', length=188)"
      ]
     },
     "execution_count": 47,
     "metadata": {},
     "output_type": "execute_result"
    }
   ],
   "source": [
    "rent_df = rent_df.rename(columns = {\"level_0_\": \"gcc_name\", \"level_1_\": \"sal_name\"})\n",
    "\n",
    "rent_df.columns"
   ]
  },
  {
   "cell_type": "markdown",
   "metadata": {},
   "source": [
    "Check data types"
   ]
  },
  {
   "cell_type": "code",
   "execution_count": 48,
   "metadata": {},
   "outputs": [
    {
     "data": {
      "text/plain": [
       "gcc_name            object\n",
       "sal_name            object\n",
       "mar_2000_count     float64\n",
       "mar_2000_median    float64\n",
       "jun_2000_count       int64\n",
       "                    ...   \n",
       "sep_2022_median      int64\n",
       "dec_2022_count       int64\n",
       "dec_2022_median      int64\n",
       "mar_2023_count       int64\n",
       "mar_2023_median      int64\n",
       "Length: 188, dtype: object"
      ]
     },
     "execution_count": 48,
     "metadata": {},
     "output_type": "execute_result"
    }
   ],
   "source": [
    "rent_df.dtypes"
   ]
  },
  {
   "cell_type": "code",
   "execution_count": 49,
   "metadata": {},
   "outputs": [
    {
     "data": {
      "text/plain": [
       "gcc_name    object\n",
       "sal_name    object\n",
       "dtype: object"
      ]
     },
     "execution_count": 49,
     "metadata": {},
     "output_type": "execute_result"
    }
   ],
   "source": [
    "rent_df.dtypes.loc[(rent_df.dtypes != \"float64\") & (rent_df.dtypes != \"int64\")]"
   ]
  },
  {
   "cell_type": "markdown",
   "metadata": {},
   "source": [
    "Save into raw folder"
   ]
  },
  {
   "cell_type": "code",
   "execution_count": 50,
   "metadata": {},
   "outputs": [],
   "source": [
    "output_dir = f\"../data/raw/\"\n",
    "\n",
    "# Create directory\n",
    "if not os.path.exists(output_dir):\n",
    "    os.makedirs(output_dir)\n",
    "\n",
    "# Save file\n",
    "rent_df.to_csv(f\"{output_dir}/suburb_rent_hist.csv\", index = False)"
   ]
  }
 ],
 "metadata": {
  "kernelspec": {
   "display_name": "Python 3",
   "language": "python",
   "name": "python3"
  },
  "language_info": {
   "codemirror_mode": {
    "name": "ipython",
    "version": 3
   },
   "file_extension": ".py",
   "mimetype": "text/x-python",
   "name": "python",
   "nbconvert_exporter": "python",
   "pygments_lexer": "ipython3",
   "version": "3.10.12"
  }
 },
 "nbformat": 4,
 "nbformat_minor": 2
}
