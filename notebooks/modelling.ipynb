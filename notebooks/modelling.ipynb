{
 "cells": [
  {
   "cell_type": "markdown",
   "metadata": {},
   "source": [
    "### Real Estate Property Cost Prediction Modelling\n",
    "\n",
    "#### Overview\n",
    "This notebook aims to analyze and predict real estate property costs using various machine learning models. The analysis includes model training, evaluation, and interpretation of results. The primary goal is to identify the key factors influencing property costs and build a robust predictive model.\n",
    "\n",
    "#### Contents\n",
    "1. **Data Loading and Preprocessing**:\n",
    "    - Load the dataset and perform necessary preprocessing steps such as dropping features and scaling features.\n",
    "\n",
    "2. **Feature Engineering and Selection**:\n",
    "    - Create new features and select the most relevant ones using techniques like backward elimination and Lasso regression.\n",
    "\n",
    "3. **Model Training and Evaluation**:\n",
    "    - Train different machine learning models, including Linear Regression, Lasso Regression, and Gradient Boosting, and evaluate their performance using metrics like RMSE, MAE, and R².\n",
    "\n",
    "4. **Feature Importance Analysis**:\n",
    "    - Analyze the importance of different features in the predictive models to understand the key drivers of property costs.\n",
    "\n",
    "5. **Model Comparison and Selection**:\n",
    "    - Compare the performance of different models and select the best one based on evaluation metrics.\n",
    "\n",
    "6. **Conclusion and Recommendations**:\n",
    "    - Summarize the findings and provide recommendations for future work and potential improvements.\n",
    "\n",
    "#### Key Findings\n",
    "- **Linear Regression**: Provides a baseline model with reasonable performance.\n",
    "- **Lasso Regression**: Performs feature selection by setting some coefficients to zero, simplifying the model.\n",
    "- **Gradient Boosting**: Shows improved performance with an increasing number of trees, capturing more variance in the data.\n",
    "- **Feature Importance**: Identifies key features such as the number of beds, baths, postal code, and travel distance to the CBD as significant predictors of property costs.\n",
    "\n",
    "Produced with assistance from ChatGPT, powered by OpenAI."
   ]
  },
  {
   "cell_type": "code",
   "execution_count": 76,
   "metadata": {},
   "outputs": [],
   "source": [
    "from pyspark.sql import SparkSession, DataFrame\n",
    "from pyspark.ml.feature import VectorAssembler, StandardScaler as SparkStandardScaler\n",
    "from pyspark.ml.regression import LinearRegression, GBTRegressor\n",
    "from pyspark.ml.evaluation import RegressionEvaluator\n",
    "from pyspark.sql.functions import col\n",
    "import pandas as pd\n",
    "import matplotlib.pyplot as plt\n",
    "import seaborn as sns\n",
    "from pyspark.sql import functions as F\n",
    "import scipy.stats as stats\n"
   ]
  },
  {
   "cell_type": "code",
   "execution_count": 77,
   "metadata": {},
   "outputs": [],
   "source": [
    "# Initialize Spark session\n",
    "spark = (\n",
    "    SparkSession.builder.appName(\"Melbourne Real Estate\")\n",
    "    .config(\"spark.sql.repl.eagerEval.enabled\", True)\n",
    "    .config(\"spark.sql.parquet.cacheMetadata\", \"true\")\n",
    "    .config(\"spark.sql.session.timeZone\", \"Etc/UTC\")\n",
    "    .getOrCreate()\n",
    ")"
   ]
  },
  {
   "cell_type": "code",
   "execution_count": 78,
   "metadata": {},
   "outputs": [
    {
     "name": "stdout",
     "output_type": "stream",
     "text": [
      "root\n",
      " |-- postal_code: integer (nullable = true)\n",
      " |-- name: string (nullable = true)\n",
      " |-- property_url: string (nullable = true)\n",
      " |-- beds: integer (nullable = true)\n",
      " |-- baths: integer (nullable = true)\n",
      " |-- parkings: integer (nullable = true)\n",
      " |-- cost: integer (nullable = true)\n",
      " |-- built_in_wardrobes: integer (nullable = true)\n",
      " |-- dishwasher: integer (nullable = true)\n",
      " |-- air_conditioning: integer (nullable = true)\n",
      " |-- floorboards: integer (nullable = true)\n",
      " |-- secure_parking: integer (nullable = true)\n",
      " |-- intercom: integer (nullable = true)\n",
      " |-- heating: integer (nullable = true)\n",
      " |-- ensuite: integer (nullable = true)\n",
      " |-- balcony_deck: integer (nullable = true)\n",
      " |-- gym: integer (nullable = true)\n",
      " |-- furnished: integer (nullable = true)\n",
      " |-- close_to_shops: integer (nullable = true)\n",
      " |-- close_to_transport: integer (nullable = true)\n",
      " |-- fully_fenced: integer (nullable = true)\n",
      " |-- close_to_schools: integer (nullable = true)\n",
      " |-- ducted_heating: integer (nullable = true)\n",
      " |-- split_system_heating: integer (nullable = true)\n",
      " |-- swimming_pool: integer (nullable = true)\n",
      " |-- remote_garage: integer (nullable = true)\n",
      " |-- balcony: integer (nullable = true)\n",
      " |-- study: integer (nullable = true)\n",
      " |-- garden_courtyard: integer (nullable = true)\n",
      " |-- pets_allowed: integer (nullable = true)\n",
      " |-- internal_laundry: integer (nullable = true)\n",
      " |-- alarm_system: integer (nullable = true)\n",
      " |-- prop_type_index: double (nullable = true)\n",
      " |-- parks_count: integer (nullable = true)\n",
      " |-- parks_average_travel_time_mins: double (nullable = true)\n",
      " |-- parks_average_travel_distance_kms: double (nullable = true)\n",
      " |-- parks_time_distance_product: double (nullable = true)\n",
      " |-- schools_count: integer (nullable = true)\n",
      " |-- schools_average_travel_time_mins: double (nullable = true)\n",
      " |-- schools_average_travel_distance_kms: double (nullable = true)\n",
      " |-- schools_time_distance_product: double (nullable = true)\n",
      " |-- supermarkets_count: integer (nullable = true)\n",
      " |-- supermarkets_average_travel_time_mins: double (nullable = true)\n",
      " |-- supermarkets_average_travel_distance_kms: double (nullable = true)\n",
      " |-- supermarkets_time_distance_product: double (nullable = true)\n",
      " |-- hospitals_count: integer (nullable = true)\n",
      " |-- hospitals_average_travel_time_mins: double (nullable = true)\n",
      " |-- hospitals_average_travel_distance_kms: double (nullable = true)\n",
      " |-- hospitals_time_distance_product: double (nullable = true)\n",
      " |-- shopping_districts_count: integer (nullable = true)\n",
      " |-- shopping_districts_average_travel_time_mins: double (nullable = true)\n",
      " |-- shopping_districts_average_travel_distance_kms: double (nullable = true)\n",
      " |-- shopping_districts_time_distance_product: double (nullable = true)\n",
      " |-- cbd_count: integer (nullable = true)\n",
      " |-- cbd_average_travel_time_mins: double (nullable = true)\n",
      " |-- cbd_average_travel_distance_kms: double (nullable = true)\n",
      " |-- cbd_time_distance_product: double (nullable = true)\n",
      " |-- train_stations_count: integer (nullable = true)\n",
      " |-- train_stations_average_travel_time_mins: double (nullable = true)\n",
      " |-- train_stations_average_travel_distance_kms: double (nullable = true)\n",
      " |-- train_stations_time_distance_product: double (nullable = true)\n",
      " |-- mar_2000: double (nullable = true)\n",
      " |-- jun_2000: double (nullable = true)\n",
      " |-- sep_2000: double (nullable = true)\n",
      " |-- dec_2000: double (nullable = true)\n",
      " |-- mar_2001: double (nullable = true)\n",
      " |-- jun_2001: double (nullable = true)\n",
      " |-- sep_2001: double (nullable = true)\n",
      " |-- dec_2001: double (nullable = true)\n",
      " |-- mar_2002: double (nullable = true)\n",
      " |-- jun_2002: double (nullable = true)\n",
      " |-- sep_2002: double (nullable = true)\n",
      " |-- dec_2002: double (nullable = true)\n",
      " |-- mar_2003: double (nullable = true)\n",
      " |-- jun_2003: double (nullable = true)\n",
      " |-- sep_2003: double (nullable = true)\n",
      " |-- dec_2003: double (nullable = true)\n",
      " |-- mar_2004: double (nullable = true)\n",
      " |-- jun_2004: double (nullable = true)\n",
      " |-- sep_2004: double (nullable = true)\n",
      " |-- dec_2004: double (nullable = true)\n",
      " |-- mar_2005: double (nullable = true)\n",
      " |-- jun_2005: double (nullable = true)\n",
      " |-- sep_2005: double (nullable = true)\n",
      " |-- dec_2005: double (nullable = true)\n",
      " |-- mar_2006: double (nullable = true)\n",
      " |-- jun_2006: double (nullable = true)\n",
      " |-- sep_2006: double (nullable = true)\n",
      " |-- dec_2006: double (nullable = true)\n",
      " |-- mar_2007: double (nullable = true)\n",
      " |-- jun_2007: double (nullable = true)\n",
      " |-- sep_2007: double (nullable = true)\n",
      " |-- dec_2007: double (nullable = true)\n",
      " |-- mar_2008: double (nullable = true)\n",
      " |-- jun_2008: double (nullable = true)\n",
      " |-- sep_2008: double (nullable = true)\n",
      " |-- dec_2008: double (nullable = true)\n",
      " |-- mar_2009: double (nullable = true)\n",
      " |-- jun_2009: double (nullable = true)\n",
      " |-- sep_2009: double (nullable = true)\n",
      " |-- dec_2009: double (nullable = true)\n",
      " |-- mar_2010: double (nullable = true)\n",
      " |-- jun_2010: double (nullable = true)\n",
      " |-- sep_2010: double (nullable = true)\n",
      " |-- dec_2010: double (nullable = true)\n",
      " |-- mar_2011: double (nullable = true)\n",
      " |-- jun_2011: double (nullable = true)\n",
      " |-- sep_2011: double (nullable = true)\n",
      " |-- dec_2011: double (nullable = true)\n",
      " |-- mar_2012: double (nullable = true)\n",
      " |-- jun_2012: double (nullable = true)\n",
      " |-- sep_2012: double (nullable = true)\n",
      " |-- dec_2012: double (nullable = true)\n",
      " |-- mar_2013: double (nullable = true)\n",
      " |-- jun_2013: double (nullable = true)\n",
      " |-- sep_2013: double (nullable = true)\n",
      " |-- dec_2013: double (nullable = true)\n",
      " |-- mar_2014: double (nullable = true)\n",
      " |-- jun_2014: double (nullable = true)\n",
      " |-- sep_2014: double (nullable = true)\n",
      " |-- dec_2014: double (nullable = true)\n",
      " |-- mar_2015: double (nullable = true)\n",
      " |-- jun_2015: double (nullable = true)\n",
      " |-- sep_2015: double (nullable = true)\n",
      " |-- dec_2015: double (nullable = true)\n",
      " |-- mar_2016: double (nullable = true)\n",
      " |-- jun_2016: double (nullable = true)\n",
      " |-- sep_2016: double (nullable = true)\n",
      " |-- dec_2016: double (nullable = true)\n",
      " |-- mar_2017: double (nullable = true)\n",
      " |-- jun_2017: double (nullable = true)\n",
      " |-- sep_2017: double (nullable = true)\n",
      " |-- dec_2017: double (nullable = true)\n",
      " |-- mar_2018: double (nullable = true)\n",
      " |-- jun_2018: double (nullable = true)\n",
      " |-- sep_2018: double (nullable = true)\n",
      " |-- dec_2018: double (nullable = true)\n",
      " |-- mar_2019: double (nullable = true)\n",
      " |-- jun_2019: double (nullable = true)\n",
      " |-- sep_2019: double (nullable = true)\n",
      " |-- dec_2019: double (nullable = true)\n",
      " |-- mar_2020: double (nullable = true)\n",
      " |-- jun_2020: double (nullable = true)\n",
      " |-- sep_2020: double (nullable = true)\n",
      " |-- dec_2020: double (nullable = true)\n",
      " |-- mar_2021: double (nullable = true)\n",
      " |-- jun_2021: double (nullable = true)\n",
      " |-- sep_2021: double (nullable = true)\n",
      " |-- dec_2021: double (nullable = true)\n",
      " |-- mar_2022: double (nullable = true)\n",
      " |-- jun_2022: double (nullable = true)\n",
      " |-- sep_2022: double (nullable = true)\n",
      " |-- dec_2022: double (nullable = true)\n",
      " |-- mar_2023: double (nullable = true)\n",
      " |-- annual_increase: double (nullable = true)\n",
      " |-- median_inc: double (nullable = true)\n",
      " |-- 2001_pop: double (nullable = true)\n",
      " |-- 2002_pop: double (nullable = true)\n",
      " |-- 2003_pop: double (nullable = true)\n",
      " |-- 2004_pop: double (nullable = true)\n",
      " |-- 2005_pop: double (nullable = true)\n",
      " |-- 2006_pop: double (nullable = true)\n",
      " |-- 2007_pop: double (nullable = true)\n",
      " |-- 2008_pop: double (nullable = true)\n",
      " |-- 2009_pop: double (nullable = true)\n",
      " |-- 2010_pop: double (nullable = true)\n",
      " |-- 2011_pop: double (nullable = true)\n",
      " |-- 2012_pop: double (nullable = true)\n",
      " |-- 2013_pop: double (nullable = true)\n",
      " |-- 2014_pop: double (nullable = true)\n",
      " |-- 2015_pop: double (nullable = true)\n",
      " |-- 2016_pop: double (nullable = true)\n",
      " |-- 2017_pop: double (nullable = true)\n",
      " |-- 2018_pop: double (nullable = true)\n",
      " |-- 2019_pop: double (nullable = true)\n",
      " |-- 2020_pop: double (nullable = true)\n",
      " |-- 2021_pop: double (nullable = true)\n",
      " |-- 2022_pop: double (nullable = true)\n",
      " |-- 2023_pop: double (nullable = true)\n",
      " |-- pop_growth: double (nullable = true)\n",
      " |-- increase_2002_pop: double (nullable = true)\n",
      " |-- increase_2003_pop: double (nullable = true)\n",
      " |-- increase_2004_pop: double (nullable = true)\n",
      " |-- increase_2005_pop: double (nullable = true)\n",
      " |-- increase_2006_pop: double (nullable = true)\n",
      " |-- increase_2007_pop: double (nullable = true)\n",
      " |-- increase_2008_pop: double (nullable = true)\n",
      " |-- increase_2009_pop: double (nullable = true)\n",
      " |-- increase_2010_pop: double (nullable = true)\n",
      " |-- increase_2011_pop: double (nullable = true)\n",
      " |-- increase_2012_pop: double (nullable = true)\n",
      " |-- increase_2013_pop: double (nullable = true)\n",
      " |-- increase_2014_pop: double (nullable = true)\n",
      " |-- increase_2015_pop: double (nullable = true)\n",
      " |-- increase_2016_pop: double (nullable = true)\n",
      " |-- increase_2017_pop: double (nullable = true)\n",
      " |-- increase_2018_pop: double (nullable = true)\n",
      " |-- increase_2019_pop: double (nullable = true)\n",
      " |-- increase_2020_pop: double (nullable = true)\n",
      " |-- increase_2021_pop: double (nullable = true)\n",
      " |-- increase_2022_pop: double (nullable = true)\n",
      " |-- increase_2023_pop: double (nullable = true)\n",
      " |-- mean_population_increase_rate: double (nullable = true)\n",
      " |-- normalized_livability_score: integer (nullable = true)\n",
      " |-- affordability_score: float (nullable = true)\n",
      " |-- combined_score: double (nullable = true)\n",
      "\n"
     ]
    }
   ],
   "source": [
    "# Read the Parquet file into a Spark DataFrame\n",
    "sdf = spark.read.parquet(\"../data/curated/prop_cleaned2.parquet\")\n",
    "sdf.printSchema()"
   ]
  },
  {
   "cell_type": "code",
   "execution_count": 79,
   "metadata": {},
   "outputs": [
    {
     "name": "stdout",
     "output_type": "stream",
     "text": [
      "Shape of the DataFrame: 9621 rows, 206 columns.\n"
     ]
    }
   ],
   "source": [
    "def shape(sdf: DataFrame) -> None:\n",
    "    \"\"\"\n",
    "    Returns the shape of a Spark DataFrame as a tuple (number of rows, number of columns).\n",
    "    \"\"\"\n",
    "    num_rows = sdf.count()\n",
    "    num_columns = len(sdf.columns)\n",
    "    print(f\"Shape of the DataFrame: {num_rows} rows, {num_columns} columns.\")\n",
    "\n",
    "shape(sdf)"
   ]
  },
  {
   "cell_type": "code",
   "execution_count": 80,
   "metadata": {},
   "outputs": [],
   "source": [
    "sdf = sdf.drop('name', 'property_url', 'affordability_score', 'combined_score')"
   ]
  },
  {
   "cell_type": "code",
   "execution_count": 81,
   "metadata": {},
   "outputs": [
    {
     "name": "stdout",
     "output_type": "stream",
     "text": [
      "Shape of the DataFrame: 9621 rows, 202 columns.\n"
     ]
    }
   ],
   "source": [
    "shape(sdf)"
   ]
  },
  {
   "cell_type": "code",
   "execution_count": 82,
   "metadata": {},
   "outputs": [],
   "source": [
    "# Get all the columns in sdf except 'cost', 'name' and 'property_url'\n",
    "feature_columns = [col for col in sdf.columns if col not in ['cost']]"
   ]
  },
  {
   "cell_type": "code",
   "execution_count": 83,
   "metadata": {},
   "outputs": [
    {
     "name": "stdout",
     "output_type": "stream",
     "text": [
      "['postal_code', 'beds', 'baths', 'parkings', 'built_in_wardrobes', 'dishwasher', 'air_conditioning', 'floorboards', 'secure_parking', 'intercom', 'heating', 'ensuite', 'balcony_deck', 'gym', 'furnished', 'close_to_shops', 'close_to_transport', 'fully_fenced', 'close_to_schools', 'ducted_heating', 'split_system_heating', 'swimming_pool', 'remote_garage', 'balcony', 'study', 'garden_courtyard', 'pets_allowed', 'internal_laundry', 'alarm_system', 'prop_type_index', 'parks_count', 'parks_average_travel_time_mins', 'parks_average_travel_distance_kms', 'parks_time_distance_product', 'schools_count', 'schools_average_travel_time_mins', 'schools_average_travel_distance_kms', 'schools_time_distance_product', 'supermarkets_count', 'supermarkets_average_travel_time_mins', 'supermarkets_average_travel_distance_kms', 'supermarkets_time_distance_product', 'hospitals_count', 'hospitals_average_travel_time_mins', 'hospitals_average_travel_distance_kms', 'hospitals_time_distance_product', 'shopping_districts_count', 'shopping_districts_average_travel_time_mins', 'shopping_districts_average_travel_distance_kms', 'shopping_districts_time_distance_product', 'cbd_count', 'cbd_average_travel_time_mins', 'cbd_average_travel_distance_kms', 'cbd_time_distance_product', 'train_stations_count', 'train_stations_average_travel_time_mins', 'train_stations_average_travel_distance_kms', 'train_stations_time_distance_product', 'mar_2000', 'jun_2000', 'sep_2000', 'dec_2000', 'mar_2001', 'jun_2001', 'sep_2001', 'dec_2001', 'mar_2002', 'jun_2002', 'sep_2002', 'dec_2002', 'mar_2003', 'jun_2003', 'sep_2003', 'dec_2003', 'mar_2004', 'jun_2004', 'sep_2004', 'dec_2004', 'mar_2005', 'jun_2005', 'sep_2005', 'dec_2005', 'mar_2006', 'jun_2006', 'sep_2006', 'dec_2006', 'mar_2007', 'jun_2007', 'sep_2007', 'dec_2007', 'mar_2008', 'jun_2008', 'sep_2008', 'dec_2008', 'mar_2009', 'jun_2009', 'sep_2009', 'dec_2009', 'mar_2010', 'jun_2010', 'sep_2010', 'dec_2010', 'mar_2011', 'jun_2011', 'sep_2011', 'dec_2011', 'mar_2012', 'jun_2012', 'sep_2012', 'dec_2012', 'mar_2013', 'jun_2013', 'sep_2013', 'dec_2013', 'mar_2014', 'jun_2014', 'sep_2014', 'dec_2014', 'mar_2015', 'jun_2015', 'sep_2015', 'dec_2015', 'mar_2016', 'jun_2016', 'sep_2016', 'dec_2016', 'mar_2017', 'jun_2017', 'sep_2017', 'dec_2017', 'mar_2018', 'jun_2018', 'sep_2018', 'dec_2018', 'mar_2019', 'jun_2019', 'sep_2019', 'dec_2019', 'mar_2020', 'jun_2020', 'sep_2020', 'dec_2020', 'mar_2021', 'jun_2021', 'sep_2021', 'dec_2021', 'mar_2022', 'jun_2022', 'sep_2022', 'dec_2022', 'mar_2023', 'annual_increase', 'median_inc', '2001_pop', '2002_pop', '2003_pop', '2004_pop', '2005_pop', '2006_pop', '2007_pop', '2008_pop', '2009_pop', '2010_pop', '2011_pop', '2012_pop', '2013_pop', '2014_pop', '2015_pop', '2016_pop', '2017_pop', '2018_pop', '2019_pop', '2020_pop', '2021_pop', '2022_pop', '2023_pop', 'pop_growth', 'increase_2002_pop', 'increase_2003_pop', 'increase_2004_pop', 'increase_2005_pop', 'increase_2006_pop', 'increase_2007_pop', 'increase_2008_pop', 'increase_2009_pop', 'increase_2010_pop', 'increase_2011_pop', 'increase_2012_pop', 'increase_2013_pop', 'increase_2014_pop', 'increase_2015_pop', 'increase_2016_pop', 'increase_2017_pop', 'increase_2018_pop', 'increase_2019_pop', 'increase_2020_pop', 'increase_2021_pop', 'increase_2022_pop', 'increase_2023_pop', 'mean_population_increase_rate', 'normalized_livability_score']\n"
     ]
    }
   ],
   "source": [
    "print(feature_columns)"
   ]
  },
  {
   "cell_type": "code",
   "execution_count": 84,
   "metadata": {},
   "outputs": [
    {
     "name": "stdout",
     "output_type": "stream",
     "text": [
      "+----+-----------+----+-----+--------+------------------+----------+----------------+-----------+--------------+--------+-------+-------+------------+---+---------+--------------+------------------+------------+----------------+--------------+--------------------+-------------+-------------+-------+-----+----------------+------------+----------------+------------+---------------+-----------+------------------------------+---------------------------------+---------------------------+-------------+--------------------------------+-----------------------------------+-----------------------------+------------------+-------------------------------------+----------------------------------------+----------------------------------+---------------+----------------------------------+-------------------------------------+-------------------------------+------------------------+-------------------------------------------+----------------------------------------------+----------------------------------------+---------+----------------------------+-------------------------------+-------------------------+--------------------+---------------------------------------+------------------------------------------+------------------------------------+--------+--------+--------+--------+--------+--------+--------+--------+--------+--------+--------+--------+--------+--------+--------+--------+--------+--------+--------+--------+--------+--------+--------+--------+--------+--------+--------+--------+--------+--------+--------+--------+--------+--------+--------+--------+--------+--------+--------+--------+--------+--------+--------+--------+--------+--------+--------+--------+--------+--------+--------+--------+--------+--------+--------+--------+--------+--------+--------+--------+--------+--------+--------+--------+--------+--------+--------+--------+--------+--------+--------+--------+--------+--------+--------+--------+--------+--------+--------+--------+--------+--------+--------+--------+--------+--------+--------+--------+--------+--------+--------+--------+--------+------------------+-----------------+------------------+------------------+------------------+-----------------+-----------------+-----------------+-----------------+------------------+-----------------+-----------------+-----------------+-----------------+------------------+------------------+------------------+------------------+-----------------+------------------+------------------+------------------+-----------------+------------------+-----------------+----------------+------------------+------------------+------------------+------------------+-----------------+-----------------+-----------------+-----------------+-----------------+-----------------+-----------------+-----------------+------------------+------------------+------------------+------------------+-----------------+------------------+------------------+-------------------+-----------------+------------------+-----------------------------+---------------------------+--------------------+\n",
      "|cost|postal_code|beds|baths|parkings|built_in_wardrobes|dishwasher|air_conditioning|floorboards|secure_parking|intercom|heating|ensuite|balcony_deck|gym|furnished|close_to_shops|close_to_transport|fully_fenced|close_to_schools|ducted_heating|split_system_heating|swimming_pool|remote_garage|balcony|study|garden_courtyard|pets_allowed|internal_laundry|alarm_system|prop_type_index|parks_count|parks_average_travel_time_mins|parks_average_travel_distance_kms|parks_time_distance_product|schools_count|schools_average_travel_time_mins|schools_average_travel_distance_kms|schools_time_distance_product|supermarkets_count|supermarkets_average_travel_time_mins|supermarkets_average_travel_distance_kms|supermarkets_time_distance_product|hospitals_count|hospitals_average_travel_time_mins|hospitals_average_travel_distance_kms|hospitals_time_distance_product|shopping_districts_count|shopping_districts_average_travel_time_mins|shopping_districts_average_travel_distance_kms|shopping_districts_time_distance_product|cbd_count|cbd_average_travel_time_mins|cbd_average_travel_distance_kms|cbd_time_distance_product|train_stations_count|train_stations_average_travel_time_mins|train_stations_average_travel_distance_kms|train_stations_time_distance_product|mar_2000|jun_2000|sep_2000|dec_2000|mar_2001|jun_2001|sep_2001|dec_2001|mar_2002|jun_2002|sep_2002|dec_2002|mar_2003|jun_2003|sep_2003|dec_2003|mar_2004|jun_2004|sep_2004|dec_2004|mar_2005|jun_2005|sep_2005|dec_2005|mar_2006|jun_2006|sep_2006|dec_2006|mar_2007|jun_2007|sep_2007|dec_2007|mar_2008|jun_2008|sep_2008|dec_2008|mar_2009|jun_2009|sep_2009|dec_2009|mar_2010|jun_2010|sep_2010|dec_2010|mar_2011|jun_2011|sep_2011|dec_2011|mar_2012|jun_2012|sep_2012|dec_2012|mar_2013|jun_2013|sep_2013|dec_2013|mar_2014|jun_2014|sep_2014|dec_2014|mar_2015|jun_2015|sep_2015|dec_2015|mar_2016|jun_2016|sep_2016|dec_2016|mar_2017|jun_2017|sep_2017|dec_2017|mar_2018|jun_2018|sep_2018|dec_2018|mar_2019|jun_2019|sep_2019|dec_2019|mar_2020|jun_2020|sep_2020|dec_2020|mar_2021|jun_2021|sep_2021|dec_2021|mar_2022|jun_2022|sep_2022|dec_2022|mar_2023|   annual_increase|       median_inc|          2001_pop|          2002_pop|          2003_pop|         2004_pop|         2005_pop|         2006_pop|         2007_pop|          2008_pop|         2009_pop|         2010_pop|         2011_pop|         2012_pop|          2013_pop|          2014_pop|          2015_pop|          2016_pop|         2017_pop|          2018_pop|          2019_pop|          2020_pop|         2021_pop|          2022_pop|         2023_pop|      pop_growth| increase_2002_pop| increase_2003_pop| increase_2004_pop| increase_2005_pop|increase_2006_pop|increase_2007_pop|increase_2008_pop|increase_2009_pop|increase_2010_pop|increase_2011_pop|increase_2012_pop|increase_2013_pop| increase_2014_pop| increase_2015_pop| increase_2016_pop| increase_2017_pop|increase_2018_pop| increase_2019_pop| increase_2020_pop|  increase_2021_pop|increase_2022_pop| increase_2023_pop|mean_population_increase_rate|normalized_livability_score|            features|\n",
      "+----+-----------+----+-----+--------+------------------+----------+----------------+-----------+--------------+--------+-------+-------+------------+---+---------+--------------+------------------+------------+----------------+--------------+--------------------+-------------+-------------+-------+-----+----------------+------------+----------------+------------+---------------+-----------+------------------------------+---------------------------------+---------------------------+-------------+--------------------------------+-----------------------------------+-----------------------------+------------------+-------------------------------------+----------------------------------------+----------------------------------+---------------+----------------------------------+-------------------------------------+-------------------------------+------------------------+-------------------------------------------+----------------------------------------------+----------------------------------------+---------+----------------------------+-------------------------------+-------------------------+--------------------+---------------------------------------+------------------------------------------+------------------------------------+--------+--------+--------+--------+--------+--------+--------+--------+--------+--------+--------+--------+--------+--------+--------+--------+--------+--------+--------+--------+--------+--------+--------+--------+--------+--------+--------+--------+--------+--------+--------+--------+--------+--------+--------+--------+--------+--------+--------+--------+--------+--------+--------+--------+--------+--------+--------+--------+--------+--------+--------+--------+--------+--------+--------+--------+--------+--------+--------+--------+--------+--------+--------+--------+--------+--------+--------+--------+--------+--------+--------+--------+--------+--------+--------+--------+--------+--------+--------+--------+--------+--------+--------+--------+--------+--------+--------+--------+--------+--------+--------+--------+--------+------------------+-----------------+------------------+------------------+------------------+-----------------+-----------------+-----------------+-----------------+------------------+-----------------+-----------------+-----------------+-----------------+------------------+------------------+------------------+------------------+-----------------+------------------+------------------+------------------+-----------------+------------------+-----------------+----------------+------------------+------------------+------------------+------------------+-----------------+-----------------+-----------------+-----------------+-----------------+-----------------+-----------------+-----------------+------------------+------------------+------------------+------------------+-----------------+------------------+------------------+-------------------+-----------------+------------------+-----------------------------+---------------------------+--------------------+\n",
      "| 530|       3000|   1|    1|       1|                 1|         1|               1|          0|             0|       1|      0|      0|           0|  1|        0|             0|                 0|           0|               0|             0|                   0|            1|            0|      0|    0|               0|           1|               0|           0|            0.0|          0|                          8.65|                             2.99|                    20.8088|            6|              3.0060000000000002|                              1.232|                     3.703392|                20|                   1.9064999999999999|                                   0.785|                         1.4966025|              0|                              8.31|                                  3.0|                        22.5201|                      10|                                      2.098|                            0.7939999999999998|                      1.6658119999999994|        1|                        1.75|                           0.61|                   1.0675|                   0|                                   7.64|                                       3.0|                  21.154600000000002|   320.0|   320.0|   320.0|   320.0|   320.0|   320.0|   320.0|   320.0|   320.0|   320.0|   320.0|   320.0|   310.0|   310.0|   300.0|   300.0|   300.0|   300.0|   300.0|   300.0|   300.0|   303.0|   303.0|   310.0|   310.0|   315.0|   320.0|   320.0|   340.0|   350.0|   350.0|   360.0|   370.0|   380.0|   390.0|   399.0|   400.0|   400.0|   401.0|   400.0|   410.0|   410.0|   420.0|   420.0|   420.0|   430.0|   430.0|   430.0|   440.0|   440.0|   440.0|   445.0|   450.0|   449.0|   440.0|   435.0|   430.0|   435.0|   435.0|   440.0|   440.0|   440.0|   440.0|   445.0|   450.0|   450.0|   450.0|   460.0|   470.0|   480.0|   480.0|   490.0|   495.0|   495.0|   490.0|   495.0|   500.0|   500.0|   510.0|   510.0|   510.0|   495.0|   460.0|   420.0|   380.0|   369.0|   350.0|   350.0|   365.0|   390.0|   419.0|   450.0|   500.0|1.7891498549299083|37178.98796086856|2765.1027972198463|3397.0682618193173|3974.3456363159776|4412.431879005364|4941.097475245617|5325.229386523603|5663.613477302199|6035.5852674143025|6511.956555365855|7054.793261296117|7537.803169266871|8503.231610757353|10071.195460070852|11354.612922228534|12495.778158607107|13477.042177746585|14980.66057156676|15930.057692101736|16551.086248741358|16685.739593564667|14337.64704686607|15406.927213875271|17775.11750504633|11.3441226802939|22.855044131989466|16.993399308010858|11.022852131589408|11.981274968927632|7.774222492117336|6.354357084315159|6.567746750424231|7.892710762010891|8.336000114788298|6.846549432151821|12.80782238287578|18.43962297028207|12.743447063916413|10.050234597998076|7.8527644031803066|11.156887201132028|6.337485026107123|3.8984702293170783|0.8135619789519815|-14.072451110313422|7.457849698168746|15.370944889246314|            9.067308932144892|                         69|[3000.0,1.0,1.0,1...|\n",
      "| 620|       3000|   2|    1|       1|                 0|         0|               0|          0|             0|       0|      0|      0|           0|  0|        1|             0|                 0|           0|               0|             0|                   0|            0|            0|      0|    0|               0|           0|               0|           0|            0.0|         17|                          3.94|               1.6866666666666665|          6.645466666666666|            3|              2.4433333333333334|                 0.9666666666666668|            2.361888888888889|                17|                                2.515|                                1.099375|                       2.764928125|              0|                              8.31|                                  3.0|                        22.5201|                       9|                                      2.934|                            1.2559999999999998|                      3.6851039999999995|        1|                        3.29|                           1.29|                   4.2441|                   3|                                   3.57|                                      1.66|                              5.9262|   320.0|   320.0|   320.0|   320.0|   320.0|   320.0|   320.0|   320.0|   320.0|   320.0|   320.0|   320.0|   310.0|   310.0|   300.0|   300.0|   300.0|   300.0|   300.0|   300.0|   300.0|   303.0|   303.0|   310.0|   310.0|   315.0|   320.0|   320.0|   340.0|   350.0|   350.0|   360.0|   370.0|   380.0|   390.0|   399.0|   400.0|   400.0|   401.0|   400.0|   410.0|   410.0|   420.0|   420.0|   420.0|   430.0|   430.0|   430.0|   440.0|   440.0|   440.0|   445.0|   450.0|   449.0|   440.0|   435.0|   430.0|   435.0|   435.0|   440.0|   440.0|   440.0|   440.0|   445.0|   450.0|   450.0|   450.0|   460.0|   470.0|   480.0|   480.0|   490.0|   495.0|   495.0|   490.0|   495.0|   500.0|   500.0|   510.0|   510.0|   510.0|   495.0|   460.0|   420.0|   380.0|   369.0|   350.0|   350.0|   365.0|   390.0|   419.0|   450.0|   500.0|1.7891498549299083|37178.98796086856|2765.1027972198463|3397.0682618193173|3974.3456363159776|4412.431879005364|4941.097475245617|5325.229386523603|5663.613477302199|6035.5852674143025|6511.956555365855|7054.793261296117|7537.803169266871|8503.231610757353|10071.195460070852|11354.612922228534|12495.778158607107|13477.042177746585|14980.66057156676|15930.057692101736|16551.086248741358|16685.739593564667|14337.64704686607|15406.927213875271|17775.11750504633|11.3441226802939|22.855044131989466|16.993399308010858|11.022852131589408|11.981274968927632|7.774222492117336|6.354357084315159|6.567746750424231|7.892710762010891|8.336000114788298|6.846549432151821|12.80782238287578|18.43962297028207|12.743447063916413|10.050234597998076|7.8527644031803066|11.156887201132028|6.337485026107123|3.8984702293170783|0.8135619789519815|-14.072451110313422|7.457849698168746|15.370944889246314|            9.067308932144892|                         91|[3000.0,2.0,1.0,1...|\n",
      "| 630|       3000|   2|    1|       1|                 0|         0|               0|          0|             0|       0|      0|      0|           0|  0|        0|             0|                 0|           0|               0|             0|                   0|            0|            0|      0|    0|               0|           0|               0|           0|            0.0|          0|                          8.65|                             2.99|                    20.8088|            3|                             3.6|                               1.17|                        4.212|                16|                                2.255|                                0.859375|                1.9378906249999999|              6|                              2.77|                                1.068|             2.9583600000000003|                      10|                         2.8939999999999997|                                         1.256|                      3.6348639999999994|        1|                        2.68|                            1.2|                    3.216|                   0|                                   7.64|                                       3.0|                  21.154600000000002|   320.0|   320.0|   320.0|   320.0|   320.0|   320.0|   320.0|   320.0|   320.0|   320.0|   320.0|   320.0|   310.0|   310.0|   300.0|   300.0|   300.0|   300.0|   300.0|   300.0|   300.0|   303.0|   303.0|   310.0|   310.0|   315.0|   320.0|   320.0|   340.0|   350.0|   350.0|   360.0|   370.0|   380.0|   390.0|   399.0|   400.0|   400.0|   401.0|   400.0|   410.0|   410.0|   420.0|   420.0|   420.0|   430.0|   430.0|   430.0|   440.0|   440.0|   440.0|   445.0|   450.0|   449.0|   440.0|   435.0|   430.0|   435.0|   435.0|   440.0|   440.0|   440.0|   440.0|   445.0|   450.0|   450.0|   450.0|   460.0|   470.0|   480.0|   480.0|   490.0|   495.0|   495.0|   490.0|   495.0|   500.0|   500.0|   510.0|   510.0|   510.0|   495.0|   460.0|   420.0|   380.0|   369.0|   350.0|   350.0|   365.0|   390.0|   419.0|   450.0|   500.0|1.7891498549299083|37178.98796086856|2765.1027972198463|3397.0682618193173|3974.3456363159776|4412.431879005364|4941.097475245617|5325.229386523603|5663.613477302199|6035.5852674143025|6511.956555365855|7054.793261296117|7537.803169266871|8503.231610757353|10071.195460070852|11354.612922228534|12495.778158607107|13477.042177746585|14980.66057156676|15930.057692101736|16551.086248741358|16685.739593564667|14337.64704686607|15406.927213875271|17775.11750504633|11.3441226802939|22.855044131989466|16.993399308010858|11.022852131589408|11.981274968927632|7.774222492117336|6.354357084315159|6.567746750424231|7.892710762010891|8.336000114788298|6.846549432151821|12.80782238287578|18.43962297028207|12.743447063916413|10.050234597998076|7.8527644031803066|11.156887201132028|6.337485026107123|3.8984702293170783|0.8135619789519815|-14.072451110313422|7.457849698168746|15.370944889246314|            9.067308932144892|                         67|[3000.0,2.0,1.0,1...|\n",
      "| 800|       3000|   2|    2|       1|                 0|         0|               0|          0|             0|       0|      0|      0|           0|  1|        0|             0|                 0|           0|               0|             0|                   0|            1|            0|      0|    0|               0|           0|               0|           0|            0.0|         17|                          3.94|               1.6866666666666665|          6.645466666666666|            3|              2.4433333333333334|                 0.9666666666666668|            2.361888888888889|                17|                                2.515|                                1.099375|                       2.764928125|              0|                              8.31|                                  3.0|                        22.5201|                       9|                                      2.934|                            1.2559999999999998|                      3.6851039999999995|        1|                        3.29|                           1.29|                   4.2441|                   3|                                   3.57|                                      1.66|                              5.9262|   320.0|   320.0|   320.0|   320.0|   320.0|   320.0|   320.0|   320.0|   320.0|   320.0|   320.0|   320.0|   310.0|   310.0|   300.0|   300.0|   300.0|   300.0|   300.0|   300.0|   300.0|   303.0|   303.0|   310.0|   310.0|   315.0|   320.0|   320.0|   340.0|   350.0|   350.0|   360.0|   370.0|   380.0|   390.0|   399.0|   400.0|   400.0|   401.0|   400.0|   410.0|   410.0|   420.0|   420.0|   420.0|   430.0|   430.0|   430.0|   440.0|   440.0|   440.0|   445.0|   450.0|   449.0|   440.0|   435.0|   430.0|   435.0|   435.0|   440.0|   440.0|   440.0|   440.0|   445.0|   450.0|   450.0|   450.0|   460.0|   470.0|   480.0|   480.0|   490.0|   495.0|   495.0|   490.0|   495.0|   500.0|   500.0|   510.0|   510.0|   510.0|   495.0|   460.0|   420.0|   380.0|   369.0|   350.0|   350.0|   365.0|   390.0|   419.0|   450.0|   500.0|1.7891498549299083|37178.98796086856|2765.1027972198463|3397.0682618193173|3974.3456363159776|4412.431879005364|4941.097475245617|5325.229386523603|5663.613477302199|6035.5852674143025|6511.956555365855|7054.793261296117|7537.803169266871|8503.231610757353|10071.195460070852|11354.612922228534|12495.778158607107|13477.042177746585|14980.66057156676|15930.057692101736|16551.086248741358|16685.739593564667|14337.64704686607|15406.927213875271|17775.11750504633|11.3441226802939|22.855044131989466|16.993399308010858|11.022852131589408|11.981274968927632|7.774222492117336|6.354357084315159|6.567746750424231|7.892710762010891|8.336000114788298|6.846549432151821|12.80782238287578|18.43962297028207|12.743447063916413|10.050234597998076|7.8527644031803066|11.156887201132028|6.337485026107123|3.8984702293170783|0.8135619789519815|-14.072451110313422|7.457849698168746|15.370944889246314|            9.067308932144892|                         91|[3000.0,2.0,2.0,1...|\n",
      "| 380|       3000|   1|    1|       1|                 0|         0|               0|          0|             0|       0|      0|      0|           0|  0|        0|             0|                 0|           0|               0|             0|                   0|            0|            0|      0|    0|               0|           0|               0|           0|            0.0|          0|                          8.65|                             2.99|                    20.8088|            9|               3.115714285714286|                 1.1071428571428572|            3.449540816326531|                17|                   2.4576470588235293|                      0.9235294117647058|                2.2697093425605535|              8|                             2.845|                   0.9866666666666667|              2.807066666666667|                       6|                                       3.27|                                          1.24|                                  4.0548|        1|                        3.75|                           1.42|        5.324999999999999|                   0|                                   7.64|                                       3.0|                  21.154600000000002|   320.0|   320.0|   320.0|   320.0|   320.0|   320.0|   320.0|   320.0|   320.0|   320.0|   320.0|   320.0|   310.0|   310.0|   300.0|   300.0|   300.0|   300.0|   300.0|   300.0|   300.0|   303.0|   303.0|   310.0|   310.0|   315.0|   320.0|   320.0|   340.0|   350.0|   350.0|   360.0|   370.0|   380.0|   390.0|   399.0|   400.0|   400.0|   401.0|   400.0|   410.0|   410.0|   420.0|   420.0|   420.0|   430.0|   430.0|   430.0|   440.0|   440.0|   440.0|   445.0|   450.0|   449.0|   440.0|   435.0|   430.0|   435.0|   435.0|   440.0|   440.0|   440.0|   440.0|   445.0|   450.0|   450.0|   450.0|   460.0|   470.0|   480.0|   480.0|   490.0|   495.0|   495.0|   490.0|   495.0|   500.0|   500.0|   510.0|   510.0|   510.0|   495.0|   460.0|   420.0|   380.0|   369.0|   350.0|   350.0|   365.0|   390.0|   419.0|   450.0|   500.0|1.7891498549299083|37178.98796086856|2765.1027972198463|3397.0682618193173|3974.3456363159776|4412.431879005364|4941.097475245617|5325.229386523603|5663.613477302199|6035.5852674143025|6511.956555365855|7054.793261296117|7537.803169266871|8503.231610757353|10071.195460070852|11354.612922228534|12495.778158607107|13477.042177746585|14980.66057156676|15930.057692101736|16551.086248741358|16685.739593564667|14337.64704686607|15406.927213875271|17775.11750504633|11.3441226802939|22.855044131989466|16.993399308010858|11.022852131589408|11.981274968927632|7.774222492117336|6.354357084315159|6.567746750424231|7.892710762010891|8.336000114788298|6.846549432151821|12.80782238287578|18.43962297028207|12.743447063916413|10.050234597998076|7.8527644031803066|11.156887201132028|6.337485026107123|3.8984702293170783|0.8135619789519815|-14.072451110313422|7.457849698168746|15.370944889246314|            9.067308932144892|                         73|[3000.0,1.0,1.0,1...|\n",
      "| 460|       3000|   1|    1|       1|                 0|         0|               0|          0|             0|       0|      0|      0|           0|  0|        0|             0|                 0|           0|               0|             0|                   0|            0|            0|      0|    0|               0|           0|               0|           0|            0.0|          0|                          8.65|                             2.99|                    20.8088|            3|               3.813333333333333|                 1.2166666666666666|            4.639555555555555|                16|                   2.5881249999999993|                      0.9918750000000001|                2.5670964843749995|              6|                             2.978|                                1.096|             3.2638880000000006|                      10|                                      3.414|                                          1.42|                                 4.84788|        1|                         3.2|                           1.37|                    4.384|                   4|                                    4.1|                                      1.72|                               7.052|   320.0|   320.0|   320.0|   320.0|   320.0|   320.0|   320.0|   320.0|   320.0|   320.0|   320.0|   320.0|   310.0|   310.0|   300.0|   300.0|   300.0|   300.0|   300.0|   300.0|   300.0|   303.0|   303.0|   310.0|   310.0|   315.0|   320.0|   320.0|   340.0|   350.0|   350.0|   360.0|   370.0|   380.0|   390.0|   399.0|   400.0|   400.0|   401.0|   400.0|   410.0|   410.0|   420.0|   420.0|   420.0|   430.0|   430.0|   430.0|   440.0|   440.0|   440.0|   445.0|   450.0|   449.0|   440.0|   435.0|   430.0|   435.0|   435.0|   440.0|   440.0|   440.0|   440.0|   445.0|   450.0|   450.0|   450.0|   460.0|   470.0|   480.0|   480.0|   490.0|   495.0|   495.0|   490.0|   495.0|   500.0|   500.0|   510.0|   510.0|   510.0|   495.0|   460.0|   420.0|   380.0|   369.0|   350.0|   350.0|   365.0|   390.0|   419.0|   450.0|   500.0|1.7891498549299083|37178.98796086856|2765.1027972198463|3397.0682618193173|3974.3456363159776|4412.431879005364|4941.097475245617|5325.229386523603|5663.613477302199|6035.5852674143025|6511.956555365855|7054.793261296117|7537.803169266871|8503.231610757353|10071.195460070852|11354.612922228534|12495.778158607107|13477.042177746585|14980.66057156676|15930.057692101736|16551.086248741358|16685.739593564667|14337.64704686607|15406.927213875271|17775.11750504633|11.3441226802939|22.855044131989466|16.993399308010858|11.022852131589408|11.981274968927632|7.774222492117336|6.354357084315159|6.567746750424231|7.892710762010891|8.336000114788298|6.846549432151821|12.80782238287578|18.43962297028207|12.743447063916413|10.050234597998076|7.8527644031803066|11.156887201132028|6.337485026107123|3.8984702293170783|0.8135619789519815|-14.072451110313422|7.457849698168746|15.370944889246314|            9.067308932144892|                         84|[3000.0,1.0,1.0,1...|\n",
      "| 490|       3000|   1|    1|       1|                 1|         0|               1|          0|             0|       0|      0|      0|           0|  1|        0|             0|                 0|           0|               0|             0|                   0|            1|            0|      0|    0|               0|           0|               0|           0|            0.0|         21|             4.013333333333333|               1.7299999999999998|          6.943066666666665|            5|                           3.295|                             1.2725|            4.192887499999999|                15|                   2.3892857142857147|                      1.0800000000000003|                2.5804285714285724|              0|                              8.31|                                  3.0|                        22.5201|                       8|                                     3.0075|                                        1.3025|                              3.91726875|        1|                        3.12|                           1.31|                   4.0872|                   3|                                    3.7|                                      1.72|                               6.364|   320.0|   320.0|   320.0|   320.0|   320.0|   320.0|   320.0|   320.0|   320.0|   320.0|   320.0|   320.0|   310.0|   310.0|   300.0|   300.0|   300.0|   300.0|   300.0|   300.0|   300.0|   303.0|   303.0|   310.0|   310.0|   315.0|   320.0|   320.0|   340.0|   350.0|   350.0|   360.0|   370.0|   380.0|   390.0|   399.0|   400.0|   400.0|   401.0|   400.0|   410.0|   410.0|   420.0|   420.0|   420.0|   430.0|   430.0|   430.0|   440.0|   440.0|   440.0|   445.0|   450.0|   449.0|   440.0|   435.0|   430.0|   435.0|   435.0|   440.0|   440.0|   440.0|   440.0|   445.0|   450.0|   450.0|   450.0|   460.0|   470.0|   480.0|   480.0|   490.0|   495.0|   495.0|   490.0|   495.0|   500.0|   500.0|   510.0|   510.0|   510.0|   495.0|   460.0|   420.0|   380.0|   369.0|   350.0|   350.0|   365.0|   390.0|   419.0|   450.0|   500.0|1.7891498549299083|37178.98796086856|2765.1027972198463|3397.0682618193173|3974.3456363159776|4412.431879005364|4941.097475245617|5325.229386523603|5663.613477302199|6035.5852674143025|6511.956555365855|7054.793261296117|7537.803169266871|8503.231610757353|10071.195460070852|11354.612922228534|12495.778158607107|13477.042177746585|14980.66057156676|15930.057692101736|16551.086248741358|16685.739593564667|14337.64704686607|15406.927213875271|17775.11750504633|11.3441226802939|22.855044131989466|16.993399308010858|11.022852131589408|11.981274968927632|7.774222492117336|6.354357084315159|6.567746750424231|7.892710762010891|8.336000114788298|6.846549432151821|12.80782238287578|18.43962297028207|12.743447063916413|10.050234597998076|7.8527644031803066|11.156887201132028|6.337485026107123|3.8984702293170783|0.8135619789519815|-14.072451110313422|7.457849698168746|15.370944889246314|            9.067308932144892|                         94|[3000.0,1.0,1.0,1...|\n",
      "| 750|       3000|   2|    1|       1|                 1|         1|               0|          0|             0|       0|      0|      0|           0|  1|        0|             0|                 0|           0|               0|             0|                   0|            1|            0|      0|    0|               0|           0|               0|           0|            0.0|          0|                          8.65|                             2.99|                    20.8088|            3|               4.083333333333333|                 1.4166666666666667|            5.784722222222222|                20|                               2.3365|                                  0.9155|                        2.13906575|              5|                             3.505|                               1.2725|                      4.4601125|                      10|                         2.5160000000000005|                                         1.028|                      2.5864480000000007|        1|                        2.13|                           0.87|                   1.8531|                   4|                                   3.03|                                      1.23|                  3.7268999999999997|   320.0|   320.0|   320.0|   320.0|   320.0|   320.0|   320.0|   320.0|   320.0|   320.0|   320.0|   320.0|   310.0|   310.0|   300.0|   300.0|   300.0|   300.0|   300.0|   300.0|   300.0|   303.0|   303.0|   310.0|   310.0|   315.0|   320.0|   320.0|   340.0|   350.0|   350.0|   360.0|   370.0|   380.0|   390.0|   399.0|   400.0|   400.0|   401.0|   400.0|   410.0|   410.0|   420.0|   420.0|   420.0|   430.0|   430.0|   430.0|   440.0|   440.0|   440.0|   445.0|   450.0|   449.0|   440.0|   435.0|   430.0|   435.0|   435.0|   440.0|   440.0|   440.0|   440.0|   445.0|   450.0|   450.0|   450.0|   460.0|   470.0|   480.0|   480.0|   490.0|   495.0|   495.0|   490.0|   495.0|   500.0|   500.0|   510.0|   510.0|   510.0|   495.0|   460.0|   420.0|   380.0|   369.0|   350.0|   350.0|   365.0|   390.0|   419.0|   450.0|   500.0|1.7891498549299083|37178.98796086856|2765.1027972198463|3397.0682618193173|3974.3456363159776|4412.431879005364|4941.097475245617|5325.229386523603|5663.613477302199|6035.5852674143025|6511.956555365855|7054.793261296117|7537.803169266871|8503.231610757353|10071.195460070852|11354.612922228534|12495.778158607107|13477.042177746585|14980.66057156676|15930.057692101736|16551.086248741358|16685.739593564667|14337.64704686607|15406.927213875271|17775.11750504633|11.3441226802939|22.855044131989466|16.993399308010858|11.022852131589408|11.981274968927632|7.774222492117336|6.354357084315159|6.567746750424231|7.892710762010891|8.336000114788298|6.846549432151821|12.80782238287578|18.43962297028207|12.743447063916413|10.050234597998076|7.8527644031803066|11.156887201132028|6.337485026107123|3.8984702293170783|0.8135619789519815|-14.072451110313422|7.457849698168746|15.370944889246314|            9.067308932144892|                         86|[3000.0,2.0,1.0,1...|\n",
      "| 780|       3000|   2|    2|       1|                 0|         0|               0|          0|             0|       0|      0|      0|           0|  0|        0|             0|                 0|           0|               0|             0|                   0|            0|            0|      0|    0|               0|           0|               0|           0|            0.0|          0|                          8.65|                             2.99|                    20.8088|            5|              2.2299999999999995|                             0.8325|           1.8564749999999997|                22|                    2.231904761904762|                      0.9371428571428573|                2.0916136054421774|              0|                              8.31|                                  3.0|                        22.5201|                      11|                          2.618333333333333|                                         1.145|                      2.9979916666666666|        1|                        2.33|                           0.99|                   2.3067|                   3|                                   5.18|                                      2.21|                  11.447799999999999|   320.0|   320.0|   320.0|   320.0|   320.0|   320.0|   320.0|   320.0|   320.0|   320.0|   320.0|   320.0|   310.0|   310.0|   300.0|   300.0|   300.0|   300.0|   300.0|   300.0|   300.0|   303.0|   303.0|   310.0|   310.0|   315.0|   320.0|   320.0|   340.0|   350.0|   350.0|   360.0|   370.0|   380.0|   390.0|   399.0|   400.0|   400.0|   401.0|   400.0|   410.0|   410.0|   420.0|   420.0|   420.0|   430.0|   430.0|   430.0|   440.0|   440.0|   440.0|   445.0|   450.0|   449.0|   440.0|   435.0|   430.0|   435.0|   435.0|   440.0|   440.0|   440.0|   440.0|   445.0|   450.0|   450.0|   450.0|   460.0|   470.0|   480.0|   480.0|   490.0|   495.0|   495.0|   490.0|   495.0|   500.0|   500.0|   510.0|   510.0|   510.0|   495.0|   460.0|   420.0|   380.0|   369.0|   350.0|   350.0|   365.0|   390.0|   419.0|   450.0|   500.0|1.7891498549299083|37178.98796086856|2765.1027972198463|3397.0682618193173|3974.3456363159776|4412.431879005364|4941.097475245617|5325.229386523603|5663.613477302199|6035.5852674143025|6511.956555365855|7054.793261296117|7537.803169266871|8503.231610757353|10071.195460070852|11354.612922228534|12495.778158607107|13477.042177746585|14980.66057156676|15930.057692101736|16551.086248741358|16685.739593564667|14337.64704686607|15406.927213875271|17775.11750504633|11.3441226802939|22.855044131989466|16.993399308010858|11.022852131589408|11.981274968927632|7.774222492117336|6.354357084315159|6.567746750424231|7.892710762010891|8.336000114788298|6.846549432151821|12.80782238287578|18.43962297028207|12.743447063916413|10.050234597998076|7.8527644031803066|11.156887201132028|6.337485026107123|3.8984702293170783|0.8135619789519815|-14.072451110313422|7.457849698168746|15.370944889246314|            9.067308932144892|                         84|[3000.0,2.0,2.0,1...|\n",
      "| 535|       3000|   1|    1|       1|                 1|         1|               0|          0|             0|       1|      0|      0|           0|  0|        0|             0|                 0|           0|               0|             0|                   0|            0|            0|      0|    1|               0|           0|               0|           0|            0.0|         29|                           3.5|                            1.315|                     4.6025|            1|                            3.12|                                1.4|            4.367999999999999|                19|                   2.5883333333333334|                      1.0644444444444445|                2.7551370370370374|              0|                              8.31|                                  3.0|                        22.5201|                      10|                                      2.372|                                         1.048|                                2.485856|        1|                        2.02|                           0.93|                   1.8786|                   4|                      4.265000000000001|                                     1.635|                   6.973275000000001|   320.0|   320.0|   320.0|   320.0|   320.0|   320.0|   320.0|   320.0|   320.0|   320.0|   320.0|   320.0|   310.0|   310.0|   300.0|   300.0|   300.0|   300.0|   300.0|   300.0|   300.0|   303.0|   303.0|   310.0|   310.0|   315.0|   320.0|   320.0|   340.0|   350.0|   350.0|   360.0|   370.0|   380.0|   390.0|   399.0|   400.0|   400.0|   401.0|   400.0|   410.0|   410.0|   420.0|   420.0|   420.0|   430.0|   430.0|   430.0|   440.0|   440.0|   440.0|   445.0|   450.0|   449.0|   440.0|   435.0|   430.0|   435.0|   435.0|   440.0|   440.0|   440.0|   440.0|   445.0|   450.0|   450.0|   450.0|   460.0|   470.0|   480.0|   480.0|   490.0|   495.0|   495.0|   490.0|   495.0|   500.0|   500.0|   510.0|   510.0|   510.0|   495.0|   460.0|   420.0|   380.0|   369.0|   350.0|   350.0|   365.0|   390.0|   419.0|   450.0|   500.0|1.7891498549299083|37178.98796086856|2765.1027972198463|3397.0682618193173|3974.3456363159776|4412.431879005364|4941.097475245617|5325.229386523603|5663.613477302199|6035.5852674143025|6511.956555365855|7054.793261296117|7537.803169266871|8503.231610757353|10071.195460070852|11354.612922228534|12495.778158607107|13477.042177746585|14980.66057156676|15930.057692101736|16551.086248741358|16685.739593564667|14337.64704686607|15406.927213875271|17775.11750504633|11.3441226802939|22.855044131989466|16.993399308010858|11.022852131589408|11.981274968927632|7.774222492117336|6.354357084315159|6.567746750424231|7.892710762010891|8.336000114788298|6.846549432151821|12.80782238287578|18.43962297028207|12.743447063916413|10.050234597998076|7.8527644031803066|11.156887201132028|6.337485026107123|3.8984702293170783|0.8135619789519815|-14.072451110313422|7.457849698168746|15.370944889246314|            9.067308932144892|                         90|[3000.0,1.0,1.0,1...|\n",
      "| 720|       3000|   2|    1|       1|                 0|         0|               0|          0|             0|       0|      0|      0|           0|  0|        0|             0|                 0|           0|               0|             0|                   0|            0|            0|      0|    0|               0|           0|               0|           0|            0.0|         19|             4.183333333333333|                              1.7|         7.1116666666666655|            3|                            2.92|                 1.1266666666666667|           3.2898666666666667|                19|                   3.0861111111111112|                       1.247777777777778|                 3.850780864197532|              0|                              8.31|                                  3.0|                        22.5201|                       9|                         3.2020000000000004|                            1.2799999999999998|                                 4.09856|        1|                        3.45|                           1.37|        4.726500000000001|                   4|                                   4.87|                                      2.02|                              9.8374|   320.0|   320.0|   320.0|   320.0|   320.0|   320.0|   320.0|   320.0|   320.0|   320.0|   320.0|   320.0|   310.0|   310.0|   300.0|   300.0|   300.0|   300.0|   300.0|   300.0|   300.0|   303.0|   303.0|   310.0|   310.0|   315.0|   320.0|   320.0|   340.0|   350.0|   350.0|   360.0|   370.0|   380.0|   390.0|   399.0|   400.0|   400.0|   401.0|   400.0|   410.0|   410.0|   420.0|   420.0|   420.0|   430.0|   430.0|   430.0|   440.0|   440.0|   440.0|   445.0|   450.0|   449.0|   440.0|   435.0|   430.0|   435.0|   435.0|   440.0|   440.0|   440.0|   440.0|   445.0|   450.0|   450.0|   450.0|   460.0|   470.0|   480.0|   480.0|   490.0|   495.0|   495.0|   490.0|   495.0|   500.0|   500.0|   510.0|   510.0|   510.0|   495.0|   460.0|   420.0|   380.0|   369.0|   350.0|   350.0|   365.0|   390.0|   419.0|   450.0|   500.0|1.7891498549299083|37178.98796086856|2765.1027972198463|3397.0682618193173|3974.3456363159776|4412.431879005364|4941.097475245617|5325.229386523603|5663.613477302199|6035.5852674143025|6511.956555365855|7054.793261296117|7537.803169266871|8503.231610757353|10071.195460070852|11354.612922228534|12495.778158607107|13477.042177746585|14980.66057156676|15930.057692101736|16551.086248741358|16685.739593564667|14337.64704686607|15406.927213875271|17775.11750504633|11.3441226802939|22.855044131989466|16.993399308010858|11.022852131589408|11.981274968927632|7.774222492117336|6.354357084315159|6.567746750424231|7.892710762010891|8.336000114788298|6.846549432151821|12.80782238287578|18.43962297028207|12.743447063916413|10.050234597998076|7.8527644031803066|11.156887201132028|6.337485026107123|3.8984702293170783|0.8135619789519815|-14.072451110313422|7.457849698168746|15.370944889246314|            9.067308932144892|                         95|[3000.0,2.0,1.0,1...|\n",
      "| 630|       3000|   2|    1|       1|                 1|         1|               0|          1|             0|       0|      0|      0|           0|  0|        1|             0|                 0|           0|               0|             0|                   0|            0|            0|      1|    1|               0|           0|               0|           0|            0.0|         19|             4.183333333333333|                              1.7|         7.1116666666666655|            3|                            2.92|                 1.1266666666666667|           3.2898666666666667|                19|                   3.0861111111111112|                       1.247777777777778|                 3.850780864197532|              0|                              8.31|                                  3.0|                        22.5201|                       9|                         3.2020000000000004|                            1.2799999999999998|                                 4.09856|        1|                        3.45|                           1.37|        4.726500000000001|                   4|                                   4.87|                                      2.02|                              9.8374|   320.0|   320.0|   320.0|   320.0|   320.0|   320.0|   320.0|   320.0|   320.0|   320.0|   320.0|   320.0|   310.0|   310.0|   300.0|   300.0|   300.0|   300.0|   300.0|   300.0|   300.0|   303.0|   303.0|   310.0|   310.0|   315.0|   320.0|   320.0|   340.0|   350.0|   350.0|   360.0|   370.0|   380.0|   390.0|   399.0|   400.0|   400.0|   401.0|   400.0|   410.0|   410.0|   420.0|   420.0|   420.0|   430.0|   430.0|   430.0|   440.0|   440.0|   440.0|   445.0|   450.0|   449.0|   440.0|   435.0|   430.0|   435.0|   435.0|   440.0|   440.0|   440.0|   440.0|   445.0|   450.0|   450.0|   450.0|   460.0|   470.0|   480.0|   480.0|   490.0|   495.0|   495.0|   490.0|   495.0|   500.0|   500.0|   510.0|   510.0|   510.0|   495.0|   460.0|   420.0|   380.0|   369.0|   350.0|   350.0|   365.0|   390.0|   419.0|   450.0|   500.0|1.7891498549299083|37178.98796086856|2765.1027972198463|3397.0682618193173|3974.3456363159776|4412.431879005364|4941.097475245617|5325.229386523603|5663.613477302199|6035.5852674143025|6511.956555365855|7054.793261296117|7537.803169266871|8503.231610757353|10071.195460070852|11354.612922228534|12495.778158607107|13477.042177746585|14980.66057156676|15930.057692101736|16551.086248741358|16685.739593564667|14337.64704686607|15406.927213875271|17775.11750504633|11.3441226802939|22.855044131989466|16.993399308010858|11.022852131589408|11.981274968927632|7.774222492117336|6.354357084315159|6.567746750424231|7.892710762010891|8.336000114788298|6.846549432151821|12.80782238287578|18.43962297028207|12.743447063916413|10.050234597998076|7.8527644031803066|11.156887201132028|6.337485026107123|3.8984702293170783|0.8135619789519815|-14.072451110313422|7.457849698168746|15.370944889246314|            9.067308932144892|                         95|[3000.0,2.0,1.0,1...|\n",
      "| 720|       3000|   2|    2|       1|                 1|         1|               0|          0|             0|       1|      0|      0|           0|  0|        1|             0|                 0|           0|               0|             0|                   0|            0|            0|      0|    0|               0|           0|               0|           0|            0.0|          0|                          8.65|                             2.99|                    20.8088|            6|              3.3879999999999995|                              1.304|                     4.417952|                25|                               2.3596|                                   0.922|                         2.1755512|              0|                              8.31|                                  3.0|                        22.5201|                      11|                         2.1933333333333334|                            0.8133333333333335|                      1.7839111111111114|        1|                        1.49|                           0.46|                   0.6854|                   5|                                   5.13|                                     2.175|                  11.157749999999998|   320.0|   320.0|   320.0|   320.0|   320.0|   320.0|   320.0|   320.0|   320.0|   320.0|   320.0|   320.0|   310.0|   310.0|   300.0|   300.0|   300.0|   300.0|   300.0|   300.0|   300.0|   303.0|   303.0|   310.0|   310.0|   315.0|   320.0|   320.0|   340.0|   350.0|   350.0|   360.0|   370.0|   380.0|   390.0|   399.0|   400.0|   400.0|   401.0|   400.0|   410.0|   410.0|   420.0|   420.0|   420.0|   430.0|   430.0|   430.0|   440.0|   440.0|   440.0|   445.0|   450.0|   449.0|   440.0|   435.0|   430.0|   435.0|   435.0|   440.0|   440.0|   440.0|   440.0|   445.0|   450.0|   450.0|   450.0|   460.0|   470.0|   480.0|   480.0|   490.0|   495.0|   495.0|   490.0|   495.0|   500.0|   500.0|   510.0|   510.0|   510.0|   495.0|   460.0|   420.0|   380.0|   369.0|   350.0|   350.0|   365.0|   390.0|   419.0|   450.0|   500.0|1.7891498549299083|37178.98796086856|2765.1027972198463|3397.0682618193173|3974.3456363159776|4412.431879005364|4941.097475245617|5325.229386523603|5663.613477302199|6035.5852674143025|6511.956555365855|7054.793261296117|7537.803169266871|8503.231610757353|10071.195460070852|11354.612922228534|12495.778158607107|13477.042177746585|14980.66057156676|15930.057692101736|16551.086248741358|16685.739593564667|14337.64704686607|15406.927213875271|17775.11750504633|11.3441226802939|22.855044131989466|16.993399308010858|11.022852131589408|11.981274968927632|7.774222492117336|6.354357084315159|6.567746750424231|7.892710762010891|8.336000114788298|6.846549432151821|12.80782238287578|18.43962297028207|12.743447063916413|10.050234597998076|7.8527644031803066|11.156887201132028|6.337485026107123|3.8984702293170783|0.8135619789519815|-14.072451110313422|7.457849698168746|15.370944889246314|            9.067308932144892|                         90|[3000.0,2.0,2.0,1...|\n",
      "| 750|       3000|   2|    2|       1|                 0|         0|               1|          0|             0|       0|      0|      0|           0|  0|        0|             0|                 0|           0|               0|             0|                   0|            0|            0|      0|    0|               0|           0|               0|           0|            0.0|         18|                         4.625|                            1.865|                   8.625625|            4|                            2.67|                             0.9875|                     2.636625|                17|                                2.585|                                    1.05|                2.7142500000000003|              0|                              8.31|                                  3.0|                        22.5201|                      10|                         3.0300000000000007|                             1.261666666666667|                      3.8228500000000016|        1|                        2.82|                           1.12|       3.1584000000000003|                   3|                                   4.51|                                      1.93|                              8.7043|   320.0|   320.0|   320.0|   320.0|   320.0|   320.0|   320.0|   320.0|   320.0|   320.0|   320.0|   320.0|   310.0|   310.0|   300.0|   300.0|   300.0|   300.0|   300.0|   300.0|   300.0|   303.0|   303.0|   310.0|   310.0|   315.0|   320.0|   320.0|   340.0|   350.0|   350.0|   360.0|   370.0|   380.0|   390.0|   399.0|   400.0|   400.0|   401.0|   400.0|   410.0|   410.0|   420.0|   420.0|   420.0|   430.0|   430.0|   430.0|   440.0|   440.0|   440.0|   445.0|   450.0|   449.0|   440.0|   435.0|   430.0|   435.0|   435.0|   440.0|   440.0|   440.0|   440.0|   445.0|   450.0|   450.0|   450.0|   460.0|   470.0|   480.0|   480.0|   490.0|   495.0|   495.0|   490.0|   495.0|   500.0|   500.0|   510.0|   510.0|   510.0|   495.0|   460.0|   420.0|   380.0|   369.0|   350.0|   350.0|   365.0|   390.0|   419.0|   450.0|   500.0|1.7891498549299083|37178.98796086856|2765.1027972198463|3397.0682618193173|3974.3456363159776|4412.431879005364|4941.097475245617|5325.229386523603|5663.613477302199|6035.5852674143025|6511.956555365855|7054.793261296117|7537.803169266871|8503.231610757353|10071.195460070852|11354.612922228534|12495.778158607107|13477.042177746585|14980.66057156676|15930.057692101736|16551.086248741358|16685.739593564667|14337.64704686607|15406.927213875271|17775.11750504633|11.3441226802939|22.855044131989466|16.993399308010858|11.022852131589408|11.981274968927632|7.774222492117336|6.354357084315159|6.567746750424231|7.892710762010891|8.336000114788298|6.846549432151821|12.80782238287578|18.43962297028207|12.743447063916413|10.050234597998076|7.8527644031803066|11.156887201132028|6.337485026107123|3.8984702293170783|0.8135619789519815|-14.072451110313422|7.457849698168746|15.370944889246314|            9.067308932144892|                         94|[3000.0,2.0,2.0,1...|\n",
      "| 450|       3000|   1|    1|       1|                 0|         0|               0|          0|             0|       0|      0|      0|           0|  0|        0|             0|                 0|           0|               0|             0|                   0|            0|            0|      0|    0|               0|           0|               0|           0|            0.0|         16|                          4.99|                             2.22|         11.077800000000002|            4|                            2.39|                 0.9299999999999999|                       2.2227|                24|                   2.9017391304347817|                       1.153478260869565|                 3.347093005671076|              0|                              8.31|                                  3.0|                        22.5201|                      11|                         2.9966666666666666|                                          1.17|                      3.5060999999999996|        1|                        2.73|                           0.96|                   2.6208|                   4|                      5.109999999999999|                        2.1100000000000003|                             10.7821|   320.0|   320.0|   320.0|   320.0|   320.0|   320.0|   320.0|   320.0|   320.0|   320.0|   320.0|   320.0|   310.0|   310.0|   300.0|   300.0|   300.0|   300.0|   300.0|   300.0|   300.0|   303.0|   303.0|   310.0|   310.0|   315.0|   320.0|   320.0|   340.0|   350.0|   350.0|   360.0|   370.0|   380.0|   390.0|   399.0|   400.0|   400.0|   401.0|   400.0|   410.0|   410.0|   420.0|   420.0|   420.0|   430.0|   430.0|   430.0|   440.0|   440.0|   440.0|   445.0|   450.0|   449.0|   440.0|   435.0|   430.0|   435.0|   435.0|   440.0|   440.0|   440.0|   440.0|   445.0|   450.0|   450.0|   450.0|   460.0|   470.0|   480.0|   480.0|   490.0|   495.0|   495.0|   490.0|   495.0|   500.0|   500.0|   510.0|   510.0|   510.0|   495.0|   460.0|   420.0|   380.0|   369.0|   350.0|   350.0|   365.0|   390.0|   419.0|   450.0|   500.0|1.7891498549299083|37178.98796086856|2765.1027972198463|3397.0682618193173|3974.3456363159776|4412.431879005364|4941.097475245617|5325.229386523603|5663.613477302199|6035.5852674143025|6511.956555365855|7054.793261296117|7537.803169266871|8503.231610757353|10071.195460070852|11354.612922228534|12495.778158607107|13477.042177746585|14980.66057156676|15930.057692101736|16551.086248741358|16685.739593564667|14337.64704686607|15406.927213875271|17775.11750504633|11.3441226802939|22.855044131989466|16.993399308010858|11.022852131589408|11.981274968927632|7.774222492117336|6.354357084315159|6.567746750424231|7.892710762010891|8.336000114788298|6.846549432151821|12.80782238287578|18.43962297028207|12.743447063916413|10.050234597998076|7.8527644031803066|11.156887201132028|6.337485026107123|3.8984702293170783|0.8135619789519815|-14.072451110313422|7.457849698168746|15.370944889246314|            9.067308932144892|                         99|[3000.0,1.0,1.0,1...|\n",
      "| 480|       3000|   1|    1|       1|                 1|         1|               1|          1|             0|       1|      0|      0|           0|  0|        1|             0|                 0|           0|               0|             0|                   1|            0|            0|      0|    0|               0|           0|               0|           0|            0.0|         16|                          4.99|                             2.22|         11.077800000000002|            4|                            2.39|                 0.9299999999999999|                       2.2227|                24|                   2.9017391304347817|                       1.153478260869565|                 3.347093005671076|              0|                              8.31|                                  3.0|                        22.5201|                      11|                         2.9966666666666666|                                          1.17|                      3.5060999999999996|        1|                        2.73|                           0.96|                   2.6208|                   4|                      5.109999999999999|                        2.1100000000000003|                             10.7821|   320.0|   320.0|   320.0|   320.0|   320.0|   320.0|   320.0|   320.0|   320.0|   320.0|   320.0|   320.0|   310.0|   310.0|   300.0|   300.0|   300.0|   300.0|   300.0|   300.0|   300.0|   303.0|   303.0|   310.0|   310.0|   315.0|   320.0|   320.0|   340.0|   350.0|   350.0|   360.0|   370.0|   380.0|   390.0|   399.0|   400.0|   400.0|   401.0|   400.0|   410.0|   410.0|   420.0|   420.0|   420.0|   430.0|   430.0|   430.0|   440.0|   440.0|   440.0|   445.0|   450.0|   449.0|   440.0|   435.0|   430.0|   435.0|   435.0|   440.0|   440.0|   440.0|   440.0|   445.0|   450.0|   450.0|   450.0|   460.0|   470.0|   480.0|   480.0|   490.0|   495.0|   495.0|   490.0|   495.0|   500.0|   500.0|   510.0|   510.0|   510.0|   495.0|   460.0|   420.0|   380.0|   369.0|   350.0|   350.0|   365.0|   390.0|   419.0|   450.0|   500.0|1.7891498549299083|37178.98796086856|2765.1027972198463|3397.0682618193173|3974.3456363159776|4412.431879005364|4941.097475245617|5325.229386523603|5663.613477302199|6035.5852674143025|6511.956555365855|7054.793261296117|7537.803169266871|8503.231610757353|10071.195460070852|11354.612922228534|12495.778158607107|13477.042177746585|14980.66057156676|15930.057692101736|16551.086248741358|16685.739593564667|14337.64704686607|15406.927213875271|17775.11750504633|11.3441226802939|22.855044131989466|16.993399308010858|11.022852131589408|11.981274968927632|7.774222492117336|6.354357084315159|6.567746750424231|7.892710762010891|8.336000114788298|6.846549432151821|12.80782238287578|18.43962297028207|12.743447063916413|10.050234597998076|7.8527644031803066|11.156887201132028|6.337485026107123|3.8984702293170783|0.8135619789519815|-14.072451110313422|7.457849698168746|15.370944889246314|            9.067308932144892|                         99|[3000.0,1.0,1.0,1...|\n",
      "| 580|       3000|   1|    1|       1|                 1|         0|               1|          0|             0|       1|      0|      0|           0|  1|        0|             0|                 0|           0|               0|             0|                   0|            0|            0|      0|    0|               0|           0|               0|           0|            0.0|          0|                          8.65|                             2.99|                    20.8088|            6|                           2.726|                              1.036|                     2.824136|                18|                   1.8638888888888892|                      0.7333333333333335|                1.3668518518518524|              6|                             3.168|                                1.188|                       3.763584|                      10|                         2.4159999999999995|                                         0.958|                      2.3145279999999993|        1|                        2.27|                           0.88|                   1.9976|                   0|                                   7.64|                                       3.0|                  21.154600000000002|   320.0|   320.0|   320.0|   320.0|   320.0|   320.0|   320.0|   320.0|   320.0|   320.0|   320.0|   320.0|   310.0|   310.0|   300.0|   300.0|   300.0|   300.0|   300.0|   300.0|   300.0|   303.0|   303.0|   310.0|   310.0|   315.0|   320.0|   320.0|   340.0|   350.0|   350.0|   360.0|   370.0|   380.0|   390.0|   399.0|   400.0|   400.0|   401.0|   400.0|   410.0|   410.0|   420.0|   420.0|   420.0|   430.0|   430.0|   430.0|   440.0|   440.0|   440.0|   445.0|   450.0|   449.0|   440.0|   435.0|   430.0|   435.0|   435.0|   440.0|   440.0|   440.0|   440.0|   445.0|   450.0|   450.0|   450.0|   460.0|   470.0|   480.0|   480.0|   490.0|   495.0|   495.0|   490.0|   495.0|   500.0|   500.0|   510.0|   510.0|   510.0|   495.0|   460.0|   420.0|   380.0|   369.0|   350.0|   350.0|   365.0|   390.0|   419.0|   450.0|   500.0|1.7891498549299083|37178.98796086856|2765.1027972198463|3397.0682618193173|3974.3456363159776|4412.431879005364|4941.097475245617|5325.229386523603|5663.613477302199|6035.5852674143025|6511.956555365855|7054.793261296117|7537.803169266871|8503.231610757353|10071.195460070852|11354.612922228534|12495.778158607107|13477.042177746585|14980.66057156676|15930.057692101736|16551.086248741358|16685.739593564667|14337.64704686607|15406.927213875271|17775.11750504633|11.3441226802939|22.855044131989466|16.993399308010858|11.022852131589408|11.981274968927632|7.774222492117336|6.354357084315159|6.567746750424231|7.892710762010891|8.336000114788298|6.846549432151821|12.80782238287578|18.43962297028207|12.743447063916413|10.050234597998076|7.8527644031803066|11.156887201132028|6.337485026107123|3.8984702293170783|0.8135619789519815|-14.072451110313422|7.457849698168746|15.370944889246314|            9.067308932144892|                         73|[3000.0,1.0,1.0,1...|\n",
      "| 645|       3000|   1|    1|       1|                 0|         1|               1|          1|             0|       0|      0|      0|           0|  0|        0|             1|                 1|           0|               0|             0|                   0|            0|            0|      0|    0|               0|           0|               0|           0|            0.0|         20|             4.476666666666667|                             1.82|          8.147533333333334|            5|                          2.8525|                             1.0325|                   2.94520625|                16|                    2.543333333333334|                      1.0166666666666666|                2.5857222222222225|              0|                              8.31|                                  3.0|                        22.5201|                       9|                                      3.008|                                         1.228|                      3.6938239999999998|        1|                        2.96|                           1.16|       3.4335999999999998|                   3|                                   4.15|                                      1.86|                   7.719000000000001|   320.0|   320.0|   320.0|   320.0|   320.0|   320.0|   320.0|   320.0|   320.0|   320.0|   320.0|   320.0|   310.0|   310.0|   300.0|   300.0|   300.0|   300.0|   300.0|   300.0|   300.0|   303.0|   303.0|   310.0|   310.0|   315.0|   320.0|   320.0|   340.0|   350.0|   350.0|   360.0|   370.0|   380.0|   390.0|   399.0|   400.0|   400.0|   401.0|   400.0|   410.0|   410.0|   420.0|   420.0|   420.0|   430.0|   430.0|   430.0|   440.0|   440.0|   440.0|   445.0|   450.0|   449.0|   440.0|   435.0|   430.0|   435.0|   435.0|   440.0|   440.0|   440.0|   440.0|   445.0|   450.0|   450.0|   450.0|   460.0|   470.0|   480.0|   480.0|   490.0|   495.0|   495.0|   490.0|   495.0|   500.0|   500.0|   510.0|   510.0|   510.0|   495.0|   460.0|   420.0|   380.0|   369.0|   350.0|   350.0|   365.0|   390.0|   419.0|   450.0|   500.0|1.7891498549299083|37178.98796086856|2765.1027972198463|3397.0682618193173|3974.3456363159776|4412.431879005364|4941.097475245617|5325.229386523603|5663.613477302199|6035.5852674143025|6511.956555365855|7054.793261296117|7537.803169266871|8503.231610757353|10071.195460070852|11354.612922228534|12495.778158607107|13477.042177746585|14980.66057156676|15930.057692101736|16551.086248741358|16685.739593564667|14337.64704686607|15406.927213875271|17775.11750504633|11.3441226802939|22.855044131989466|16.993399308010858|11.022852131589408|11.981274968927632|7.774222492117336|6.354357084315159|6.567746750424231|7.892710762010891|8.336000114788298|6.846549432151821|12.80782238287578|18.43962297028207|12.743447063916413|10.050234597998076|7.8527644031803066|11.156887201132028|6.337485026107123|3.8984702293170783|0.8135619789519815|-14.072451110313422|7.457849698168746|15.370944889246314|            9.067308932144892|                         95|[3000.0,1.0,1.0,1...|\n",
      "| 650|       3000|   2|    1|       1|                 1|         1|               0|          1|             0|       1|      0|      0|           0|  0|        0|             0|                 0|           0|               0|             0|                   1|            0|            0|      1|    0|               0|           0|               0|           0|            0.0|          0|                          8.65|                             2.99|                    20.8088|            5|              3.8049999999999997|                 1.4100000000000001|                      5.36505|                26|                   2.8659999999999997|                      1.0375999999999999|                 2.973761599999999|              0|                              8.31|                                  3.0|                        22.5201|                      12|                         2.6649999999999996|                            0.9066666666666667|                      2.4162666666666666|        1|                        1.93|                           0.54|                   1.0422|                   4|                                   5.67|                                      2.29|                             12.9843|   320.0|   320.0|   320.0|   320.0|   320.0|   320.0|   320.0|   320.0|   320.0|   320.0|   320.0|   320.0|   310.0|   310.0|   300.0|   300.0|   300.0|   300.0|   300.0|   300.0|   300.0|   303.0|   303.0|   310.0|   310.0|   315.0|   320.0|   320.0|   340.0|   350.0|   350.0|   360.0|   370.0|   380.0|   390.0|   399.0|   400.0|   400.0|   401.0|   400.0|   410.0|   410.0|   420.0|   420.0|   420.0|   430.0|   430.0|   430.0|   440.0|   440.0|   440.0|   445.0|   450.0|   449.0|   440.0|   435.0|   430.0|   435.0|   435.0|   440.0|   440.0|   440.0|   440.0|   445.0|   450.0|   450.0|   450.0|   460.0|   470.0|   480.0|   480.0|   490.0|   495.0|   495.0|   490.0|   495.0|   500.0|   500.0|   510.0|   510.0|   510.0|   495.0|   460.0|   420.0|   380.0|   369.0|   350.0|   350.0|   365.0|   390.0|   419.0|   450.0|   500.0|1.7891498549299083|37178.98796086856|2765.1027972198463|3397.0682618193173|3974.3456363159776|4412.431879005364|4941.097475245617|5325.229386523603|5663.613477302199|6035.5852674143025|6511.956555365855|7054.793261296117|7537.803169266871|8503.231610757353|10071.195460070852|11354.612922228534|12495.778158607107|13477.042177746585|14980.66057156676|15930.057692101736|16551.086248741358|16685.739593564667|14337.64704686607|15406.927213875271|17775.11750504633|11.3441226802939|22.855044131989466|16.993399308010858|11.022852131589408|11.981274968927632|7.774222492117336|6.354357084315159|6.567746750424231|7.892710762010891|8.336000114788298|6.846549432151821|12.80782238287578|18.43962297028207|12.743447063916413|10.050234597998076|7.8527644031803066|11.156887201132028|6.337485026107123|3.8984702293170783|0.8135619789519815|-14.072451110313422|7.457849698168746|15.370944889246314|            9.067308932144892|                         88|[3000.0,2.0,1.0,1...|\n",
      "| 700|       3000|   2|    1|       1|                 0|         0|               0|          0|             0|       0|      0|      0|           0|  0|        0|             0|                 0|           0|               0|             0|                   0|            0|            0|      0|    0|               0|           0|               0|           0|            0.0|         17|                          5.64|                             2.32|         13.084799999999998|            4|                            2.92|                 1.0574999999999999|           3.0878999999999994|                24|                   3.1539130434782616|                      1.1713043478260872|                 3.694192060491495|              0|                              8.31|                                  3.0|                        22.5201|                      11|                          3.091666666666667|                            1.1716666666666666|                       3.622402777777778|        1|                        2.68|                           0.95|                    2.546|                   4|                                  5.495|                                      2.23|                            12.25385|   320.0|   320.0|   320.0|   320.0|   320.0|   320.0|   320.0|   320.0|   320.0|   320.0|   320.0|   320.0|   310.0|   310.0|   300.0|   300.0|   300.0|   300.0|   300.0|   300.0|   300.0|   303.0|   303.0|   310.0|   310.0|   315.0|   320.0|   320.0|   340.0|   350.0|   350.0|   360.0|   370.0|   380.0|   390.0|   399.0|   400.0|   400.0|   401.0|   400.0|   410.0|   410.0|   420.0|   420.0|   420.0|   430.0|   430.0|   430.0|   440.0|   440.0|   440.0|   445.0|   450.0|   449.0|   440.0|   435.0|   430.0|   435.0|   435.0|   440.0|   440.0|   440.0|   440.0|   445.0|   450.0|   450.0|   450.0|   460.0|   470.0|   480.0|   480.0|   490.0|   495.0|   495.0|   490.0|   495.0|   500.0|   500.0|   510.0|   510.0|   510.0|   495.0|   460.0|   420.0|   380.0|   369.0|   350.0|   350.0|   365.0|   390.0|   419.0|   450.0|   500.0|1.7891498549299083|37178.98796086856|2765.1027972198463|3397.0682618193173|3974.3456363159776|4412.431879005364|4941.097475245617|5325.229386523603|5663.613477302199|6035.5852674143025|6511.956555365855|7054.793261296117|7537.803169266871|8503.231610757353|10071.195460070852|11354.612922228534|12495.778158607107|13477.042177746585|14980.66057156676|15930.057692101736|16551.086248741358|16685.739593564667|14337.64704686607|15406.927213875271|17775.11750504633|11.3441226802939|22.855044131989466|16.993399308010858|11.022852131589408|11.981274968927632|7.774222492117336|6.354357084315159|6.567746750424231|7.892710762010891|8.336000114788298|6.846549432151821|12.80782238287578|18.43962297028207|12.743447063916413|10.050234597998076|7.8527644031803066|11.156887201132028|6.337485026107123|3.8984702293170783|0.8135619789519815|-14.072451110313422|7.457849698168746|15.370944889246314|            9.067308932144892|                         99|[3000.0,2.0,1.0,1...|\n",
      "+----+-----------+----+-----+--------+------------------+----------+----------------+-----------+--------------+--------+-------+-------+------------+---+---------+--------------+------------------+------------+----------------+--------------+--------------------+-------------+-------------+-------+-----+----------------+------------+----------------+------------+---------------+-----------+------------------------------+---------------------------------+---------------------------+-------------+--------------------------------+-----------------------------------+-----------------------------+------------------+-------------------------------------+----------------------------------------+----------------------------------+---------------+----------------------------------+-------------------------------------+-------------------------------+------------------------+-------------------------------------------+----------------------------------------------+----------------------------------------+---------+----------------------------+-------------------------------+-------------------------+--------------------+---------------------------------------+------------------------------------------+------------------------------------+--------+--------+--------+--------+--------+--------+--------+--------+--------+--------+--------+--------+--------+--------+--------+--------+--------+--------+--------+--------+--------+--------+--------+--------+--------+--------+--------+--------+--------+--------+--------+--------+--------+--------+--------+--------+--------+--------+--------+--------+--------+--------+--------+--------+--------+--------+--------+--------+--------+--------+--------+--------+--------+--------+--------+--------+--------+--------+--------+--------+--------+--------+--------+--------+--------+--------+--------+--------+--------+--------+--------+--------+--------+--------+--------+--------+--------+--------+--------+--------+--------+--------+--------+--------+--------+--------+--------+--------+--------+--------+--------+--------+--------+------------------+-----------------+------------------+------------------+------------------+-----------------+-----------------+-----------------+-----------------+------------------+-----------------+-----------------+-----------------+-----------------+------------------+------------------+------------------+------------------+-----------------+------------------+------------------+------------------+-----------------+------------------+-----------------+----------------+------------------+------------------+------------------+------------------+-----------------+-----------------+-----------------+-----------------+-----------------+-----------------+-----------------+-----------------+------------------+------------------+------------------+------------------+-----------------+------------------+------------------+-------------------+-----------------+------------------+-----------------------------+---------------------------+--------------------+\n",
      "only showing top 20 rows\n",
      "\n"
     ]
    }
   ],
   "source": [
    "# Combine feature columns into a single vector column 'features'\n",
    "assembler = VectorAssembler(inputCols=feature_columns, outputCol='features')\n",
    "\n",
    "# Select target variable 'cost' and feature columns from DataFrame 'sdf'\n",
    "data = sdf.select('cost', *feature_columns)\n",
    "\n",
    "# Transform the DataFrame to add the 'features' column\n",
    "data = assembler.transform(data)\n",
    "\n",
    "# Display the transformed DataFrame\n",
    "data.show()"
   ]
  },
  {
   "cell_type": "code",
   "execution_count": 85,
   "metadata": {},
   "outputs": [
    {
     "name": "stderr",
     "output_type": "stream",
     "text": [
      "                                                                                \r"
     ]
    }
   ],
   "source": [
    "# Create a StandardScaler instance\n",
    "scaler = SparkStandardScaler(inputCol='features', outputCol='scaled_features', withMean=True, withStd=True)\n",
    "\n",
    "# Fit the scaler to the data\n",
    "scaler_model = scaler.fit(data)\n",
    "\n",
    "# Transform the data using the fitted scaler\n",
    "data = scaler_model.transform(data)"
   ]
  },
  {
   "cell_type": "code",
   "execution_count": 86,
   "metadata": {},
   "outputs": [],
   "source": [
    "# Split the data into training and test sets\n",
    "train_data, test_data = data.randomSplit([0.8, 0.2], seed = 1003)"
   ]
  },
  {
   "cell_type": "code",
   "execution_count": 87,
   "metadata": {},
   "outputs": [
    {
     "name": "stderr",
     "output_type": "stream",
     "text": [
      "24/10/17 22:23:05 WARN Instrumentation: [ec366713] regParam is zero, which might cause numerical instability and overfitting.\n",
      "24/10/17 22:23:06 WARN Instrumentation: [ec366713] Cholesky solver failed due to singular covariance matrix. Retrying with Quasi-Newton solver.\n",
      "                                                                                \r"
     ]
    }
   ],
   "source": [
    "# Initialize the Linear Regression model\n",
    "lr = LinearRegression(featuresCol='scaled_features', labelCol='cost')\n",
    "\n",
    "# Fit the model to the training data\n",
    "lr_model = lr.fit(train_data)"
   ]
  },
  {
   "cell_type": "code",
   "execution_count": 92,
   "metadata": {},
   "outputs": [],
   "source": [
    "# Save the Linear Regression model\n",
    "lr_model.save(\"../models/linear_regression_model\")"
   ]
  },
  {
   "cell_type": "code",
   "execution_count": 93,
   "metadata": {},
   "outputs": [
    {
     "name": "stdout",
     "output_type": "stream",
     "text": [
      "BASE LINEAR REGRESSION MODEL SUMMARY\n",
      "Intercept: 564.843\n",
      "RMSE (Train): $73.43\n",
      "R² (Train): 60.86%\n",
      "\n",
      "Test RMSE: $72.22\n",
      "Test R²: 60.22%\n"
     ]
    },
    {
     "name": "stderr",
     "output_type": "stream",
     "text": [
      "                                                                                \r"
     ]
    },
    {
     "data": {
      "text/html": [
       "<div>\n",
       "<style scoped>\n",
       "    .dataframe tbody tr th:only-of-type {\n",
       "        vertical-align: middle;\n",
       "    }\n",
       "\n",
       "    .dataframe tbody tr th {\n",
       "        vertical-align: top;\n",
       "    }\n",
       "\n",
       "    .dataframe thead th {\n",
       "        text-align: right;\n",
       "    }\n",
       "</style>\n",
       "<table border=\"1\" class=\"dataframe\">\n",
       "  <thead>\n",
       "    <tr style=\"text-align: right;\">\n",
       "      <th></th>\n",
       "      <th>Feature</th>\n",
       "      <th>Coefficient</th>\n",
       "      <th>Absolute Coefficient</th>\n",
       "    </tr>\n",
       "  </thead>\n",
       "  <tbody>\n",
       "    <tr>\n",
       "      <th>196</th>\n",
       "      <td>increase_2021_pop</td>\n",
       "      <td>-87.321</td>\n",
       "      <td>87.321</td>\n",
       "    </tr>\n",
       "    <tr>\n",
       "      <th>1</th>\n",
       "      <td>beds</td>\n",
       "      <td>86.359</td>\n",
       "      <td>86.359</td>\n",
       "    </tr>\n",
       "    <tr>\n",
       "      <th>98</th>\n",
       "      <td>mar_2010</td>\n",
       "      <td>-64.447</td>\n",
       "      <td>64.447</td>\n",
       "    </tr>\n",
       "    <tr>\n",
       "      <th>52</th>\n",
       "      <td>cbd_average_travel_distance_kms</td>\n",
       "      <td>-64.421</td>\n",
       "      <td>64.421</td>\n",
       "    </tr>\n",
       "    <tr>\n",
       "      <th>193</th>\n",
       "      <td>increase_2018_pop</td>\n",
       "      <td>-52.796</td>\n",
       "      <td>52.796</td>\n",
       "    </tr>\n",
       "    <tr>\n",
       "      <th>181</th>\n",
       "      <td>increase_2006_pop</td>\n",
       "      <td>50.931</td>\n",
       "      <td>50.931</td>\n",
       "    </tr>\n",
       "    <tr>\n",
       "      <th>112</th>\n",
       "      <td>sep_2013</td>\n",
       "      <td>45.496</td>\n",
       "      <td>45.496</td>\n",
       "    </tr>\n",
       "    <tr>\n",
       "      <th>94</th>\n",
       "      <td>mar_2009</td>\n",
       "      <td>45.391</td>\n",
       "      <td>45.391</td>\n",
       "    </tr>\n",
       "    <tr>\n",
       "      <th>53</th>\n",
       "      <td>cbd_time_distance_product</td>\n",
       "      <td>42.613</td>\n",
       "      <td>42.613</td>\n",
       "    </tr>\n",
       "    <tr>\n",
       "      <th>191</th>\n",
       "      <td>increase_2016_pop</td>\n",
       "      <td>-40.682</td>\n",
       "      <td>40.682</td>\n",
       "    </tr>\n",
       "  </tbody>\n",
       "</table>\n",
       "</div>"
      ],
      "text/plain": [
       "                             Feature  Coefficient  Absolute Coefficient\n",
       "196                increase_2021_pop      -87.321                87.321\n",
       "1                               beds       86.359                86.359\n",
       "98                          mar_2010      -64.447                64.447\n",
       "52   cbd_average_travel_distance_kms      -64.421                64.421\n",
       "193                increase_2018_pop      -52.796                52.796\n",
       "181                increase_2006_pop       50.931                50.931\n",
       "112                         sep_2013       45.496                45.496\n",
       "94                          mar_2009       45.391                45.391\n",
       "53         cbd_time_distance_product       42.613                42.613\n",
       "191                increase_2016_pop      -40.682                40.682"
      ]
     },
     "execution_count": 93,
     "metadata": {},
     "output_type": "execute_result"
    }
   ],
   "source": [
    "# Print model summary (Training Data)\n",
    "print('BASE LINEAR REGRESSION MODEL SUMMARY')\n",
    "print(f\"Intercept: {round(lr_model.intercept, 3)}\")\n",
    "print(f\"RMSE (Train): ${round(lr_model.summary.rootMeanSquaredError, 2)}\")\n",
    "print(f\"R² (Train): {round(lr_model.summary.r2 * 100, 2)}%\")\n",
    "\n",
    "# Get feature coefficients and create DataFrame\n",
    "coefficients = lr_model.coefficients.toArray()\n",
    "coefficients_df = pd.DataFrame({\n",
    "    'Feature': feature_columns,\n",
    "    'Coefficient': [round(coeff, 3) for coeff in coefficients]\n",
    "})\n",
    "\n",
    "# Add absolute value for ranking and sort by impact\n",
    "coefficients_df['Absolute Coefficient'] = abs(coefficients_df['Coefficient'])\n",
    "coefficients_df = coefficients_df.sort_values(by='Absolute Coefficient', ascending=False)\n",
    "\n",
    "# Evaluate model on test data\n",
    "test_results = lr_model.evaluate(test_data)\n",
    "\n",
    "# Print test data evaluation metrics\n",
    "print(\"\\nTest RMSE: ${:.2f}\".format(test_results.rootMeanSquaredError))\n",
    "print(\"Test R²: {:.2f}%\".format(test_results.r2 * 100))\n",
    "\n",
    "# Display top 10 features\n",
    "coefficients_df.head(10)"
   ]
  },
  {
   "cell_type": "markdown",
   "metadata": {},
   "source": [
    "### Analysis of the Baseline Linear Regression Model\n",
    "\n",
    "#### Model Summary (Training Data)\n",
    "The baseline linear regression model was trained on the dataset, and the following metrics were obtained for the training data:\n",
    "\n",
    "- **Intercept**: 564.85\n",
    "- **Root Mean Squared Error (RMSE)**: $73.42\n",
    "- **R² (Coefficient of Determination)**: 60.87%\n",
    "\n",
    "These metrics indicate that the model explains approximately 61.03% of the variance in the training data, with an average prediction error of $73.42.\n",
    "\n",
    "#### Model Evaluation (Test Data)\n",
    "The model was evaluated on the test data, yielding the following metrics:\n",
    "\n",
    "- **Test RMSE**: $72.22\n",
    "- **Test R²**: 60.23%\n",
    "\n",
    "The test data metrics are quite similar to the training data metrics, suggesting that the model generalizes well to unseen data. The R² value of 60.23% indicates that the model explains a similar proportion of variance in the test data as it does in the training data.\n",
    "\n",
    "#### Feature Importance\n",
    "The table lists the top 10 features based on their absolute coefficient values, indicating their impact on the model's predictions.\n",
    "\n",
    "#### Observations\n",
    "1. **Population Increase**: Features related to population increase in various years (e.g., 2021, 2018, 2006, 2016) have significant coefficients, indicating that changes in population are strong predictors in the model.\n",
    "2. **Number of Beds**: The number of beds in a property is also a significant predictor, with a positive coefficient of 86.236.\n",
    "3. **Travel Distance and Time**: Features related to travel distance and time to the central business district (CBD) are important, with negative coefficients indicating that greater distances are associated with lower property values.\n",
    "4. **Monthly Data**: Specific months (e.g., March 2010, September 2013, March 2009) also appear as significant features, suggesting that there may be seasonal or temporal effects influencing property values."
   ]
  },
  {
   "cell_type": "code",
   "execution_count": 94,
   "metadata": {},
   "outputs": [
    {
     "name": "stderr",
     "output_type": "stream",
     "text": [
      "                                                                                \r"
     ]
    }
   ],
   "source": [
    "# Initialize the Lasso Regression model\n",
    "lasso = LinearRegression(featuresCol='features', labelCol='cost', elasticNetParam=1, regParam=0.1)\n",
    "\n",
    "# Fit the model to the data\n",
    "lasso_model = lasso.fit(train_data)"
   ]
  },
  {
   "cell_type": "code",
   "execution_count": 95,
   "metadata": {},
   "outputs": [],
   "source": [
    "# Save the Lasso Regression model\n",
    "lasso_model.save(\"../models/lasso_regression_model\")"
   ]
  },
  {
   "cell_type": "code",
   "execution_count": 96,
   "metadata": {},
   "outputs": [
    {
     "name": "stdout",
     "output_type": "stream",
     "text": [
      "LASSO REGRESSION MODEL SUMMARY\n",
      "Intercept: -24.106\n",
      "RMSE (Train): $75.47\n",
      "R² (Train): 58.66%\n",
      "\n",
      "Lasso Test RMSE: $73.75\n",
      "Lasso Test R²: 58.52%\n"
     ]
    },
    {
     "data": {
      "text/html": [
       "<div>\n",
       "<style scoped>\n",
       "    .dataframe tbody tr th:only-of-type {\n",
       "        vertical-align: middle;\n",
       "    }\n",
       "\n",
       "    .dataframe tbody tr th {\n",
       "        vertical-align: top;\n",
       "    }\n",
       "\n",
       "    .dataframe thead th {\n",
       "        text-align: right;\n",
       "    }\n",
       "</style>\n",
       "<table border=\"1\" class=\"dataframe\">\n",
       "  <thead>\n",
       "    <tr style=\"text-align: right;\">\n",
       "      <th></th>\n",
       "      <th>Feature</th>\n",
       "      <th>Coefficient</th>\n",
       "      <th>Absolute Coefficient</th>\n",
       "    </tr>\n",
       "  </thead>\n",
       "  <tbody>\n",
       "    <tr>\n",
       "      <th>1</th>\n",
       "      <td>beds</td>\n",
       "      <td>80.958</td>\n",
       "      <td>80.958</td>\n",
       "    </tr>\n",
       "    <tr>\n",
       "      <th>2</th>\n",
       "      <td>baths</td>\n",
       "      <td>62.741</td>\n",
       "      <td>62.741</td>\n",
       "    </tr>\n",
       "    <tr>\n",
       "      <th>5</th>\n",
       "      <td>dishwasher</td>\n",
       "      <td>28.543</td>\n",
       "      <td>28.543</td>\n",
       "    </tr>\n",
       "    <tr>\n",
       "      <th>13</th>\n",
       "      <td>gym</td>\n",
       "      <td>19.518</td>\n",
       "      <td>19.518</td>\n",
       "    </tr>\n",
       "    <tr>\n",
       "      <th>24</th>\n",
       "      <td>study</td>\n",
       "      <td>15.637</td>\n",
       "      <td>15.637</td>\n",
       "    </tr>\n",
       "    <tr>\n",
       "      <th>7</th>\n",
       "      <td>floorboards</td>\n",
       "      <td>15.049</td>\n",
       "      <td>15.049</td>\n",
       "    </tr>\n",
       "    <tr>\n",
       "      <th>4</th>\n",
       "      <td>built_in_wardrobes</td>\n",
       "      <td>-14.115</td>\n",
       "      <td>14.115</td>\n",
       "    </tr>\n",
       "    <tr>\n",
       "      <th>36</th>\n",
       "      <td>schools_average_travel_distance_kms</td>\n",
       "      <td>-13.384</td>\n",
       "      <td>13.384</td>\n",
       "    </tr>\n",
       "    <tr>\n",
       "      <th>6</th>\n",
       "      <td>air_conditioning</td>\n",
       "      <td>10.875</td>\n",
       "      <td>10.875</td>\n",
       "    </tr>\n",
       "    <tr>\n",
       "      <th>25</th>\n",
       "      <td>garden_courtyard</td>\n",
       "      <td>10.600</td>\n",
       "      <td>10.600</td>\n",
       "    </tr>\n",
       "  </tbody>\n",
       "</table>\n",
       "</div>"
      ],
      "text/plain": [
       "                                Feature  Coefficient  Absolute Coefficient\n",
       "1                                  beds       80.958                80.958\n",
       "2                                 baths       62.741                62.741\n",
       "5                            dishwasher       28.543                28.543\n",
       "13                                  gym       19.518                19.518\n",
       "24                                study       15.637                15.637\n",
       "7                           floorboards       15.049                15.049\n",
       "4                    built_in_wardrobes      -14.115                14.115\n",
       "36  schools_average_travel_distance_kms      -13.384                13.384\n",
       "6                      air_conditioning       10.875                10.875\n",
       "25                     garden_courtyard       10.600                10.600"
      ]
     },
     "execution_count": 96,
     "metadata": {},
     "output_type": "execute_result"
    }
   ],
   "source": [
    "# Print model summary with formatted output\n",
    "print('LASSO REGRESSION MODEL SUMMARY')\n",
    "print(f\"Intercept: {round(lasso_model.intercept, 3)}\")\n",
    "print(f\"RMSE (Train): ${round(lasso_model.summary.rootMeanSquaredError, 2)}\")\n",
    "print(f\"R² (Train): {round(lasso_model.summary.r2 * 100, 2)}%\")\n",
    "\n",
    "# Get the coefficients and feature names\n",
    "lasso_coefficients = lasso_model.coefficients.toArray()\n",
    "\n",
    "# Create a DataFrame from the coefficients and feature names\n",
    "lasso_coefficients_df = pd.DataFrame({\n",
    "    'Feature': feature_columns,\n",
    "    'Coefficient': [round(coeff, 3) for coeff in lasso_coefficients]\n",
    "})\n",
    "\n",
    "# Add a column for the absolute value of coefficients\n",
    "lasso_coefficients_df['Absolute Coefficient'] = lasso_coefficients_df['Coefficient'].abs()\n",
    "\n",
    "# Sort the DataFrame by the 'Absolute Coefficient' column in descending order\n",
    "lasso_coefficients_df = lasso_coefficients_df.sort_values(by='Absolute Coefficient', ascending=False)\n",
    "\n",
    "# Evaluate the model on the test data\n",
    "lasso_test_results = lasso_model.evaluate(test_data)\n",
    "\n",
    "# Print evaluation metrics for test data\n",
    "print(\"\\nLasso Test RMSE: ${:.2f}\".format(lasso_test_results.rootMeanSquaredError))\n",
    "print(\"Lasso Test R²: {:.2f}%\".format(lasso_test_results.r2 * 100))\n",
    "\n",
    "# Display the top 10 features based on their absolute impact\n",
    "lasso_coefficients_df.head(10)"
   ]
  },
  {
   "cell_type": "code",
   "execution_count": 97,
   "metadata": {},
   "outputs": [
    {
     "name": "stdout",
     "output_type": "stream",
     "text": [
      "Number of features remaining in Lasso Model: 169 out of 200 initial columns.\n"
     ]
    }
   ],
   "source": [
    "# Count the number of features with coefficients equal to zero\n",
    "num_zero_coefficients = (lasso_coefficients_df['Coefficient'] == 0).sum()\n",
    "\n",
    "# Print the result\n",
    "print(f\"Number of features remaining in Lasso Model: {len(feature_columns) - num_zero_coefficients - 1} out of {len(feature_columns) - 1} initial columns.\")"
   ]
  },
  {
   "cell_type": "markdown",
   "metadata": {},
   "source": [
    "### Analysis of Lasso Regression Model\n",
    "\n",
    "#### Model Summary (Training Data)\n",
    "The Lasso regression model was trained on the dataset, and the following metrics were obtained for the training data:\n",
    "\n",
    "- **Intercept**: -24.106\n",
    "- **Root Mean Squared Error (RMSE)**: $75.47\n",
    "- **R² (Coefficient of Determination)**: 58.66%\n",
    "\n",
    "These metrics indicate that the model explains approximately 58.66% of the variance in the training data, with an average prediction error of $75.47.\n",
    "\n",
    "#### Model Evaluation (Test Data)\n",
    "The model was evaluated on the test data, yielding the following metrics:\n",
    "\n",
    "- **Test RMSE**: $73.75\n",
    "- **Test R²**: 58.52%\n",
    "\n",
    "The test data metrics are quite similar to the training data metrics, suggesting that the model generalizes well to unseen data. The R² value of 58.52% indicates that the model explains a similar proportion of variance in the test data as it does in the training data.\n",
    "\n",
    "#### Feature Importance\n",
    "The table lists the top 10 features based on their absolute coefficient values, indicating their impact on the model's predictions.\n",
    "\n",
    "#### Feature Selection with Lasso Regression\n",
    "Lasso regression includes a regularization term that can set some coefficients to zero, effectively removing those features from the model. This property makes Lasso regression useful for feature selection.\n",
    "\n",
    "The number of remaining features is 169 features.\n",
    "\n",
    "These results indicate that the Lasso regression model has effectively reduced the number of features by setting some coefficients to zero. This reduction in the number of features can help in simplifying the model and potentially improving its interpretability and generalization to new data."
   ]
  },
  {
   "cell_type": "code",
   "execution_count": 98,
   "metadata": {},
   "outputs": [],
   "source": [
    "def backward_elimination(data: DataFrame, features: list, label: str, stop_threshold=0.1):\n",
    "    features_to_keep = features.copy()\n",
    "    \n",
    "    while len(features_to_keep) > 0:\n",
    "        print(f\"Training model with {len(features_to_keep)} features.\")\n",
    "        \n",
    "        # Assemble the feature vector for the current set of features\n",
    "        assembler = VectorAssembler(inputCols=features_to_keep, outputCol=\"features\")\n",
    "        \n",
    "        # Drop the existing 'features' column if it exists\n",
    "        if 'features' in data.columns:\n",
    "            data = data.drop('features')\n",
    "\n",
    "        # Transform the data to create the new 'features' column\n",
    "        data_assembled = assembler.transform(data).select(\"features\", label)\n",
    "        \n",
    "        # Create a StandardScaler instance\n",
    "        scaler = SparkStandardScaler(inputCol='features', outputCol='scaled_features', withMean=True, withStd=True)\n",
    "        \n",
    "        # Fit the scaler to the data and transform it\n",
    "        scaler_model = scaler.fit(data_assembled)\n",
    "        data_scaled = scaler_model.transform(data_assembled)\n",
    "        \n",
    "        # Train the model on the scaled features\n",
    "        lr = LinearRegression(featuresCol=\"scaled_features\", labelCol=label)\n",
    "        lr_model = lr.fit(data_scaled)\n",
    "        \n",
    "        # Get the coefficients and associated features\n",
    "        coefficients = lr_model.coefficients\n",
    "        coef_feature_pairs = list(zip(coefficients, features_to_keep))\n",
    "        \n",
    "        # Find the least significant feature (smallest coefficient magnitude)\n",
    "        least_significant_feature = min(coef_feature_pairs, key=lambda x: abs(x[0]))[1]\n",
    "        \n",
    "        # Check the magnitude of the smallest coefficient using absolute value\n",
    "        if abs(min(coef_feature_pairs, key=lambda x: abs(x[0]))[0]) < stop_threshold:\n",
    "            print(f\"Removing least significant feature: {least_significant_feature}\")\n",
    "            features_to_keep.remove(least_significant_feature)\n",
    "        else:\n",
    "            break\n",
    "\n",
    "    print(f\"Final set of features: {features_to_keep}\")\n",
    "    return features_to_keep"
   ]
  },
  {
   "cell_type": "code",
   "execution_count": 46,
   "metadata": {},
   "outputs": [
    {
     "name": "stdout",
     "output_type": "stream",
     "text": [
      "Training model with 201 features.\n"
     ]
    },
    {
     "name": "stderr",
     "output_type": "stream",
     "text": [
      "24/10/17 21:46:21 WARN Instrumentation: [818808c1] regParam is zero, which might cause numerical instability and overfitting.\n",
      "24/10/17 21:46:22 WARN Instrumentation: [818808c1] Cholesky solver failed due to singular covariance matrix. Retrying with Quasi-Newton solver.\n"
     ]
    },
    {
     "name": "stdout",
     "output_type": "stream",
     "text": [
      "Removing least significant feature: cbd_count\n",
      "Training model with 200 features.\n"
     ]
    },
    {
     "name": "stderr",
     "output_type": "stream",
     "text": [
      "24/10/17 21:46:25 WARN Instrumentation: [a9532c08] regParam is zero, which might cause numerical instability and overfitting.\n",
      "24/10/17 21:46:26 WARN Instrumentation: [a9532c08] Cholesky solver failed due to singular covariance matrix. Retrying with Quasi-Newton solver.\n"
     ]
    },
    {
     "name": "stdout",
     "output_type": "stream",
     "text": [
      "Removing least significant feature: close_to_shops\n",
      "Training model with 199 features.\n"
     ]
    },
    {
     "name": "stderr",
     "output_type": "stream",
     "text": [
      "24/10/17 21:46:27 WARN Instrumentation: [500c63f3] regParam is zero, which might cause numerical instability and overfitting.\n",
      "24/10/17 21:46:28 WARN Instrumentation: [500c63f3] Cholesky solver failed due to singular covariance matrix. Retrying with Quasi-Newton solver.\n"
     ]
    },
    {
     "name": "stdout",
     "output_type": "stream",
     "text": [
      "Removing least significant feature: alarm_system\n",
      "Training model with 198 features.\n"
     ]
    },
    {
     "name": "stderr",
     "output_type": "stream",
     "text": [
      "24/10/17 21:46:30 WARN Instrumentation: [d0963544] regParam is zero, which might cause numerical instability and overfitting.\n",
      "24/10/17 21:46:30 WARN Instrumentation: [d0963544] Cholesky solver failed due to singular covariance matrix. Retrying with Quasi-Newton solver.\n"
     ]
    },
    {
     "name": "stdout",
     "output_type": "stream",
     "text": [
      "Removing least significant feature: intercom\n",
      "Training model with 197 features.\n"
     ]
    },
    {
     "name": "stderr",
     "output_type": "stream",
     "text": [
      "24/10/17 21:46:32 WARN Instrumentation: [47b6982a] regParam is zero, which might cause numerical instability and overfitting.\n",
      "24/10/17 21:46:33 WARN Instrumentation: [47b6982a] Cholesky solver failed due to singular covariance matrix. Retrying with Quasi-Newton solver.\n"
     ]
    },
    {
     "name": "stdout",
     "output_type": "stream",
     "text": [
      "Removing least significant feature: internal_laundry\n",
      "Training model with 196 features.\n"
     ]
    },
    {
     "name": "stderr",
     "output_type": "stream",
     "text": [
      "24/10/17 21:46:35 WARN Instrumentation: [9d050bb0] regParam is zero, which might cause numerical instability and overfitting.\n",
      "24/10/17 21:46:36 WARN Instrumentation: [9d050bb0] Cholesky solver failed due to singular covariance matrix. Retrying with Quasi-Newton solver.\n",
      "                                                                                \r"
     ]
    },
    {
     "name": "stdout",
     "output_type": "stream",
     "text": [
      "Removing least significant feature: remote_garage\n",
      "Training model with 195 features.\n"
     ]
    },
    {
     "name": "stderr",
     "output_type": "stream",
     "text": [
      "24/10/17 21:46:38 WARN Instrumentation: [dedbb0bf] regParam is zero, which might cause numerical instability and overfitting.\n",
      "24/10/17 21:46:39 WARN Instrumentation: [dedbb0bf] Cholesky solver failed due to singular covariance matrix. Retrying with Quasi-Newton solver.\n"
     ]
    },
    {
     "name": "stdout",
     "output_type": "stream",
     "text": [
      "Removing least significant feature: close_to_schools\n",
      "Training model with 194 features.\n"
     ]
    },
    {
     "name": "stderr",
     "output_type": "stream",
     "text": [
      "24/10/17 21:46:40 WARN Instrumentation: [a4279225] regParam is zero, which might cause numerical instability and overfitting.\n",
      "24/10/17 21:46:41 WARN Instrumentation: [a4279225] Cholesky solver failed due to singular covariance matrix. Retrying with Quasi-Newton solver.\n"
     ]
    },
    {
     "name": "stdout",
     "output_type": "stream",
     "text": [
      "Removing least significant feature: dec_2017\n",
      "Training model with 193 features.\n"
     ]
    },
    {
     "name": "stderr",
     "output_type": "stream",
     "text": [
      "24/10/17 21:46:42 WARN Instrumentation: [32082358] regParam is zero, which might cause numerical instability and overfitting.\n",
      "24/10/17 21:46:43 WARN Instrumentation: [32082358] Cholesky solver failed due to singular covariance matrix. Retrying with Quasi-Newton solver.\n"
     ]
    },
    {
     "name": "stdout",
     "output_type": "stream",
     "text": [
      "Removing least significant feature: dec_2016\n",
      "Training model with 192 features.\n"
     ]
    },
    {
     "name": "stderr",
     "output_type": "stream",
     "text": [
      "24/10/17 21:46:44 WARN Instrumentation: [d841efaa] regParam is zero, which might cause numerical instability and overfitting.\n",
      "24/10/17 21:46:45 WARN Instrumentation: [d841efaa] Cholesky solver failed due to singular covariance matrix. Retrying with Quasi-Newton solver.\n"
     ]
    },
    {
     "name": "stdout",
     "output_type": "stream",
     "text": [
      "Removing least significant feature: split_system_heating\n",
      "Training model with 191 features.\n"
     ]
    },
    {
     "name": "stderr",
     "output_type": "stream",
     "text": [
      "24/10/17 21:46:47 WARN Instrumentation: [99b9179a] regParam is zero, which might cause numerical instability and overfitting.\n",
      "24/10/17 21:46:48 WARN Instrumentation: [99b9179a] Cholesky solver failed due to singular covariance matrix. Retrying with Quasi-Newton solver.\n"
     ]
    },
    {
     "name": "stdout",
     "output_type": "stream",
     "text": [
      "Removing least significant feature: ducted_heating\n",
      "Training model with 190 features.\n"
     ]
    },
    {
     "name": "stderr",
     "output_type": "stream",
     "text": [
      "24/10/17 21:46:50 WARN Instrumentation: [85bc5b1e] regParam is zero, which might cause numerical instability and overfitting.\n",
      "24/10/17 21:46:51 WARN Instrumentation: [85bc5b1e] Cholesky solver failed due to singular covariance matrix. Retrying with Quasi-Newton solver.\n"
     ]
    },
    {
     "name": "stdout",
     "output_type": "stream",
     "text": [
      "Removing least significant feature: 2005_pop\n",
      "Training model with 189 features.\n"
     ]
    },
    {
     "name": "stderr",
     "output_type": "stream",
     "text": [
      "24/10/17 21:46:53 WARN Instrumentation: [c990b3c1] regParam is zero, which might cause numerical instability and overfitting.\n",
      "24/10/17 21:46:53 WARN Instrumentation: [c990b3c1] Cholesky solver failed due to singular covariance matrix. Retrying with Quasi-Newton solver.\n",
      "                                                                                \r"
     ]
    },
    {
     "name": "stdout",
     "output_type": "stream",
     "text": [
      "Removing least significant feature: jun_2022\n",
      "Training model with 188 features.\n"
     ]
    },
    {
     "name": "stderr",
     "output_type": "stream",
     "text": [
      "24/10/17 21:46:56 WARN Instrumentation: [da390224] regParam is zero, which might cause numerical instability and overfitting.\n",
      "24/10/17 21:46:57 WARN Instrumentation: [da390224] Cholesky solver failed due to singular covariance matrix. Retrying with Quasi-Newton solver.\n"
     ]
    },
    {
     "name": "stdout",
     "output_type": "stream",
     "text": [
      "Removing least significant feature: ensuite\n",
      "Training model with 187 features.\n"
     ]
    },
    {
     "name": "stderr",
     "output_type": "stream",
     "text": [
      "24/10/17 21:47:01 WARN Instrumentation: [30dca089] regParam is zero, which might cause numerical instability and overfitting.\n",
      "24/10/17 21:47:02 WARN Instrumentation: [30dca089] Cholesky solver failed due to singular covariance matrix. Retrying with Quasi-Newton solver.\n",
      "                                                                                \r"
     ]
    },
    {
     "name": "stdout",
     "output_type": "stream",
     "text": [
      "Removing least significant feature: heating\n",
      "Training model with 186 features.\n"
     ]
    },
    {
     "name": "stderr",
     "output_type": "stream",
     "text": [
      "24/10/17 21:47:05 WARN Instrumentation: [8074725e] regParam is zero, which might cause numerical instability and overfitting.\n",
      "24/10/17 21:47:06 WARN Instrumentation: [8074725e] Cholesky solver failed due to singular covariance matrix. Retrying with Quasi-Newton solver.\n"
     ]
    },
    {
     "name": "stdout",
     "output_type": "stream",
     "text": [
      "Removing least significant feature: train_stations_time_distance_product\n",
      "Training model with 185 features.\n"
     ]
    },
    {
     "name": "stderr",
     "output_type": "stream",
     "text": [
      "24/10/17 21:47:08 WARN Instrumentation: [18088cd3] regParam is zero, which might cause numerical instability and overfitting.\n",
      "24/10/17 21:47:09 WARN Instrumentation: [18088cd3] Cholesky solver failed due to singular covariance matrix. Retrying with Quasi-Newton solver.\n",
      "                                                                                \r"
     ]
    },
    {
     "name": "stdout",
     "output_type": "stream",
     "text": [
      "Removing least significant feature: parks_count\n",
      "Training model with 184 features.\n"
     ]
    },
    {
     "name": "stderr",
     "output_type": "stream",
     "text": [
      "24/10/17 21:47:11 WARN Instrumentation: [23138da3] regParam is zero, which might cause numerical instability and overfitting.\n",
      "24/10/17 21:47:12 WARN Instrumentation: [23138da3] Cholesky solver failed due to singular covariance matrix. Retrying with Quasi-Newton solver.\n",
      "                                                                                \r"
     ]
    },
    {
     "name": "stdout",
     "output_type": "stream",
     "text": [
      "Removing least significant feature: fully_fenced\n",
      "Training model with 183 features.\n"
     ]
    },
    {
     "name": "stderr",
     "output_type": "stream",
     "text": [
      "24/10/17 21:47:14 WARN Instrumentation: [d192c35f] regParam is zero, which might cause numerical instability and overfitting.\n",
      "24/10/17 21:47:15 WARN Instrumentation: [d192c35f] Cholesky solver failed due to singular covariance matrix. Retrying with Quasi-Newton solver.\n"
     ]
    },
    {
     "name": "stdout",
     "output_type": "stream",
     "text": [
      "Removing least significant feature: prop_type_index\n",
      "Training model with 182 features.\n"
     ]
    },
    {
     "name": "stderr",
     "output_type": "stream",
     "text": [
      "24/10/17 21:47:16 WARN Instrumentation: [ecb98d08] regParam is zero, which might cause numerical instability and overfitting.\n",
      "24/10/17 21:47:17 WARN Instrumentation: [ecb98d08] Cholesky solver failed due to singular covariance matrix. Retrying with Quasi-Newton solver.\n"
     ]
    },
    {
     "name": "stdout",
     "output_type": "stream",
     "text": [
      "Removing least significant feature: close_to_transport\n",
      "Training model with 181 features.\n"
     ]
    },
    {
     "name": "stderr",
     "output_type": "stream",
     "text": [
      "24/10/17 21:47:19 WARN Instrumentation: [aa98787d] regParam is zero, which might cause numerical instability and overfitting.\n",
      "24/10/17 21:47:20 WARN Instrumentation: [aa98787d] Cholesky solver failed due to singular covariance matrix. Retrying with Quasi-Newton solver.\n"
     ]
    },
    {
     "name": "stdout",
     "output_type": "stream",
     "text": [
      "Removing least significant feature: dec_2021\n",
      "Training model with 180 features.\n"
     ]
    },
    {
     "name": "stderr",
     "output_type": "stream",
     "text": [
      "24/10/17 21:47:21 WARN Instrumentation: [c7fbb049] regParam is zero, which might cause numerical instability and overfitting.\n",
      "24/10/17 21:47:22 WARN Instrumentation: [c7fbb049] Cholesky solver failed due to singular covariance matrix. Retrying with Quasi-Newton solver.\n"
     ]
    },
    {
     "name": "stdout",
     "output_type": "stream",
     "text": [
      "Removing least significant feature: garden_courtyard\n",
      "Training model with 179 features.\n"
     ]
    },
    {
     "name": "stderr",
     "output_type": "stream",
     "text": [
      "24/10/17 21:47:24 WARN Instrumentation: [03a085e1] regParam is zero, which might cause numerical instability and overfitting.\n",
      "24/10/17 21:47:25 WARN Instrumentation: [03a085e1] Cholesky solver failed due to singular covariance matrix. Retrying with Quasi-Newton solver.\n"
     ]
    },
    {
     "name": "stdout",
     "output_type": "stream",
     "text": [
      "Removing least significant feature: parkings\n",
      "Training model with 178 features.\n"
     ]
    },
    {
     "name": "stderr",
     "output_type": "stream",
     "text": [
      "24/10/17 21:47:26 WARN Instrumentation: [747e6525] regParam is zero, which might cause numerical instability and overfitting.\n",
      "24/10/17 21:47:27 WARN Instrumentation: [747e6525] Cholesky solver failed due to singular covariance matrix. Retrying with Quasi-Newton solver.\n"
     ]
    },
    {
     "name": "stdout",
     "output_type": "stream",
     "text": [
      "Removing least significant feature: balcony_deck\n",
      "Training model with 177 features.\n"
     ]
    },
    {
     "name": "stderr",
     "output_type": "stream",
     "text": [
      "24/10/17 21:47:29 WARN Instrumentation: [5ecf0984] regParam is zero, which might cause numerical instability and overfitting.\n",
      "24/10/17 21:47:29 WARN Instrumentation: [5ecf0984] Cholesky solver failed due to singular covariance matrix. Retrying with Quasi-Newton solver.\n"
     ]
    },
    {
     "name": "stdout",
     "output_type": "stream",
     "text": [
      "Removing least significant feature: jun_2000\n",
      "Training model with 176 features.\n"
     ]
    },
    {
     "name": "stderr",
     "output_type": "stream",
     "text": [
      "24/10/17 21:47:31 WARN Instrumentation: [6be9433f] regParam is zero, which might cause numerical instability and overfitting.\n",
      "24/10/17 21:47:31 WARN Instrumentation: [6be9433f] Cholesky solver failed due to singular covariance matrix. Retrying with Quasi-Newton solver.\n"
     ]
    },
    {
     "name": "stdout",
     "output_type": "stream",
     "text": [
      "Removing least significant feature: increase_2002_pop\n",
      "Training model with 175 features.\n"
     ]
    },
    {
     "name": "stderr",
     "output_type": "stream",
     "text": [
      "24/10/17 21:47:33 WARN Instrumentation: [af49b083] regParam is zero, which might cause numerical instability and overfitting.\n",
      "                                                                                \r"
     ]
    },
    {
     "name": "stdout",
     "output_type": "stream",
     "text": [
      "Removing least significant feature: supermarkets_count\n",
      "Training model with 174 features.\n"
     ]
    },
    {
     "name": "stderr",
     "output_type": "stream",
     "text": [
      "24/10/17 21:47:35 WARN Instrumentation: [1328eae6] regParam is zero, which might cause numerical instability and overfitting.\n",
      "                                                                                \r"
     ]
    },
    {
     "name": "stdout",
     "output_type": "stream",
     "text": [
      "Removing least significant feature: parks_time_distance_product\n",
      "Training model with 173 features.\n"
     ]
    },
    {
     "name": "stderr",
     "output_type": "stream",
     "text": [
      "24/10/17 21:47:38 WARN Instrumentation: [99a8a4e2] regParam is zero, which might cause numerical instability and overfitting.\n",
      "                                                                                \r"
     ]
    },
    {
     "name": "stdout",
     "output_type": "stream",
     "text": [
      "Removing least significant feature: jun_2015\n",
      "Training model with 172 features.\n"
     ]
    },
    {
     "name": "stderr",
     "output_type": "stream",
     "text": [
      "24/10/17 21:47:40 WARN Instrumentation: [5940c0f1] regParam is zero, which might cause numerical instability and overfitting.\n"
     ]
    },
    {
     "name": "stdout",
     "output_type": "stream",
     "text": [
      "Removing least significant feature: cbd_average_travel_time_mins\n",
      "Training model with 171 features.\n"
     ]
    },
    {
     "name": "stderr",
     "output_type": "stream",
     "text": [
      "24/10/17 21:47:42 WARN Instrumentation: [9fbe0f76] regParam is zero, which might cause numerical instability and overfitting.\n"
     ]
    },
    {
     "name": "stdout",
     "output_type": "stream",
     "text": [
      "Removing least significant feature: normalized_livability_score\n",
      "Training model with 170 features.\n"
     ]
    },
    {
     "name": "stderr",
     "output_type": "stream",
     "text": [
      "24/10/17 21:47:45 WARN Instrumentation: [3e76fa54] regParam is zero, which might cause numerical instability and overfitting.\n",
      "                                                                                \r"
     ]
    },
    {
     "name": "stdout",
     "output_type": "stream",
     "text": [
      "Removing least significant feature: balcony\n",
      "Training model with 169 features.\n"
     ]
    },
    {
     "name": "stderr",
     "output_type": "stream",
     "text": [
      "24/10/17 21:47:47 WARN Instrumentation: [58d83da6] regParam is zero, which might cause numerical instability and overfitting.\n"
     ]
    },
    {
     "name": "stdout",
     "output_type": "stream",
     "text": [
      "Removing least significant feature: secure_parking\n",
      "Training model with 168 features.\n"
     ]
    },
    {
     "name": "stderr",
     "output_type": "stream",
     "text": [
      "24/10/17 21:47:49 WARN Instrumentation: [64fc8444] regParam is zero, which might cause numerical instability and overfitting.\n"
     ]
    },
    {
     "name": "stdout",
     "output_type": "stream",
     "text": [
      "Removing least significant feature: hospitals_average_travel_time_mins\n",
      "Training model with 167 features.\n"
     ]
    },
    {
     "name": "stderr",
     "output_type": "stream",
     "text": [
      "24/10/17 21:47:50 WARN Instrumentation: [be254dc4] regParam is zero, which might cause numerical instability and overfitting.\n",
      "                                                                                \r"
     ]
    },
    {
     "name": "stdout",
     "output_type": "stream",
     "text": [
      "Removing least significant feature: train_stations_count\n",
      "Training model with 166 features.\n"
     ]
    },
    {
     "name": "stderr",
     "output_type": "stream",
     "text": [
      "24/10/17 21:47:53 WARN Instrumentation: [d042b576] regParam is zero, which might cause numerical instability and overfitting.\n"
     ]
    },
    {
     "name": "stdout",
     "output_type": "stream",
     "text": [
      "Removing least significant feature: train_stations_average_travel_time_mins\n",
      "Training model with 165 features.\n"
     ]
    },
    {
     "name": "stderr",
     "output_type": "stream",
     "text": [
      "24/10/17 21:47:55 WARN Instrumentation: [93acccdf] regParam is zero, which might cause numerical instability and overfitting.\n"
     ]
    },
    {
     "name": "stdout",
     "output_type": "stream",
     "text": [
      "Removing least significant feature: train_stations_average_travel_distance_kms\n",
      "Training model with 164 features.\n"
     ]
    },
    {
     "name": "stderr",
     "output_type": "stream",
     "text": [
      "24/10/17 21:47:57 WARN Instrumentation: [0838d70c] regParam is zero, which might cause numerical instability and overfitting.\n",
      "                                                                                \r"
     ]
    },
    {
     "name": "stdout",
     "output_type": "stream",
     "text": [
      "Removing least significant feature: sep_2018\n",
      "Training model with 163 features.\n"
     ]
    },
    {
     "name": "stderr",
     "output_type": "stream",
     "text": [
      "24/10/17 21:47:59 WARN Instrumentation: [c2197e47] regParam is zero, which might cause numerical instability and overfitting.\n"
     ]
    },
    {
     "name": "stdout",
     "output_type": "stream",
     "text": [
      "Removing least significant feature: furnished\n",
      "Training model with 162 features.\n"
     ]
    },
    {
     "name": "stderr",
     "output_type": "stream",
     "text": [
      "24/10/17 21:48:01 WARN Instrumentation: [16fe6307] regParam is zero, which might cause numerical instability and overfitting.\n"
     ]
    },
    {
     "name": "stdout",
     "output_type": "stream",
     "text": [
      "Removing least significant feature: schools_average_travel_distance_kms\n",
      "Training model with 161 features.\n"
     ]
    },
    {
     "name": "stderr",
     "output_type": "stream",
     "text": [
      "24/10/17 21:48:03 WARN Instrumentation: [7805df27] regParam is zero, which might cause numerical instability and overfitting.\n",
      "                                                                                \r"
     ]
    },
    {
     "name": "stdout",
     "output_type": "stream",
     "text": [
      "Removing least significant feature: shopping_districts_count\n",
      "Training model with 160 features.\n"
     ]
    },
    {
     "name": "stderr",
     "output_type": "stream",
     "text": [
      "24/10/17 21:48:05 WARN Instrumentation: [13c88bcf] regParam is zero, which might cause numerical instability and overfitting.\n",
      "                                                                                \r"
     ]
    },
    {
     "name": "stdout",
     "output_type": "stream",
     "text": [
      "Removing least significant feature: pets_allowed\n",
      "Training model with 159 features.\n"
     ]
    },
    {
     "name": "stderr",
     "output_type": "stream",
     "text": [
      "24/10/17 21:48:07 WARN Instrumentation: [7749d1e8] regParam is zero, which might cause numerical instability and overfitting.\n"
     ]
    },
    {
     "name": "stdout",
     "output_type": "stream",
     "text": [
      "Removing least significant feature: schools_count\n",
      "Training model with 158 features.\n"
     ]
    },
    {
     "name": "stderr",
     "output_type": "stream",
     "text": [
      "24/10/17 21:48:09 WARN Instrumentation: [dc63172e] regParam is zero, which might cause numerical instability and overfitting.\n"
     ]
    },
    {
     "name": "stdout",
     "output_type": "stream",
     "text": [
      "Removing least significant feature: study\n",
      "Training model with 157 features.\n"
     ]
    },
    {
     "name": "stderr",
     "output_type": "stream",
     "text": [
      "24/10/17 21:48:11 WARN Instrumentation: [b88f6204] regParam is zero, which might cause numerical instability and overfitting.\n"
     ]
    },
    {
     "name": "stdout",
     "output_type": "stream",
     "text": [
      "Removing least significant feature: sep_2015\n",
      "Training model with 156 features.\n"
     ]
    },
    {
     "name": "stderr",
     "output_type": "stream",
     "text": [
      "24/10/17 21:48:13 WARN Instrumentation: [e6c4fef8] regParam is zero, which might cause numerical instability and overfitting.\n"
     ]
    },
    {
     "name": "stdout",
     "output_type": "stream",
     "text": [
      "Removing least significant feature: 2003_pop\n",
      "Training model with 155 features.\n"
     ]
    },
    {
     "name": "stderr",
     "output_type": "stream",
     "text": [
      "24/10/17 21:48:15 WARN Instrumentation: [81749f18] regParam is zero, which might cause numerical instability and overfitting.\n",
      "                                                                                \r"
     ]
    },
    {
     "name": "stdout",
     "output_type": "stream",
     "text": [
      "Removing least significant feature: swimming_pool\n",
      "Training model with 154 features.\n"
     ]
    },
    {
     "name": "stderr",
     "output_type": "stream",
     "text": [
      "24/10/17 21:48:17 WARN Instrumentation: [32fe9298] regParam is zero, which might cause numerical instability and overfitting.\n"
     ]
    },
    {
     "name": "stdout",
     "output_type": "stream",
     "text": [
      "Removing least significant feature: floorboards\n",
      "Training model with 153 features.\n"
     ]
    },
    {
     "name": "stderr",
     "output_type": "stream",
     "text": [
      "24/10/17 21:48:19 WARN Instrumentation: [5969b68c] regParam is zero, which might cause numerical instability and overfitting.\n"
     ]
    },
    {
     "name": "stdout",
     "output_type": "stream",
     "text": [
      "Removing least significant feature: sep_2008\n",
      "Training model with 152 features.\n"
     ]
    },
    {
     "name": "stderr",
     "output_type": "stream",
     "text": [
      "24/10/17 21:48:21 WARN Instrumentation: [ac8ea0d8] regParam is zero, which might cause numerical instability and overfitting.\n"
     ]
    },
    {
     "name": "stdout",
     "output_type": "stream",
     "text": [
      "Removing least significant feature: built_in_wardrobes\n",
      "Training model with 151 features.\n"
     ]
    },
    {
     "name": "stderr",
     "output_type": "stream",
     "text": [
      "24/10/17 21:48:24 WARN Instrumentation: [184629fd] regParam is zero, which might cause numerical instability and overfitting.\n"
     ]
    },
    {
     "name": "stdout",
     "output_type": "stream",
     "text": [
      "Removing least significant feature: air_conditioning\n",
      "Training model with 150 features.\n"
     ]
    },
    {
     "name": "stderr",
     "output_type": "stream",
     "text": [
      "24/10/17 21:48:25 WARN Instrumentation: [0825ca24] regParam is zero, which might cause numerical instability and overfitting.\n"
     ]
    },
    {
     "name": "stdout",
     "output_type": "stream",
     "text": [
      "Removing least significant feature: parks_average_travel_time_mins\n",
      "Training model with 149 features.\n"
     ]
    },
    {
     "name": "stderr",
     "output_type": "stream",
     "text": [
      "24/10/17 21:48:27 WARN Instrumentation: [4455cbaf] regParam is zero, which might cause numerical instability and overfitting.\n",
      "                                                                                \r"
     ]
    },
    {
     "name": "stdout",
     "output_type": "stream",
     "text": [
      "Removing least significant feature: parks_average_travel_distance_kms\n",
      "Training model with 148 features.\n"
     ]
    },
    {
     "name": "stderr",
     "output_type": "stream",
     "text": [
      "24/10/17 21:48:29 WARN Instrumentation: [607ea922] regParam is zero, which might cause numerical instability and overfitting.\n",
      "                                                                                \r"
     ]
    },
    {
     "name": "stdout",
     "output_type": "stream",
     "text": [
      "Removing least significant feature: gym\n",
      "Training model with 147 features.\n"
     ]
    },
    {
     "name": "stderr",
     "output_type": "stream",
     "text": [
      "24/10/17 21:48:32 WARN Instrumentation: [640cbf68] regParam is zero, which might cause numerical instability and overfitting.\n"
     ]
    },
    {
     "name": "stdout",
     "output_type": "stream",
     "text": [
      "Removing least significant feature: hospitals_average_travel_distance_kms\n",
      "Training model with 146 features.\n"
     ]
    },
    {
     "name": "stderr",
     "output_type": "stream",
     "text": [
      "24/10/17 21:48:33 WARN Instrumentation: [ff7cdc4f] regParam is zero, which might cause numerical instability and overfitting.\n",
      "                                                                                \r"
     ]
    },
    {
     "name": "stdout",
     "output_type": "stream",
     "text": [
      "Removing least significant feature: hospitals_time_distance_product\n",
      "Training model with 145 features.\n"
     ]
    },
    {
     "name": "stderr",
     "output_type": "stream",
     "text": [
      "24/10/17 21:48:35 WARN Instrumentation: [236d82a0] regParam is zero, which might cause numerical instability and overfitting.\n",
      "                                                                                \r"
     ]
    },
    {
     "name": "stdout",
     "output_type": "stream",
     "text": [
      "Removing least significant feature: sep_2016\n",
      "Training model with 144 features.\n"
     ]
    },
    {
     "name": "stderr",
     "output_type": "stream",
     "text": [
      "24/10/17 21:48:37 WARN Instrumentation: [55a650e7] regParam is zero, which might cause numerical instability and overfitting.\n"
     ]
    },
    {
     "name": "stdout",
     "output_type": "stream",
     "text": [
      "Removing least significant feature: hospitals_count\n",
      "Training model with 143 features.\n"
     ]
    },
    {
     "name": "stderr",
     "output_type": "stream",
     "text": [
      "24/10/17 21:48:39 WARN Instrumentation: [acd8d71f] regParam is zero, which might cause numerical instability and overfitting.\n"
     ]
    },
    {
     "name": "stdout",
     "output_type": "stream",
     "text": [
      "Removing least significant feature: jun_2003\n",
      "Training model with 142 features.\n"
     ]
    },
    {
     "name": "stderr",
     "output_type": "stream",
     "text": [
      "24/10/17 21:48:41 WARN Instrumentation: [203751f1] regParam is zero, which might cause numerical instability and overfitting.\n",
      "                                                                                \r"
     ]
    },
    {
     "name": "stdout",
     "output_type": "stream",
     "text": [
      "Removing least significant feature: mar_2009\n",
      "Training model with 141 features.\n"
     ]
    },
    {
     "name": "stderr",
     "output_type": "stream",
     "text": [
      "24/10/17 21:48:43 WARN Instrumentation: [3b271d1c] regParam is zero, which might cause numerical instability and overfitting.\n"
     ]
    },
    {
     "name": "stdout",
     "output_type": "stream",
     "text": [
      "Removing least significant feature: schools_average_travel_time_mins\n",
      "Training model with 140 features.\n"
     ]
    },
    {
     "name": "stderr",
     "output_type": "stream",
     "text": [
      "24/10/17 21:48:44 WARN Instrumentation: [a982268f] regParam is zero, which might cause numerical instability and overfitting.\n"
     ]
    },
    {
     "name": "stdout",
     "output_type": "stream",
     "text": [
      "Removing least significant feature: schools_time_distance_product\n",
      "Training model with 139 features.\n"
     ]
    },
    {
     "name": "stderr",
     "output_type": "stream",
     "text": [
      "24/10/17 21:48:46 WARN Instrumentation: [a9af6068] regParam is zero, which might cause numerical instability and overfitting.\n"
     ]
    },
    {
     "name": "stdout",
     "output_type": "stream",
     "text": [
      "Removing least significant feature: postal_code\n",
      "Training model with 138 features.\n"
     ]
    },
    {
     "name": "stderr",
     "output_type": "stream",
     "text": [
      "24/10/17 21:48:48 WARN Instrumentation: [0fc61fe6] regParam is zero, which might cause numerical instability and overfitting.\n"
     ]
    },
    {
     "name": "stdout",
     "output_type": "stream",
     "text": [
      "Removing least significant feature: dec_2020\n",
      "Training model with 137 features.\n"
     ]
    },
    {
     "name": "stderr",
     "output_type": "stream",
     "text": [
      "24/10/17 21:48:50 WARN Instrumentation: [62607861] regParam is zero, which might cause numerical instability and overfitting.\n",
      "                                                                                \r"
     ]
    },
    {
     "name": "stdout",
     "output_type": "stream",
     "text": [
      "Removing least significant feature: increase_2017_pop\n",
      "Training model with 136 features.\n"
     ]
    },
    {
     "name": "stderr",
     "output_type": "stream",
     "text": [
      "24/10/17 21:48:52 WARN Instrumentation: [95833b4f] regParam is zero, which might cause numerical instability and overfitting.\n"
     ]
    },
    {
     "name": "stdout",
     "output_type": "stream",
     "text": [
      "Final set of features: ['beds', 'baths', 'dishwasher', 'supermarkets_average_travel_time_mins', 'supermarkets_average_travel_distance_kms', 'supermarkets_time_distance_product', 'shopping_districts_average_travel_time_mins', 'shopping_districts_average_travel_distance_kms', 'shopping_districts_time_distance_product', 'cbd_average_travel_distance_kms', 'cbd_time_distance_product', 'mar_2000', 'sep_2000', 'dec_2000', 'mar_2001', 'jun_2001', 'sep_2001', 'dec_2001', 'mar_2002', 'jun_2002', 'sep_2002', 'dec_2002', 'mar_2003', 'sep_2003', 'dec_2003', 'mar_2004', 'jun_2004', 'sep_2004', 'dec_2004', 'mar_2005', 'jun_2005', 'sep_2005', 'dec_2005', 'mar_2006', 'jun_2006', 'sep_2006', 'dec_2006', 'mar_2007', 'jun_2007', 'sep_2007', 'dec_2007', 'mar_2008', 'jun_2008', 'dec_2008', 'jun_2009', 'sep_2009', 'dec_2009', 'mar_2010', 'jun_2010', 'sep_2010', 'dec_2010', 'mar_2011', 'jun_2011', 'sep_2011', 'dec_2011', 'mar_2012', 'jun_2012', 'sep_2012', 'dec_2012', 'mar_2013', 'jun_2013', 'sep_2013', 'dec_2013', 'mar_2014', 'jun_2014', 'sep_2014', 'dec_2014', 'mar_2015', 'dec_2015', 'mar_2016', 'jun_2016', 'mar_2017', 'jun_2017', 'sep_2017', 'mar_2018', 'jun_2018', 'dec_2018', 'mar_2019', 'jun_2019', 'sep_2019', 'dec_2019', 'mar_2020', 'jun_2020', 'sep_2020', 'mar_2021', 'jun_2021', 'sep_2021', 'mar_2022', 'sep_2022', 'dec_2022', 'mar_2023', 'annual_increase', 'median_inc', '2001_pop', '2002_pop', '2004_pop', '2006_pop', '2007_pop', '2008_pop', '2009_pop', '2010_pop', '2011_pop', '2012_pop', '2013_pop', '2014_pop', '2015_pop', '2016_pop', '2017_pop', '2018_pop', '2019_pop', '2020_pop', '2021_pop', '2022_pop', '2023_pop', 'pop_growth', 'increase_2003_pop', 'increase_2004_pop', 'increase_2005_pop', 'increase_2006_pop', 'increase_2007_pop', 'increase_2008_pop', 'increase_2009_pop', 'increase_2010_pop', 'increase_2011_pop', 'increase_2012_pop', 'increase_2013_pop', 'increase_2014_pop', 'increase_2015_pop', 'increase_2016_pop', 'increase_2018_pop', 'increase_2019_pop', 'increase_2020_pop', 'increase_2021_pop', 'increase_2022_pop', 'increase_2023_pop', 'mean_population_increase_rate']\n"
     ]
    }
   ],
   "source": [
    "# Perform backward elimination\n",
    "final_features = backward_elimination(data, feature_columns, 'cost', stop_threshold=13)"
   ]
  },
  {
   "cell_type": "code",
   "execution_count": 99,
   "metadata": {},
   "outputs": [],
   "source": [
    "# Combine final feature columns into a single vector column 'features'\n",
    "assembler = VectorAssembler(inputCols=final_features, outputCol='features')\n",
    "\n",
    "# Select target variable 'cost' and final feature columns from DataFrame 'sdf'\n",
    "data = sdf.select('cost', *final_features)\n",
    "\n",
    "# Transform the DataFrame to add the 'features' column\n",
    "data = assembler.transform(data)"
   ]
  },
  {
   "cell_type": "code",
   "execution_count": 100,
   "metadata": {},
   "outputs": [
    {
     "name": "stderr",
     "output_type": "stream",
     "text": [
      "                                                                                \r"
     ]
    }
   ],
   "source": [
    "# Create a StandardScaler instance\n",
    "scaler = SparkStandardScaler(inputCol='features', outputCol='scaled_features', withMean=True, withStd=True)\n",
    "\n",
    "# Fit the scaler to the data\n",
    "scaler_model = scaler.fit(data)\n",
    "\n",
    "# Transform the data using the fitted scaler\n",
    "data = scaler_model.transform(data)"
   ]
  },
  {
   "cell_type": "code",
   "execution_count": 101,
   "metadata": {},
   "outputs": [],
   "source": [
    "train_data, test_data = data.randomSplit([0.8, 0.2], seed=1003)"
   ]
  },
  {
   "cell_type": "code",
   "execution_count": 102,
   "metadata": {},
   "outputs": [
    {
     "name": "stderr",
     "output_type": "stream",
     "text": [
      "24/10/17 22:25:34 WARN Instrumentation: [9354b549] regParam is zero, which might cause numerical instability and overfitting.\n",
      "                                                                                \r"
     ]
    }
   ],
   "source": [
    "# Initialize the Linear Regression model\n",
    "bw = LinearRegression(featuresCol='scaled_features', labelCol='cost')\n",
    "\n",
    "# Fit the model to the training data\n",
    "bw_model = lr.fit(train_data)"
   ]
  },
  {
   "cell_type": "code",
   "execution_count": 104,
   "metadata": {},
   "outputs": [],
   "source": [
    "# Save the Backward Elimination model\n",
    "bw_model.save(\"../models/backward_elimination_model\")"
   ]
  },
  {
   "cell_type": "code",
   "execution_count": 103,
   "metadata": {},
   "outputs": [
    {
     "name": "stdout",
     "output_type": "stream",
     "text": [
      "BACKWARDS ELIMINATION MODEL SUMMARY\n",
      "Intercept: 564.378\n",
      "RMSE (Train): $72.26\n",
      "R² (Train): 62.1%\n",
      "\n",
      "LINEAR REGRESSION MODEL EVALUATION (Test Data)\n",
      "RMSE (Test): $71.35\n",
      "R² (Test): 61.17%\n",
      "\n",
      "TOP 10 MOST IMPACTFUL FEATURES\n"
     ]
    },
    {
     "data": {
      "text/html": [
       "<div>\n",
       "<style scoped>\n",
       "    .dataframe tbody tr th:only-of-type {\n",
       "        vertical-align: middle;\n",
       "    }\n",
       "\n",
       "    .dataframe tbody tr th {\n",
       "        vertical-align: top;\n",
       "    }\n",
       "\n",
       "    .dataframe thead th {\n",
       "        text-align: right;\n",
       "    }\n",
       "</style>\n",
       "<table border=\"1\" class=\"dataframe\">\n",
       "  <thead>\n",
       "    <tr style=\"text-align: right;\">\n",
       "      <th></th>\n",
       "      <th>Feature</th>\n",
       "      <th>Coefficient</th>\n",
       "      <th>Absolute Coefficient</th>\n",
       "    </tr>\n",
       "  </thead>\n",
       "  <tbody>\n",
       "    <tr>\n",
       "      <th>114</th>\n",
       "      <td>pop_growth</td>\n",
       "      <td>13028.168</td>\n",
       "      <td>13028.168</td>\n",
       "    </tr>\n",
       "    <tr>\n",
       "      <th>104</th>\n",
       "      <td>2014_pop</td>\n",
       "      <td>8169.137</td>\n",
       "      <td>8169.137</td>\n",
       "    </tr>\n",
       "    <tr>\n",
       "      <th>100</th>\n",
       "      <td>2010_pop</td>\n",
       "      <td>-7492.900</td>\n",
       "      <td>7492.900</td>\n",
       "    </tr>\n",
       "    <tr>\n",
       "      <th>133</th>\n",
       "      <td>increase_2022_pop</td>\n",
       "      <td>-7231.159</td>\n",
       "      <td>7231.159</td>\n",
       "    </tr>\n",
       "    <tr>\n",
       "      <th>134</th>\n",
       "      <td>increase_2023_pop</td>\n",
       "      <td>-6279.662</td>\n",
       "      <td>6279.662</td>\n",
       "    </tr>\n",
       "    <tr>\n",
       "      <th>97</th>\n",
       "      <td>2007_pop</td>\n",
       "      <td>-5966.277</td>\n",
       "      <td>5966.277</td>\n",
       "    </tr>\n",
       "    <tr>\n",
       "      <th>103</th>\n",
       "      <td>2013_pop</td>\n",
       "      <td>-5624.353</td>\n",
       "      <td>5624.353</td>\n",
       "    </tr>\n",
       "    <tr>\n",
       "      <th>105</th>\n",
       "      <td>2015_pop</td>\n",
       "      <td>-5263.096</td>\n",
       "      <td>5263.096</td>\n",
       "    </tr>\n",
       "    <tr>\n",
       "      <th>109</th>\n",
       "      <td>2019_pop</td>\n",
       "      <td>-5045.422</td>\n",
       "      <td>5045.422</td>\n",
       "    </tr>\n",
       "    <tr>\n",
       "      <th>99</th>\n",
       "      <td>2009_pop</td>\n",
       "      <td>5002.188</td>\n",
       "      <td>5002.188</td>\n",
       "    </tr>\n",
       "  </tbody>\n",
       "</table>\n",
       "</div>"
      ],
      "text/plain": [
       "               Feature  Coefficient  Absolute Coefficient\n",
       "114         pop_growth    13028.168             13028.168\n",
       "104           2014_pop     8169.137              8169.137\n",
       "100           2010_pop    -7492.900              7492.900\n",
       "133  increase_2022_pop    -7231.159              7231.159\n",
       "134  increase_2023_pop    -6279.662              6279.662\n",
       "97            2007_pop    -5966.277              5966.277\n",
       "103           2013_pop    -5624.353              5624.353\n",
       "105           2015_pop    -5263.096              5263.096\n",
       "109           2019_pop    -5045.422              5045.422\n",
       "99            2009_pop     5002.188              5002.188"
      ]
     },
     "execution_count": 103,
     "metadata": {},
     "output_type": "execute_result"
    }
   ],
   "source": [
    "# Print model summary with formatted output for the Backwards Elimination Linear Regression model\n",
    "print(\"BACKWARDS ELIMINATION MODEL SUMMARY\")\n",
    "print(f\"Intercept: {round(bw_model.intercept, 3)}\")  # Display the intercept value, rounded to 3 decimal places\n",
    "print(f\"RMSE (Train): ${round(bw_model.summary.rootMeanSquaredError, 2)}\")  # Root Mean Squared Error for training set, formatted as a dollar value\n",
    "print(f\"R² (Train): {round(bw_model.summary.r2 * 100, 2)}%\")  # Coefficient of determination (R²) for training set in percentage\n",
    "\n",
    "# Get the coefficients and feature names\n",
    "coefficients = bw_model.coefficients.toArray()  # Convert coefficients into a numpy array\n",
    "feature_names = final_features  # Assume 'final_features' contains the selected feature names after backward elimination\n",
    "\n",
    "# Create a DataFrame to store features, their coefficients, and absolute coefficient values\n",
    "coefficients_df = pd.DataFrame({\n",
    "    'Feature': feature_names,\n",
    "    'Coefficient': [round(coeff, 3) for coeff in coefficients]  # Round coefficients to 3 decimal places for readability\n",
    "})\n",
    "\n",
    "# Calculate the absolute value of each coefficient to determine feature importance\n",
    "coefficients_df['Absolute Coefficient'] = coefficients_df['Coefficient'].abs()\n",
    "\n",
    "# Sort the DataFrame by 'Absolute Coefficient' in descending order for feature importance\n",
    "coefficients_df = coefficients_df.sort_values(by='Absolute Coefficient', ascending=False)\n",
    "\n",
    "# Evaluate the model on the test data to get the evaluation metrics\n",
    "test_results = bw_model.evaluate(test_data)\n",
    "\n",
    "# Print evaluation metrics for the test data\n",
    "print(\"\\nLINEAR REGRESSION MODEL EVALUATION (Test Data)\")\n",
    "print(f\"RMSE (Test): ${round(test_results.rootMeanSquaredError, 2)}\")  # Root Mean Squared Error for the test set, formatted as a dollar value\n",
    "print(f\"R² (Test): {round(test_results.r2 * 100, 2)}%\")  # Coefficient of determination (R²) for test set in percentage\n",
    "\n",
    "# Display the top 10 features ranked by their absolute impact on the model\n",
    "print(\"\\nTOP 10 MOST IMPACTFUL FEATURES\")\n",
    "coefficients_df.head(10)  # Display the top 10 most impactful features by absolute coefficient value"
   ]
  },
  {
   "cell_type": "markdown",
   "metadata": {},
   "source": [
    "### Analysis of Backwards Elimination Model\n",
    "\n",
    "#### Model Summary (Training Data)\n",
    "The backwards elimination model was trained on the dataset, and the following metrics were obtained for the training data:\n",
    "\n",
    "- **Intercept**: 564.378\n",
    "- **Root Mean Squared Error (RMSE)**: $72.26\n",
    "- **R² (Coefficient of Determination)**: 62.1%\n",
    "\n",
    "These metrics indicate that the model explains approximately 62.1% of the variance in the training data, with an average prediction error of $72.26.\n",
    "\n",
    "#### Model Evaluation (Test Data)\n",
    "The model was evaluated on the test data, yielding the following metrics:\n",
    "\n",
    "- **RMSE (Test)**: $71.35\n",
    "- **R² (Test)**: 61.17%\n",
    "\n",
    "The test data metrics are quite similar to the training data metrics, suggesting that the model generalizes well to unseen data. The R² value of 61.17% indicates that the model explains a similar proportion of variance in the test data as it does in the training data.\n",
    "\n",
    "#### Top 10 Most Impactful Features\n",
    "The table lists the top 10 features based on their absolute coefficient values, indicating their impact on the model's predictions.\n",
    "\n",
    "#### Observations\n",
    "1. **Population Growth**: The feature `pop_growth` has the highest positive coefficient, indicating a strong positive impact on the target variable.\n",
    "2. **Yearly Population Data**: Features related to population in specific years (e.g., 2014, 2010, 2007, 2013, 2015, 2019, 2009) have significant coefficients, suggesting that historical population data is a strong predictor in the model.\n",
    "3. **Population Increase**: Features related to population increase in recent years (e.g., 2022, 2023) have significant negative coefficients, indicating their impact on the target variable."
   ]
  },
  {
   "cell_type": "code",
   "execution_count": 105,
   "metadata": {},
   "outputs": [
    {
     "name": "stderr",
     "output_type": "stream",
     "text": [
      "24/10/17 22:26:16 ERROR Executor: Exception in task 3.0 in stage 42.0 (TID 85)\n",
      "org.apache.spark.SparkException: [FAILED_EXECUTE_UDF] Failed to execute user defined function (`PredictionModel$$Lambda$4028/1173133754`: (struct<type:tinyint,size:int,indices:array<int>,values:array<double>>) => double).\n",
      "\tat org.apache.spark.sql.errors.QueryExecutionErrors$.failedExecuteUserDefinedFunctionError(QueryExecutionErrors.scala:198)\n",
      "\tat org.apache.spark.sql.errors.QueryExecutionErrors.failedExecuteUserDefinedFunctionError(QueryExecutionErrors.scala)\n",
      "\tat org.apache.spark.sql.catalyst.expressions.GeneratedClass$GeneratedIteratorForCodegenStage1.processNext(Unknown Source)\n",
      "\tat org.apache.spark.sql.execution.BufferedRowIterator.hasNext(BufferedRowIterator.java:43)\n",
      "\tat org.apache.spark.sql.execution.WholeStageCodegenEvaluatorFactory$WholeStageCodegenPartitionEvaluator$$anon$1.hasNext(WholeStageCodegenEvaluatorFactory.scala:43)\n",
      "\tat org.apache.spark.sql.execution.SparkPlan.$anonfun$getByteArrayRdd$1(SparkPlan.scala:388)\n",
      "\tat org.apache.spark.rdd.RDD.$anonfun$mapPartitionsInternal$2(RDD.scala:893)\n",
      "\tat org.apache.spark.rdd.RDD.$anonfun$mapPartitionsInternal$2$adapted(RDD.scala:893)\n",
      "\tat org.apache.spark.rdd.MapPartitionsRDD.compute(MapPartitionsRDD.scala:52)\n",
      "\tat org.apache.spark.rdd.RDD.computeOrReadCheckpoint(RDD.scala:367)\n",
      "\tat org.apache.spark.rdd.RDD.iterator(RDD.scala:331)\n",
      "\tat org.apache.spark.scheduler.ResultTask.runTask(ResultTask.scala:93)\n",
      "\tat org.apache.spark.TaskContext.runTaskWithListeners(TaskContext.scala:166)\n",
      "\tat org.apache.spark.scheduler.Task.run(Task.scala:141)\n",
      "\tat org.apache.spark.executor.Executor$TaskRunner.$anonfun$run$4(Executor.scala:620)\n",
      "\tat org.apache.spark.util.SparkErrorUtils.tryWithSafeFinally(SparkErrorUtils.scala:64)\n",
      "\tat org.apache.spark.util.SparkErrorUtils.tryWithSafeFinally$(SparkErrorUtils.scala:61)\n",
      "\tat org.apache.spark.util.Utils$.tryWithSafeFinally(Utils.scala:94)\n",
      "\tat org.apache.spark.executor.Executor$TaskRunner.run(Executor.scala:623)\n",
      "\tat java.util.concurrent.ThreadPoolExecutor.runWorker(ThreadPoolExecutor.java:1149)\n",
      "\tat java.util.concurrent.ThreadPoolExecutor$Worker.run(ThreadPoolExecutor.java:624)\n",
      "\tat java.lang.Thread.run(Thread.java:750)\n",
      "Caused by: java.lang.IllegalArgumentException: requirement failed: BLAS.dot(x: Vector, y:Vector) was given Vectors with non-matching sizes: x.size = 136, y.size = 201\n",
      "\tat scala.Predef$.require(Predef.scala:281)\n",
      "\tat org.apache.spark.ml.linalg.BLAS$.dot(BLAS.scala:123)\n",
      "\tat org.apache.spark.ml.regression.LinearRegressionModel.predict(LinearRegression.scala:746)\n",
      "\tat org.apache.spark.ml.regression.LinearRegressionModel.predict(LinearRegression.scala:696)\n",
      "\tat org.apache.spark.ml.PredictionModel.$anonfun$transformImpl$1(Predictor.scala:204)\n",
      "\tat org.apache.spark.ml.PredictionModel.$anonfun$transformImpl$1$adapted(Predictor.scala:203)\n",
      "\t... 20 more\n",
      "24/10/17 22:26:16 ERROR Executor: Exception in task 1.0 in stage 42.0 (TID 83)\n",
      "org.apache.spark.SparkException: [FAILED_EXECUTE_UDF] Failed to execute user defined function (`PredictionModel$$Lambda$4028/1173133754`: (struct<type:tinyint,size:int,indices:array<int>,values:array<double>>) => double).\n",
      "\tat org.apache.spark.sql.errors.QueryExecutionErrors$.failedExecuteUserDefinedFunctionError(QueryExecutionErrors.scala:198)\n",
      "\tat org.apache.spark.sql.errors.QueryExecutionErrors.failedExecuteUserDefinedFunctionError(QueryExecutionErrors.scala)\n",
      "\tat org.apache.spark.sql.catalyst.expressions.GeneratedClass$GeneratedIteratorForCodegenStage1.processNext(Unknown Source)\n",
      "\tat org.apache.spark.sql.execution.BufferedRowIterator.hasNext(BufferedRowIterator.java:43)\n",
      "\tat org.apache.spark.sql.execution.WholeStageCodegenEvaluatorFactory$WholeStageCodegenPartitionEvaluator$$anon$1.hasNext(WholeStageCodegenEvaluatorFactory.scala:43)\n",
      "\tat org.apache.spark.sql.execution.SparkPlan.$anonfun$getByteArrayRdd$1(SparkPlan.scala:388)\n",
      "\tat org.apache.spark.rdd.RDD.$anonfun$mapPartitionsInternal$2(RDD.scala:893)\n",
      "\tat org.apache.spark.rdd.RDD.$anonfun$mapPartitionsInternal$2$adapted(RDD.scala:893)\n",
      "\tat org.apache.spark.rdd.MapPartitionsRDD.compute(MapPartitionsRDD.scala:52)\n",
      "\tat org.apache.spark.rdd.RDD.computeOrReadCheckpoint(RDD.scala:367)\n",
      "\tat org.apache.spark.rdd.RDD.iterator(RDD.scala:331)\n",
      "\tat org.apache.spark.scheduler.ResultTask.runTask(ResultTask.scala:93)\n",
      "\tat org.apache.spark.TaskContext.runTaskWithListeners(TaskContext.scala:166)\n",
      "\tat org.apache.spark.scheduler.Task.run(Task.scala:141)\n",
      "\tat org.apache.spark.executor.Executor$TaskRunner.$anonfun$run$4(Executor.scala:620)\n",
      "\tat org.apache.spark.util.SparkErrorUtils.tryWithSafeFinally(SparkErrorUtils.scala:64)\n",
      "\tat org.apache.spark.util.SparkErrorUtils.tryWithSafeFinally$(SparkErrorUtils.scala:61)\n",
      "\tat org.apache.spark.util.Utils$.tryWithSafeFinally(Utils.scala:94)\n",
      "\tat org.apache.spark.executor.Executor$TaskRunner.run(Executor.scala:623)\n",
      "\tat java.util.concurrent.ThreadPoolExecutor.runWorker(ThreadPoolExecutor.java:1149)\n",
      "\tat java.util.concurrent.ThreadPoolExecutor$Worker.run(ThreadPoolExecutor.java:624)\n",
      "\tat java.lang.Thread.run(Thread.java:750)\n",
      "Caused by: java.lang.IllegalArgumentException: requirement failed: BLAS.dot(x: Vector, y:Vector) was given Vectors with non-matching sizes: x.size = 136, y.size = 201\n",
      "\tat scala.Predef$.require(Predef.scala:281)\n",
      "\tat org.apache.spark.ml.linalg.BLAS$.dot(BLAS.scala:123)\n",
      "\tat org.apache.spark.ml.regression.LinearRegressionModel.predict(LinearRegression.scala:746)\n",
      "\tat org.apache.spark.ml.regression.LinearRegressionModel.predict(LinearRegression.scala:696)\n",
      "\tat org.apache.spark.ml.PredictionModel.$anonfun$transformImpl$1(Predictor.scala:204)\n",
      "\tat org.apache.spark.ml.PredictionModel.$anonfun$transformImpl$1$adapted(Predictor.scala:203)\n",
      "\t... 20 more\n",
      "24/10/17 22:26:16 ERROR Executor: Exception in task 2.0 in stage 42.0 (TID 84)\n",
      "org.apache.spark.SparkException: [FAILED_EXECUTE_UDF] Failed to execute user defined function (`PredictionModel$$Lambda$4028/1173133754`: (struct<type:tinyint,size:int,indices:array<int>,values:array<double>>) => double).\n",
      "\tat org.apache.spark.sql.errors.QueryExecutionErrors$.failedExecuteUserDefinedFunctionError(QueryExecutionErrors.scala:198)\n",
      "\tat org.apache.spark.sql.errors.QueryExecutionErrors.failedExecuteUserDefinedFunctionError(QueryExecutionErrors.scala)\n",
      "\tat org.apache.spark.sql.catalyst.expressions.GeneratedClass$GeneratedIteratorForCodegenStage1.processNext(Unknown Source)\n",
      "\tat org.apache.spark.sql.execution.BufferedRowIterator.hasNext(BufferedRowIterator.java:43)\n",
      "\tat org.apache.spark.sql.execution.WholeStageCodegenEvaluatorFactory$WholeStageCodegenPartitionEvaluator$$anon$1.hasNext(WholeStageCodegenEvaluatorFactory.scala:43)\n",
      "\tat org.apache.spark.sql.execution.SparkPlan.$anonfun$getByteArrayRdd$1(SparkPlan.scala:388)\n",
      "\tat org.apache.spark.rdd.RDD.$anonfun$mapPartitionsInternal$2(RDD.scala:893)\n",
      "\tat org.apache.spark.rdd.RDD.$anonfun$mapPartitionsInternal$2$adapted(RDD.scala:893)\n",
      "\tat org.apache.spark.rdd.MapPartitionsRDD.compute(MapPartitionsRDD.scala:52)\n",
      "\tat org.apache.spark.rdd.RDD.computeOrReadCheckpoint(RDD.scala:367)\n",
      "\tat org.apache.spark.rdd.RDD.iterator(RDD.scala:331)\n",
      "\tat org.apache.spark.scheduler.ResultTask.runTask(ResultTask.scala:93)\n",
      "\tat org.apache.spark.TaskContext.runTaskWithListeners(TaskContext.scala:166)\n",
      "\tat org.apache.spark.scheduler.Task.run(Task.scala:141)\n",
      "\tat org.apache.spark.executor.Executor$TaskRunner.$anonfun$run$4(Executor.scala:620)\n",
      "\tat org.apache.spark.util.SparkErrorUtils.tryWithSafeFinally(SparkErrorUtils.scala:64)\n",
      "\tat org.apache.spark.util.SparkErrorUtils.tryWithSafeFinally$(SparkErrorUtils.scala:61)\n",
      "\tat org.apache.spark.util.Utils$.tryWithSafeFinally(Utils.scala:94)\n",
      "\tat org.apache.spark.executor.Executor$TaskRunner.run(Executor.scala:623)\n",
      "\tat java.util.concurrent.ThreadPoolExecutor.runWorker(ThreadPoolExecutor.java:1149)\n",
      "\tat java.util.concurrent.ThreadPoolExecutor$Worker.run(ThreadPoolExecutor.java:624)\n",
      "\tat java.lang.Thread.run(Thread.java:750)\n",
      "Caused by: java.lang.IllegalArgumentException: requirement failed: BLAS.dot(x: Vector, y:Vector) was given Vectors with non-matching sizes: x.size = 136, y.size = 201\n",
      "\tat scala.Predef$.require(Predef.scala:281)\n",
      "\tat org.apache.spark.ml.linalg.BLAS$.dot(BLAS.scala:123)\n",
      "\tat org.apache.spark.ml.regression.LinearRegressionModel.predict(LinearRegression.scala:746)\n",
      "\tat org.apache.spark.ml.regression.LinearRegressionModel.predict(LinearRegression.scala:696)\n",
      "\tat org.apache.spark.ml.PredictionModel.$anonfun$transformImpl$1(Predictor.scala:204)\n",
      "\tat org.apache.spark.ml.PredictionModel.$anonfun$transformImpl$1$adapted(Predictor.scala:203)\n",
      "\t... 20 more\n",
      "24/10/17 22:26:16 WARN TaskSetManager: Lost task 2.0 in stage 42.0 (TID 84) (192.168.20.213 executor driver): org.apache.spark.SparkException: [FAILED_EXECUTE_UDF] Failed to execute user defined function (`PredictionModel$$Lambda$4028/1173133754`: (struct<type:tinyint,size:int,indices:array<int>,values:array<double>>) => double).\n",
      "\tat org.apache.spark.sql.errors.QueryExecutionErrors$.failedExecuteUserDefinedFunctionError(QueryExecutionErrors.scala:198)\n",
      "\tat org.apache.spark.sql.errors.QueryExecutionErrors.failedExecuteUserDefinedFunctionError(QueryExecutionErrors.scala)\n",
      "\tat org.apache.spark.sql.catalyst.expressions.GeneratedClass$GeneratedIteratorForCodegenStage1.processNext(Unknown Source)\n",
      "\tat org.apache.spark.sql.execution.BufferedRowIterator.hasNext(BufferedRowIterator.java:43)\n",
      "\tat org.apache.spark.sql.execution.WholeStageCodegenEvaluatorFactory$WholeStageCodegenPartitionEvaluator$$anon$1.hasNext(WholeStageCodegenEvaluatorFactory.scala:43)\n",
      "\tat org.apache.spark.sql.execution.SparkPlan.$anonfun$getByteArrayRdd$1(SparkPlan.scala:388)\n",
      "\tat org.apache.spark.rdd.RDD.$anonfun$mapPartitionsInternal$2(RDD.scala:893)\n",
      "\tat org.apache.spark.rdd.RDD.$anonfun$mapPartitionsInternal$2$adapted(RDD.scala:893)\n",
      "\tat org.apache.spark.rdd.MapPartitionsRDD.compute(MapPartitionsRDD.scala:52)\n",
      "\tat org.apache.spark.rdd.RDD.computeOrReadCheckpoint(RDD.scala:367)\n",
      "\tat org.apache.spark.rdd.RDD.iterator(RDD.scala:331)\n",
      "\tat org.apache.spark.scheduler.ResultTask.runTask(ResultTask.scala:93)\n",
      "\tat org.apache.spark.TaskContext.runTaskWithListeners(TaskContext.scala:166)\n",
      "\tat org.apache.spark.scheduler.Task.run(Task.scala:141)\n",
      "\tat org.apache.spark.executor.Executor$TaskRunner.$anonfun$run$4(Executor.scala:620)\n",
      "\tat org.apache.spark.util.SparkErrorUtils.tryWithSafeFinally(SparkErrorUtils.scala:64)\n",
      "\tat org.apache.spark.util.SparkErrorUtils.tryWithSafeFinally$(SparkErrorUtils.scala:61)\n",
      "\tat org.apache.spark.util.Utils$.tryWithSafeFinally(Utils.scala:94)\n",
      "\tat org.apache.spark.executor.Executor$TaskRunner.run(Executor.scala:623)\n",
      "\tat java.util.concurrent.ThreadPoolExecutor.runWorker(ThreadPoolExecutor.java:1149)\n",
      "\tat java.util.concurrent.ThreadPoolExecutor$Worker.run(ThreadPoolExecutor.java:624)\n",
      "\tat java.lang.Thread.run(Thread.java:750)\n",
      "Caused by: java.lang.IllegalArgumentException: requirement failed: BLAS.dot(x: Vector, y:Vector) was given Vectors with non-matching sizes: x.size = 136, y.size = 201\n",
      "\tat scala.Predef$.require(Predef.scala:281)\n",
      "\tat org.apache.spark.ml.linalg.BLAS$.dot(BLAS.scala:123)\n",
      "\tat org.apache.spark.ml.regression.LinearRegressionModel.predict(LinearRegression.scala:746)\n",
      "\tat org.apache.spark.ml.regression.LinearRegressionModel.predict(LinearRegression.scala:696)\n",
      "\tat org.apache.spark.ml.PredictionModel.$anonfun$transformImpl$1(Predictor.scala:204)\n",
      "\tat org.apache.spark.ml.PredictionModel.$anonfun$transformImpl$1$adapted(Predictor.scala:203)\n",
      "\t... 20 more\n",
      "\n",
      "24/10/17 22:26:16 ERROR TaskSetManager: Task 2 in stage 42.0 failed 1 times; aborting job\n",
      "24/10/17 22:26:16 WARN TaskSetManager: Lost task 0.0 in stage 42.0 (TID 82) (192.168.20.213 executor driver): TaskKilled (Stage cancelled: Job aborted due to stage failure: Task 2 in stage 42.0 failed 1 times, most recent failure: Lost task 2.0 in stage 42.0 (TID 84) (192.168.20.213 executor driver): org.apache.spark.SparkException: [FAILED_EXECUTE_UDF] Failed to execute user defined function (`PredictionModel$$Lambda$4028/1173133754`: (struct<type:tinyint,size:int,indices:array<int>,values:array<double>>) => double).\n",
      "\tat org.apache.spark.sql.errors.QueryExecutionErrors$.failedExecuteUserDefinedFunctionError(QueryExecutionErrors.scala:198)\n",
      "\tat org.apache.spark.sql.errors.QueryExecutionErrors.failedExecuteUserDefinedFunctionError(QueryExecutionErrors.scala)\n",
      "\tat org.apache.spark.sql.catalyst.expressions.GeneratedClass$GeneratedIteratorForCodegenStage1.processNext(Unknown Source)\n",
      "\tat org.apache.spark.sql.execution.BufferedRowIterator.hasNext(BufferedRowIterator.java:43)\n",
      "\tat org.apache.spark.sql.execution.WholeStageCodegenEvaluatorFactory$WholeStageCodegenPartitionEvaluator$$anon$1.hasNext(WholeStageCodegenEvaluatorFactory.scala:43)\n",
      "\tat org.apache.spark.sql.execution.SparkPlan.$anonfun$getByteArrayRdd$1(SparkPlan.scala:388)\n",
      "\tat org.apache.spark.rdd.RDD.$anonfun$mapPartitionsInternal$2(RDD.scala:893)\n",
      "\tat org.apache.spark.rdd.RDD.$anonfun$mapPartitionsInternal$2$adapted(RDD.scala:893)\n",
      "\tat org.apache.spark.rdd.MapPartitionsRDD.compute(MapPartitionsRDD.scala:52)\n",
      "\tat org.apache.spark.rdd.RDD.computeOrReadCheckpoint(RDD.scala:367)\n",
      "\tat org.apache.spark.rdd.RDD.iterator(RDD.scala:331)\n",
      "\tat org.apache.spark.scheduler.ResultTask.runTask(ResultTask.scala:93)\n",
      "\tat org.apache.spark.TaskContext.runTaskWithListeners(TaskContext.scala:166)\n",
      "\tat org.apache.spark.scheduler.Task.run(Task.scala:141)\n",
      "\tat org.apache.spark.executor.Executor$TaskRunner.$anonfun$run$4(Executor.scala:620)\n",
      "\tat org.apache.spark.util.SparkErrorUtils.tryWithSafeFinally(SparkErrorUtils.scala:64)\n",
      "\tat org.apache.spark.util.SparkErrorUtils.tryWithSafeFinally$(SparkErrorUtils.scala:61)\n",
      "\tat org.apache.spark.util.Utils$.tryWithSafeFinally(Utils.scala:94)\n",
      "\tat org.apache.spark.executor.Executor$TaskRunner.run(Executor.scala:623)\n",
      "\tat java.util.concurrent.ThreadPoolExecutor.runWorker(ThreadPoolExecutor.java:1149)\n",
      "\tat java.util.concurrent.ThreadPoolExecutor$Worker.run(ThreadPoolExecutor.java:624)\n",
      "\tat java.lang.Thread.run(Thread.java:750)\n",
      "Caused by: java.lang.IllegalArgumentException: requirement failed: BLAS.dot(x: Vector, y:Vector) was given Vectors with non-matching sizes: x.size = 136, y.size = 201\n",
      "\tat scala.Predef$.require(Predef.scala:281)\n",
      "\tat org.apache.spark.ml.linalg.BLAS$.dot(BLAS.scala:123)\n",
      "\tat org.apache.spark.ml.regression.LinearRegressionModel.predict(LinearRegression.scala:746)\n",
      "\tat org.apache.spark.ml.regression.LinearRegressionModel.predict(LinearRegression.scala:696)\n",
      "\tat org.apache.spark.ml.PredictionModel.$anonfun$transformImpl$1(Predictor.scala:204)\n",
      "\tat org.apache.spark.ml.PredictionModel.$anonfun$transformImpl$1$adapted(Predictor.scala:203)\n",
      "\t... 20 more\n",
      "\n",
      "Driver stacktrace:)\n"
     ]
    },
    {
     "ename": "Py4JJavaError",
     "evalue": "An error occurred while calling o23185.collectToPython.\n: org.apache.spark.SparkException: Job aborted due to stage failure: Task 2 in stage 42.0 failed 1 times, most recent failure: Lost task 2.0 in stage 42.0 (TID 84) (192.168.20.213 executor driver): org.apache.spark.SparkException: [FAILED_EXECUTE_UDF] Failed to execute user defined function (`PredictionModel$$Lambda$4028/1173133754`: (struct<type:tinyint,size:int,indices:array<int>,values:array<double>>) => double).\n\tat org.apache.spark.sql.errors.QueryExecutionErrors$.failedExecuteUserDefinedFunctionError(QueryExecutionErrors.scala:198)\n\tat org.apache.spark.sql.errors.QueryExecutionErrors.failedExecuteUserDefinedFunctionError(QueryExecutionErrors.scala)\n\tat org.apache.spark.sql.catalyst.expressions.GeneratedClass$GeneratedIteratorForCodegenStage1.processNext(Unknown Source)\n\tat org.apache.spark.sql.execution.BufferedRowIterator.hasNext(BufferedRowIterator.java:43)\n\tat org.apache.spark.sql.execution.WholeStageCodegenEvaluatorFactory$WholeStageCodegenPartitionEvaluator$$anon$1.hasNext(WholeStageCodegenEvaluatorFactory.scala:43)\n\tat org.apache.spark.sql.execution.SparkPlan.$anonfun$getByteArrayRdd$1(SparkPlan.scala:388)\n\tat org.apache.spark.rdd.RDD.$anonfun$mapPartitionsInternal$2(RDD.scala:893)\n\tat org.apache.spark.rdd.RDD.$anonfun$mapPartitionsInternal$2$adapted(RDD.scala:893)\n\tat org.apache.spark.rdd.MapPartitionsRDD.compute(MapPartitionsRDD.scala:52)\n\tat org.apache.spark.rdd.RDD.computeOrReadCheckpoint(RDD.scala:367)\n\tat org.apache.spark.rdd.RDD.iterator(RDD.scala:331)\n\tat org.apache.spark.scheduler.ResultTask.runTask(ResultTask.scala:93)\n\tat org.apache.spark.TaskContext.runTaskWithListeners(TaskContext.scala:166)\n\tat org.apache.spark.scheduler.Task.run(Task.scala:141)\n\tat org.apache.spark.executor.Executor$TaskRunner.$anonfun$run$4(Executor.scala:620)\n\tat org.apache.spark.util.SparkErrorUtils.tryWithSafeFinally(SparkErrorUtils.scala:64)\n\tat org.apache.spark.util.SparkErrorUtils.tryWithSafeFinally$(SparkErrorUtils.scala:61)\n\tat org.apache.spark.util.Utils$.tryWithSafeFinally(Utils.scala:94)\n\tat org.apache.spark.executor.Executor$TaskRunner.run(Executor.scala:623)\n\tat java.util.concurrent.ThreadPoolExecutor.runWorker(ThreadPoolExecutor.java:1149)\n\tat java.util.concurrent.ThreadPoolExecutor$Worker.run(ThreadPoolExecutor.java:624)\n\tat java.lang.Thread.run(Thread.java:750)\nCaused by: java.lang.IllegalArgumentException: requirement failed: BLAS.dot(x: Vector, y:Vector) was given Vectors with non-matching sizes: x.size = 136, y.size = 201\n\tat scala.Predef$.require(Predef.scala:281)\n\tat org.apache.spark.ml.linalg.BLAS$.dot(BLAS.scala:123)\n\tat org.apache.spark.ml.regression.LinearRegressionModel.predict(LinearRegression.scala:746)\n\tat org.apache.spark.ml.regression.LinearRegressionModel.predict(LinearRegression.scala:696)\n\tat org.apache.spark.ml.PredictionModel.$anonfun$transformImpl$1(Predictor.scala:204)\n\tat org.apache.spark.ml.PredictionModel.$anonfun$transformImpl$1$adapted(Predictor.scala:203)\n\t... 20 more\n\nDriver stacktrace:\n\tat org.apache.spark.scheduler.DAGScheduler.failJobAndIndependentStages(DAGScheduler.scala:2856)\n\tat org.apache.spark.scheduler.DAGScheduler.$anonfun$abortStage$2(DAGScheduler.scala:2792)\n\tat org.apache.spark.scheduler.DAGScheduler.$anonfun$abortStage$2$adapted(DAGScheduler.scala:2791)\n\tat scala.collection.mutable.ResizableArray.foreach(ResizableArray.scala:62)\n\tat scala.collection.mutable.ResizableArray.foreach$(ResizableArray.scala:55)\n\tat scala.collection.mutable.ArrayBuffer.foreach(ArrayBuffer.scala:49)\n\tat org.apache.spark.scheduler.DAGScheduler.abortStage(DAGScheduler.scala:2791)\n\tat org.apache.spark.scheduler.DAGScheduler.$anonfun$handleTaskSetFailed$1(DAGScheduler.scala:1247)\n\tat org.apache.spark.scheduler.DAGScheduler.$anonfun$handleTaskSetFailed$1$adapted(DAGScheduler.scala:1247)\n\tat scala.Option.foreach(Option.scala:407)\n\tat org.apache.spark.scheduler.DAGScheduler.handleTaskSetFailed(DAGScheduler.scala:1247)\n\tat org.apache.spark.scheduler.DAGSchedulerEventProcessLoop.doOnReceive(DAGScheduler.scala:3060)\n\tat org.apache.spark.scheduler.DAGSchedulerEventProcessLoop.onReceive(DAGScheduler.scala:2994)\n\tat org.apache.spark.scheduler.DAGSchedulerEventProcessLoop.onReceive(DAGScheduler.scala:2983)\n\tat org.apache.spark.util.EventLoop$$anon$1.run(EventLoop.scala:49)\n\tat org.apache.spark.scheduler.DAGScheduler.runJob(DAGScheduler.scala:989)\n\tat org.apache.spark.SparkContext.runJob(SparkContext.scala:2398)\n\tat org.apache.spark.SparkContext.runJob(SparkContext.scala:2419)\n\tat org.apache.spark.SparkContext.runJob(SparkContext.scala:2438)\n\tat org.apache.spark.SparkContext.runJob(SparkContext.scala:2463)\n\tat org.apache.spark.rdd.RDD.$anonfun$collect$1(RDD.scala:1049)\n\tat org.apache.spark.rdd.RDDOperationScope$.withScope(RDDOperationScope.scala:151)\n\tat org.apache.spark.rdd.RDDOperationScope$.withScope(RDDOperationScope.scala:112)\n\tat org.apache.spark.rdd.RDD.withScope(RDD.scala:410)\n\tat org.apache.spark.rdd.RDD.collect(RDD.scala:1048)\n\tat org.apache.spark.sql.execution.SparkPlan.executeCollect(SparkPlan.scala:448)\n\tat org.apache.spark.sql.Dataset.$anonfun$collectToPython$1(Dataset.scala:4148)\n\tat org.apache.spark.sql.Dataset.$anonfun$withAction$2(Dataset.scala:4322)\n\tat org.apache.spark.sql.execution.QueryExecution$.withInternalError(QueryExecution.scala:546)\n\tat org.apache.spark.sql.Dataset.$anonfun$withAction$1(Dataset.scala:4320)\n\tat org.apache.spark.sql.execution.SQLExecution$.$anonfun$withNewExecutionId$6(SQLExecution.scala:125)\n\tat org.apache.spark.sql.execution.SQLExecution$.withSQLConfPropagated(SQLExecution.scala:201)\n\tat org.apache.spark.sql.execution.SQLExecution$.$anonfun$withNewExecutionId$1(SQLExecution.scala:108)\n\tat org.apache.spark.sql.SparkSession.withActive(SparkSession.scala:900)\n\tat org.apache.spark.sql.execution.SQLExecution$.withNewExecutionId(SQLExecution.scala:66)\n\tat org.apache.spark.sql.Dataset.withAction(Dataset.scala:4320)\n\tat org.apache.spark.sql.Dataset.collectToPython(Dataset.scala:4145)\n\tat sun.reflect.NativeMethodAccessorImpl.invoke0(Native Method)\n\tat sun.reflect.NativeMethodAccessorImpl.invoke(NativeMethodAccessorImpl.java:62)\n\tat sun.reflect.DelegatingMethodAccessorImpl.invoke(DelegatingMethodAccessorImpl.java:43)\n\tat java.lang.reflect.Method.invoke(Method.java:498)\n\tat py4j.reflection.MethodInvoker.invoke(MethodInvoker.java:244)\n\tat py4j.reflection.ReflectionEngine.invoke(ReflectionEngine.java:374)\n\tat py4j.Gateway.invoke(Gateway.java:282)\n\tat py4j.commands.AbstractCommand.invokeMethod(AbstractCommand.java:132)\n\tat py4j.commands.CallCommand.execute(CallCommand.java:79)\n\tat py4j.ClientServerConnection.waitForCommands(ClientServerConnection.java:182)\n\tat py4j.ClientServerConnection.run(ClientServerConnection.java:106)\n\tat java.lang.Thread.run(Thread.java:750)\nCaused by: org.apache.spark.SparkException: [FAILED_EXECUTE_UDF] Failed to execute user defined function (`PredictionModel$$Lambda$4028/1173133754`: (struct<type:tinyint,size:int,indices:array<int>,values:array<double>>) => double).\n\tat org.apache.spark.sql.errors.QueryExecutionErrors$.failedExecuteUserDefinedFunctionError(QueryExecutionErrors.scala:198)\n\tat org.apache.spark.sql.errors.QueryExecutionErrors.failedExecuteUserDefinedFunctionError(QueryExecutionErrors.scala)\n\tat org.apache.spark.sql.catalyst.expressions.GeneratedClass$GeneratedIteratorForCodegenStage1.processNext(Unknown Source)\n\tat org.apache.spark.sql.execution.BufferedRowIterator.hasNext(BufferedRowIterator.java:43)\n\tat org.apache.spark.sql.execution.WholeStageCodegenEvaluatorFactory$WholeStageCodegenPartitionEvaluator$$anon$1.hasNext(WholeStageCodegenEvaluatorFactory.scala:43)\n\tat org.apache.spark.sql.execution.SparkPlan.$anonfun$getByteArrayRdd$1(SparkPlan.scala:388)\n\tat org.apache.spark.rdd.RDD.$anonfun$mapPartitionsInternal$2(RDD.scala:893)\n\tat org.apache.spark.rdd.RDD.$anonfun$mapPartitionsInternal$2$adapted(RDD.scala:893)\n\tat org.apache.spark.rdd.MapPartitionsRDD.compute(MapPartitionsRDD.scala:52)\n\tat org.apache.spark.rdd.RDD.computeOrReadCheckpoint(RDD.scala:367)\n\tat org.apache.spark.rdd.RDD.iterator(RDD.scala:331)\n\tat org.apache.spark.scheduler.ResultTask.runTask(ResultTask.scala:93)\n\tat org.apache.spark.TaskContext.runTaskWithListeners(TaskContext.scala:166)\n\tat org.apache.spark.scheduler.Task.run(Task.scala:141)\n\tat org.apache.spark.executor.Executor$TaskRunner.$anonfun$run$4(Executor.scala:620)\n\tat org.apache.spark.util.SparkErrorUtils.tryWithSafeFinally(SparkErrorUtils.scala:64)\n\tat org.apache.spark.util.SparkErrorUtils.tryWithSafeFinally$(SparkErrorUtils.scala:61)\n\tat org.apache.spark.util.Utils$.tryWithSafeFinally(Utils.scala:94)\n\tat org.apache.spark.executor.Executor$TaskRunner.run(Executor.scala:623)\n\tat java.util.concurrent.ThreadPoolExecutor.runWorker(ThreadPoolExecutor.java:1149)\n\tat java.util.concurrent.ThreadPoolExecutor$Worker.run(ThreadPoolExecutor.java:624)\n\t... 1 more\nCaused by: java.lang.IllegalArgumentException: requirement failed: BLAS.dot(x: Vector, y:Vector) was given Vectors with non-matching sizes: x.size = 136, y.size = 201\n\tat scala.Predef$.require(Predef.scala:281)\n\tat org.apache.spark.ml.linalg.BLAS$.dot(BLAS.scala:123)\n\tat org.apache.spark.ml.regression.LinearRegressionModel.predict(LinearRegression.scala:746)\n\tat org.apache.spark.ml.regression.LinearRegressionModel.predict(LinearRegression.scala:696)\n\tat org.apache.spark.ml.PredictionModel.$anonfun$transformImpl$1(Predictor.scala:204)\n\tat org.apache.spark.ml.PredictionModel.$anonfun$transformImpl$1$adapted(Predictor.scala:203)\n\t... 20 more\n",
     "output_type": "error",
     "traceback": [
      "\u001b[0;31m---------------------------------------------------------------------------\u001b[0m",
      "\u001b[0;31mPy4JJavaError\u001b[0m                             Traceback (most recent call last)",
      "Cell \u001b[0;32mIn[105], line 3\u001b[0m\n\u001b[1;32m      1\u001b[0m \u001b[38;5;66;03m# Transform the test data and convert to Pandas DataFrame for visualization\u001b[39;00m\n\u001b[1;32m      2\u001b[0m \u001b[38;5;66;03m# Combine actual 'cost' and predicted values into a single DataFrame directly\u001b[39;00m\n\u001b[0;32m----> 3\u001b[0m comparison_df \u001b[38;5;241m=\u001b[39m \u001b[43mlr_model\u001b[49m\u001b[38;5;241;43m.\u001b[39;49m\u001b[43mtransform\u001b[49m\u001b[43m(\u001b[49m\u001b[43mtest_data\u001b[49m\u001b[43m)\u001b[49m\u001b[38;5;241;43m.\u001b[39;49m\u001b[43mselect\u001b[49m\u001b[43m(\u001b[49m\u001b[38;5;124;43m'\u001b[39;49m\u001b[38;5;124;43mcost\u001b[39;49m\u001b[38;5;124;43m'\u001b[39;49m\u001b[43m,\u001b[49m\u001b[43m \u001b[49m\u001b[38;5;124;43m'\u001b[39;49m\u001b[38;5;124;43mprediction\u001b[39;49m\u001b[38;5;124;43m'\u001b[39;49m\u001b[43m)\u001b[49m\u001b[38;5;241;43m.\u001b[39;49m\u001b[43mtoPandas\u001b[49m\u001b[43m(\u001b[49m\u001b[43m)\u001b[49m\n\u001b[1;32m      5\u001b[0m \u001b[38;5;66;03m# Scatter plot to check linearity between actual cost and predicted values\u001b[39;00m\n\u001b[1;32m      6\u001b[0m plt\u001b[38;5;241m.\u001b[39mfigure(figsize\u001b[38;5;241m=\u001b[39m(\u001b[38;5;241m10\u001b[39m, \u001b[38;5;241m6\u001b[39m))  \u001b[38;5;66;03m# Set a better figure size\u001b[39;00m\n",
      "File \u001b[0;32m/usr/local/lib/python3.12/site-packages/pyspark/sql/pandas/conversion.py:202\u001b[0m, in \u001b[0;36mPandasConversionMixin.toPandas\u001b[0;34m(self)\u001b[0m\n\u001b[1;32m    199\u001b[0m             \u001b[38;5;28;01mraise\u001b[39;00m\n\u001b[1;32m    201\u001b[0m \u001b[38;5;66;03m# Below is toPandas without Arrow optimization.\u001b[39;00m\n\u001b[0;32m--> 202\u001b[0m rows \u001b[38;5;241m=\u001b[39m \u001b[38;5;28;43mself\u001b[39;49m\u001b[38;5;241;43m.\u001b[39;49m\u001b[43mcollect\u001b[49m\u001b[43m(\u001b[49m\u001b[43m)\u001b[49m\n\u001b[1;32m    203\u001b[0m \u001b[38;5;28;01mif\u001b[39;00m \u001b[38;5;28mlen\u001b[39m(rows) \u001b[38;5;241m>\u001b[39m \u001b[38;5;241m0\u001b[39m:\n\u001b[1;32m    204\u001b[0m     pdf \u001b[38;5;241m=\u001b[39m pd\u001b[38;5;241m.\u001b[39mDataFrame\u001b[38;5;241m.\u001b[39mfrom_records(\n\u001b[1;32m    205\u001b[0m         rows, index\u001b[38;5;241m=\u001b[39m\u001b[38;5;28mrange\u001b[39m(\u001b[38;5;28mlen\u001b[39m(rows)), columns\u001b[38;5;241m=\u001b[39m\u001b[38;5;28mself\u001b[39m\u001b[38;5;241m.\u001b[39mcolumns  \u001b[38;5;66;03m# type: ignore[arg-type]\u001b[39;00m\n\u001b[1;32m    206\u001b[0m     )\n",
      "File \u001b[0;32m/usr/local/lib/python3.12/site-packages/pyspark/sql/dataframe.py:1261\u001b[0m, in \u001b[0;36mDataFrame.collect\u001b[0;34m(self)\u001b[0m\n\u001b[1;32m   1241\u001b[0m \u001b[38;5;250m\u001b[39m\u001b[38;5;124;03m\"\"\"Returns all the records as a list of :class:`Row`.\u001b[39;00m\n\u001b[1;32m   1242\u001b[0m \n\u001b[1;32m   1243\u001b[0m \u001b[38;5;124;03m.. versionadded:: 1.3.0\u001b[39;00m\n\u001b[0;32m   (...)\u001b[0m\n\u001b[1;32m   1258\u001b[0m \u001b[38;5;124;03m[Row(age=14, name='Tom'), Row(age=23, name='Alice'), Row(age=16, name='Bob')]\u001b[39;00m\n\u001b[1;32m   1259\u001b[0m \u001b[38;5;124;03m\"\"\"\u001b[39;00m\n\u001b[1;32m   1260\u001b[0m \u001b[38;5;28;01mwith\u001b[39;00m SCCallSiteSync(\u001b[38;5;28mself\u001b[39m\u001b[38;5;241m.\u001b[39m_sc):\n\u001b[0;32m-> 1261\u001b[0m     sock_info \u001b[38;5;241m=\u001b[39m \u001b[38;5;28;43mself\u001b[39;49m\u001b[38;5;241;43m.\u001b[39;49m\u001b[43m_jdf\u001b[49m\u001b[38;5;241;43m.\u001b[39;49m\u001b[43mcollectToPython\u001b[49m\u001b[43m(\u001b[49m\u001b[43m)\u001b[49m\n\u001b[1;32m   1262\u001b[0m \u001b[38;5;28;01mreturn\u001b[39;00m \u001b[38;5;28mlist\u001b[39m(_load_from_socket(sock_info, BatchedSerializer(CPickleSerializer())))\n",
      "File \u001b[0;32m/usr/local/lib/python3.12/site-packages/py4j/java_gateway.py:1322\u001b[0m, in \u001b[0;36mJavaMember.__call__\u001b[0;34m(self, *args)\u001b[0m\n\u001b[1;32m   1316\u001b[0m command \u001b[38;5;241m=\u001b[39m proto\u001b[38;5;241m.\u001b[39mCALL_COMMAND_NAME \u001b[38;5;241m+\u001b[39m\\\n\u001b[1;32m   1317\u001b[0m     \u001b[38;5;28mself\u001b[39m\u001b[38;5;241m.\u001b[39mcommand_header \u001b[38;5;241m+\u001b[39m\\\n\u001b[1;32m   1318\u001b[0m     args_command \u001b[38;5;241m+\u001b[39m\\\n\u001b[1;32m   1319\u001b[0m     proto\u001b[38;5;241m.\u001b[39mEND_COMMAND_PART\n\u001b[1;32m   1321\u001b[0m answer \u001b[38;5;241m=\u001b[39m \u001b[38;5;28mself\u001b[39m\u001b[38;5;241m.\u001b[39mgateway_client\u001b[38;5;241m.\u001b[39msend_command(command)\n\u001b[0;32m-> 1322\u001b[0m return_value \u001b[38;5;241m=\u001b[39m \u001b[43mget_return_value\u001b[49m\u001b[43m(\u001b[49m\n\u001b[1;32m   1323\u001b[0m \u001b[43m    \u001b[49m\u001b[43manswer\u001b[49m\u001b[43m,\u001b[49m\u001b[43m \u001b[49m\u001b[38;5;28;43mself\u001b[39;49m\u001b[38;5;241;43m.\u001b[39;49m\u001b[43mgateway_client\u001b[49m\u001b[43m,\u001b[49m\u001b[43m \u001b[49m\u001b[38;5;28;43mself\u001b[39;49m\u001b[38;5;241;43m.\u001b[39;49m\u001b[43mtarget_id\u001b[49m\u001b[43m,\u001b[49m\u001b[43m \u001b[49m\u001b[38;5;28;43mself\u001b[39;49m\u001b[38;5;241;43m.\u001b[39;49m\u001b[43mname\u001b[49m\u001b[43m)\u001b[49m\n\u001b[1;32m   1325\u001b[0m \u001b[38;5;28;01mfor\u001b[39;00m temp_arg \u001b[38;5;129;01min\u001b[39;00m temp_args:\n\u001b[1;32m   1326\u001b[0m     \u001b[38;5;28;01mif\u001b[39;00m \u001b[38;5;28mhasattr\u001b[39m(temp_arg, \u001b[38;5;124m\"\u001b[39m\u001b[38;5;124m_detach\u001b[39m\u001b[38;5;124m\"\u001b[39m):\n",
      "File \u001b[0;32m/usr/local/lib/python3.12/site-packages/pyspark/errors/exceptions/captured.py:179\u001b[0m, in \u001b[0;36mcapture_sql_exception.<locals>.deco\u001b[0;34m(*a, **kw)\u001b[0m\n\u001b[1;32m    177\u001b[0m \u001b[38;5;28;01mdef\u001b[39;00m \u001b[38;5;21mdeco\u001b[39m(\u001b[38;5;241m*\u001b[39ma: Any, \u001b[38;5;241m*\u001b[39m\u001b[38;5;241m*\u001b[39mkw: Any) \u001b[38;5;241m-\u001b[39m\u001b[38;5;241m>\u001b[39m Any:\n\u001b[1;32m    178\u001b[0m     \u001b[38;5;28;01mtry\u001b[39;00m:\n\u001b[0;32m--> 179\u001b[0m         \u001b[38;5;28;01mreturn\u001b[39;00m \u001b[43mf\u001b[49m\u001b[43m(\u001b[49m\u001b[38;5;241;43m*\u001b[39;49m\u001b[43ma\u001b[49m\u001b[43m,\u001b[49m\u001b[43m \u001b[49m\u001b[38;5;241;43m*\u001b[39;49m\u001b[38;5;241;43m*\u001b[39;49m\u001b[43mkw\u001b[49m\u001b[43m)\u001b[49m\n\u001b[1;32m    180\u001b[0m     \u001b[38;5;28;01mexcept\u001b[39;00m Py4JJavaError \u001b[38;5;28;01mas\u001b[39;00m e:\n\u001b[1;32m    181\u001b[0m         converted \u001b[38;5;241m=\u001b[39m convert_exception(e\u001b[38;5;241m.\u001b[39mjava_exception)\n",
      "File \u001b[0;32m/usr/local/lib/python3.12/site-packages/py4j/protocol.py:326\u001b[0m, in \u001b[0;36mget_return_value\u001b[0;34m(answer, gateway_client, target_id, name)\u001b[0m\n\u001b[1;32m    324\u001b[0m value \u001b[38;5;241m=\u001b[39m OUTPUT_CONVERTER[\u001b[38;5;28mtype\u001b[39m](answer[\u001b[38;5;241m2\u001b[39m:], gateway_client)\n\u001b[1;32m    325\u001b[0m \u001b[38;5;28;01mif\u001b[39;00m answer[\u001b[38;5;241m1\u001b[39m] \u001b[38;5;241m==\u001b[39m REFERENCE_TYPE:\n\u001b[0;32m--> 326\u001b[0m     \u001b[38;5;28;01mraise\u001b[39;00m Py4JJavaError(\n\u001b[1;32m    327\u001b[0m         \u001b[38;5;124m\"\u001b[39m\u001b[38;5;124mAn error occurred while calling \u001b[39m\u001b[38;5;132;01m{0}\u001b[39;00m\u001b[38;5;132;01m{1}\u001b[39;00m\u001b[38;5;132;01m{2}\u001b[39;00m\u001b[38;5;124m.\u001b[39m\u001b[38;5;130;01m\\n\u001b[39;00m\u001b[38;5;124m\"\u001b[39m\u001b[38;5;241m.\u001b[39m\n\u001b[1;32m    328\u001b[0m         \u001b[38;5;28mformat\u001b[39m(target_id, \u001b[38;5;124m\"\u001b[39m\u001b[38;5;124m.\u001b[39m\u001b[38;5;124m\"\u001b[39m, name), value)\n\u001b[1;32m    329\u001b[0m \u001b[38;5;28;01melse\u001b[39;00m:\n\u001b[1;32m    330\u001b[0m     \u001b[38;5;28;01mraise\u001b[39;00m Py4JError(\n\u001b[1;32m    331\u001b[0m         \u001b[38;5;124m\"\u001b[39m\u001b[38;5;124mAn error occurred while calling \u001b[39m\u001b[38;5;132;01m{0}\u001b[39;00m\u001b[38;5;132;01m{1}\u001b[39;00m\u001b[38;5;132;01m{2}\u001b[39;00m\u001b[38;5;124m. Trace:\u001b[39m\u001b[38;5;130;01m\\n\u001b[39;00m\u001b[38;5;132;01m{3}\u001b[39;00m\u001b[38;5;130;01m\\n\u001b[39;00m\u001b[38;5;124m\"\u001b[39m\u001b[38;5;241m.\u001b[39m\n\u001b[1;32m    332\u001b[0m         \u001b[38;5;28mformat\u001b[39m(target_id, \u001b[38;5;124m\"\u001b[39m\u001b[38;5;124m.\u001b[39m\u001b[38;5;124m\"\u001b[39m, name, value))\n",
      "\u001b[0;31mPy4JJavaError\u001b[0m: An error occurred while calling o23185.collectToPython.\n: org.apache.spark.SparkException: Job aborted due to stage failure: Task 2 in stage 42.0 failed 1 times, most recent failure: Lost task 2.0 in stage 42.0 (TID 84) (192.168.20.213 executor driver): org.apache.spark.SparkException: [FAILED_EXECUTE_UDF] Failed to execute user defined function (`PredictionModel$$Lambda$4028/1173133754`: (struct<type:tinyint,size:int,indices:array<int>,values:array<double>>) => double).\n\tat org.apache.spark.sql.errors.QueryExecutionErrors$.failedExecuteUserDefinedFunctionError(QueryExecutionErrors.scala:198)\n\tat org.apache.spark.sql.errors.QueryExecutionErrors.failedExecuteUserDefinedFunctionError(QueryExecutionErrors.scala)\n\tat org.apache.spark.sql.catalyst.expressions.GeneratedClass$GeneratedIteratorForCodegenStage1.processNext(Unknown Source)\n\tat org.apache.spark.sql.execution.BufferedRowIterator.hasNext(BufferedRowIterator.java:43)\n\tat org.apache.spark.sql.execution.WholeStageCodegenEvaluatorFactory$WholeStageCodegenPartitionEvaluator$$anon$1.hasNext(WholeStageCodegenEvaluatorFactory.scala:43)\n\tat org.apache.spark.sql.execution.SparkPlan.$anonfun$getByteArrayRdd$1(SparkPlan.scala:388)\n\tat org.apache.spark.rdd.RDD.$anonfun$mapPartitionsInternal$2(RDD.scala:893)\n\tat org.apache.spark.rdd.RDD.$anonfun$mapPartitionsInternal$2$adapted(RDD.scala:893)\n\tat org.apache.spark.rdd.MapPartitionsRDD.compute(MapPartitionsRDD.scala:52)\n\tat org.apache.spark.rdd.RDD.computeOrReadCheckpoint(RDD.scala:367)\n\tat org.apache.spark.rdd.RDD.iterator(RDD.scala:331)\n\tat org.apache.spark.scheduler.ResultTask.runTask(ResultTask.scala:93)\n\tat org.apache.spark.TaskContext.runTaskWithListeners(TaskContext.scala:166)\n\tat org.apache.spark.scheduler.Task.run(Task.scala:141)\n\tat org.apache.spark.executor.Executor$TaskRunner.$anonfun$run$4(Executor.scala:620)\n\tat org.apache.spark.util.SparkErrorUtils.tryWithSafeFinally(SparkErrorUtils.scala:64)\n\tat org.apache.spark.util.SparkErrorUtils.tryWithSafeFinally$(SparkErrorUtils.scala:61)\n\tat org.apache.spark.util.Utils$.tryWithSafeFinally(Utils.scala:94)\n\tat org.apache.spark.executor.Executor$TaskRunner.run(Executor.scala:623)\n\tat java.util.concurrent.ThreadPoolExecutor.runWorker(ThreadPoolExecutor.java:1149)\n\tat java.util.concurrent.ThreadPoolExecutor$Worker.run(ThreadPoolExecutor.java:624)\n\tat java.lang.Thread.run(Thread.java:750)\nCaused by: java.lang.IllegalArgumentException: requirement failed: BLAS.dot(x: Vector, y:Vector) was given Vectors with non-matching sizes: x.size = 136, y.size = 201\n\tat scala.Predef$.require(Predef.scala:281)\n\tat org.apache.spark.ml.linalg.BLAS$.dot(BLAS.scala:123)\n\tat org.apache.spark.ml.regression.LinearRegressionModel.predict(LinearRegression.scala:746)\n\tat org.apache.spark.ml.regression.LinearRegressionModel.predict(LinearRegression.scala:696)\n\tat org.apache.spark.ml.PredictionModel.$anonfun$transformImpl$1(Predictor.scala:204)\n\tat org.apache.spark.ml.PredictionModel.$anonfun$transformImpl$1$adapted(Predictor.scala:203)\n\t... 20 more\n\nDriver stacktrace:\n\tat org.apache.spark.scheduler.DAGScheduler.failJobAndIndependentStages(DAGScheduler.scala:2856)\n\tat org.apache.spark.scheduler.DAGScheduler.$anonfun$abortStage$2(DAGScheduler.scala:2792)\n\tat org.apache.spark.scheduler.DAGScheduler.$anonfun$abortStage$2$adapted(DAGScheduler.scala:2791)\n\tat scala.collection.mutable.ResizableArray.foreach(ResizableArray.scala:62)\n\tat scala.collection.mutable.ResizableArray.foreach$(ResizableArray.scala:55)\n\tat scala.collection.mutable.ArrayBuffer.foreach(ArrayBuffer.scala:49)\n\tat org.apache.spark.scheduler.DAGScheduler.abortStage(DAGScheduler.scala:2791)\n\tat org.apache.spark.scheduler.DAGScheduler.$anonfun$handleTaskSetFailed$1(DAGScheduler.scala:1247)\n\tat org.apache.spark.scheduler.DAGScheduler.$anonfun$handleTaskSetFailed$1$adapted(DAGScheduler.scala:1247)\n\tat scala.Option.foreach(Option.scala:407)\n\tat org.apache.spark.scheduler.DAGScheduler.handleTaskSetFailed(DAGScheduler.scala:1247)\n\tat org.apache.spark.scheduler.DAGSchedulerEventProcessLoop.doOnReceive(DAGScheduler.scala:3060)\n\tat org.apache.spark.scheduler.DAGSchedulerEventProcessLoop.onReceive(DAGScheduler.scala:2994)\n\tat org.apache.spark.scheduler.DAGSchedulerEventProcessLoop.onReceive(DAGScheduler.scala:2983)\n\tat org.apache.spark.util.EventLoop$$anon$1.run(EventLoop.scala:49)\n\tat org.apache.spark.scheduler.DAGScheduler.runJob(DAGScheduler.scala:989)\n\tat org.apache.spark.SparkContext.runJob(SparkContext.scala:2398)\n\tat org.apache.spark.SparkContext.runJob(SparkContext.scala:2419)\n\tat org.apache.spark.SparkContext.runJob(SparkContext.scala:2438)\n\tat org.apache.spark.SparkContext.runJob(SparkContext.scala:2463)\n\tat org.apache.spark.rdd.RDD.$anonfun$collect$1(RDD.scala:1049)\n\tat org.apache.spark.rdd.RDDOperationScope$.withScope(RDDOperationScope.scala:151)\n\tat org.apache.spark.rdd.RDDOperationScope$.withScope(RDDOperationScope.scala:112)\n\tat org.apache.spark.rdd.RDD.withScope(RDD.scala:410)\n\tat org.apache.spark.rdd.RDD.collect(RDD.scala:1048)\n\tat org.apache.spark.sql.execution.SparkPlan.executeCollect(SparkPlan.scala:448)\n\tat org.apache.spark.sql.Dataset.$anonfun$collectToPython$1(Dataset.scala:4148)\n\tat org.apache.spark.sql.Dataset.$anonfun$withAction$2(Dataset.scala:4322)\n\tat org.apache.spark.sql.execution.QueryExecution$.withInternalError(QueryExecution.scala:546)\n\tat org.apache.spark.sql.Dataset.$anonfun$withAction$1(Dataset.scala:4320)\n\tat org.apache.spark.sql.execution.SQLExecution$.$anonfun$withNewExecutionId$6(SQLExecution.scala:125)\n\tat org.apache.spark.sql.execution.SQLExecution$.withSQLConfPropagated(SQLExecution.scala:201)\n\tat org.apache.spark.sql.execution.SQLExecution$.$anonfun$withNewExecutionId$1(SQLExecution.scala:108)\n\tat org.apache.spark.sql.SparkSession.withActive(SparkSession.scala:900)\n\tat org.apache.spark.sql.execution.SQLExecution$.withNewExecutionId(SQLExecution.scala:66)\n\tat org.apache.spark.sql.Dataset.withAction(Dataset.scala:4320)\n\tat org.apache.spark.sql.Dataset.collectToPython(Dataset.scala:4145)\n\tat sun.reflect.NativeMethodAccessorImpl.invoke0(Native Method)\n\tat sun.reflect.NativeMethodAccessorImpl.invoke(NativeMethodAccessorImpl.java:62)\n\tat sun.reflect.DelegatingMethodAccessorImpl.invoke(DelegatingMethodAccessorImpl.java:43)\n\tat java.lang.reflect.Method.invoke(Method.java:498)\n\tat py4j.reflection.MethodInvoker.invoke(MethodInvoker.java:244)\n\tat py4j.reflection.ReflectionEngine.invoke(ReflectionEngine.java:374)\n\tat py4j.Gateway.invoke(Gateway.java:282)\n\tat py4j.commands.AbstractCommand.invokeMethod(AbstractCommand.java:132)\n\tat py4j.commands.CallCommand.execute(CallCommand.java:79)\n\tat py4j.ClientServerConnection.waitForCommands(ClientServerConnection.java:182)\n\tat py4j.ClientServerConnection.run(ClientServerConnection.java:106)\n\tat java.lang.Thread.run(Thread.java:750)\nCaused by: org.apache.spark.SparkException: [FAILED_EXECUTE_UDF] Failed to execute user defined function (`PredictionModel$$Lambda$4028/1173133754`: (struct<type:tinyint,size:int,indices:array<int>,values:array<double>>) => double).\n\tat org.apache.spark.sql.errors.QueryExecutionErrors$.failedExecuteUserDefinedFunctionError(QueryExecutionErrors.scala:198)\n\tat org.apache.spark.sql.errors.QueryExecutionErrors.failedExecuteUserDefinedFunctionError(QueryExecutionErrors.scala)\n\tat org.apache.spark.sql.catalyst.expressions.GeneratedClass$GeneratedIteratorForCodegenStage1.processNext(Unknown Source)\n\tat org.apache.spark.sql.execution.BufferedRowIterator.hasNext(BufferedRowIterator.java:43)\n\tat org.apache.spark.sql.execution.WholeStageCodegenEvaluatorFactory$WholeStageCodegenPartitionEvaluator$$anon$1.hasNext(WholeStageCodegenEvaluatorFactory.scala:43)\n\tat org.apache.spark.sql.execution.SparkPlan.$anonfun$getByteArrayRdd$1(SparkPlan.scala:388)\n\tat org.apache.spark.rdd.RDD.$anonfun$mapPartitionsInternal$2(RDD.scala:893)\n\tat org.apache.spark.rdd.RDD.$anonfun$mapPartitionsInternal$2$adapted(RDD.scala:893)\n\tat org.apache.spark.rdd.MapPartitionsRDD.compute(MapPartitionsRDD.scala:52)\n\tat org.apache.spark.rdd.RDD.computeOrReadCheckpoint(RDD.scala:367)\n\tat org.apache.spark.rdd.RDD.iterator(RDD.scala:331)\n\tat org.apache.spark.scheduler.ResultTask.runTask(ResultTask.scala:93)\n\tat org.apache.spark.TaskContext.runTaskWithListeners(TaskContext.scala:166)\n\tat org.apache.spark.scheduler.Task.run(Task.scala:141)\n\tat org.apache.spark.executor.Executor$TaskRunner.$anonfun$run$4(Executor.scala:620)\n\tat org.apache.spark.util.SparkErrorUtils.tryWithSafeFinally(SparkErrorUtils.scala:64)\n\tat org.apache.spark.util.SparkErrorUtils.tryWithSafeFinally$(SparkErrorUtils.scala:61)\n\tat org.apache.spark.util.Utils$.tryWithSafeFinally(Utils.scala:94)\n\tat org.apache.spark.executor.Executor$TaskRunner.run(Executor.scala:623)\n\tat java.util.concurrent.ThreadPoolExecutor.runWorker(ThreadPoolExecutor.java:1149)\n\tat java.util.concurrent.ThreadPoolExecutor$Worker.run(ThreadPoolExecutor.java:624)\n\t... 1 more\nCaused by: java.lang.IllegalArgumentException: requirement failed: BLAS.dot(x: Vector, y:Vector) was given Vectors with non-matching sizes: x.size = 136, y.size = 201\n\tat scala.Predef$.require(Predef.scala:281)\n\tat org.apache.spark.ml.linalg.BLAS$.dot(BLAS.scala:123)\n\tat org.apache.spark.ml.regression.LinearRegressionModel.predict(LinearRegression.scala:746)\n\tat org.apache.spark.ml.regression.LinearRegressionModel.predict(LinearRegression.scala:696)\n\tat org.apache.spark.ml.PredictionModel.$anonfun$transformImpl$1(Predictor.scala:204)\n\tat org.apache.spark.ml.PredictionModel.$anonfun$transformImpl$1$adapted(Predictor.scala:203)\n\t... 20 more\n"
     ]
    }
   ],
   "source": [
    "# Transform the test data and convert to Pandas DataFrame for visualization\n",
    "# Combine actual 'cost' and predicted values into a single DataFrame directly\n",
    "comparison_df = lr_model.transform(test_data).select('cost', 'prediction').toPandas()\n",
    "\n",
    "# Scatter plot to check linearity between actual cost and predicted values\n",
    "plt.figure(figsize=(10, 6))  # Set a better figure size\n",
    "sns.regplot(x='cost', y='prediction', data=comparison_df, scatter_kws={\"alpha\": 0.5}, line_kws={\"color\": \"red\"})\n",
    "\n",
    "# Adding labels and title\n",
    "plt.xlabel('Actual Cost', fontsize=12)\n",
    "plt.ylabel('Predicted Cost', fontsize=12)\n",
    "plt.title('Actual vs Predicted Cost: Linearity Check', fontsize=14)\n",
    "plt.grid(True, linestyle='--', alpha=0.6)  # Adding grid for better readability\n",
    "\n",
    "plt.show()"
   ]
  },
  {
   "cell_type": "markdown",
   "metadata": {},
   "source": [
    "### Analysis of Actual vs Predicted Cost: Linearity Check\n",
    "\n",
    "This scatter plot shows the relationship between actual cost (x-axis) and predicted cost (y-axis). The red line representing the line of best fit has been added to help assess the linearity between these two variables.\n",
    "\n",
    "### Observations:\n",
    "1. **General Trend**: The points generally follow a positive trend, meaning as the actual cost increases, the predicted cost tends to increase as well. This suggests that the model is somewhat successful in predicting the cost, but there are a few areas where the fit is less accurate.\n",
    "   \n",
    "2. **Deviation from Linearity**: \n",
    "    - There is some noticeable deviation from the line of best fit. For lower actual cost values (below 400), the spread of predicted cost is quite wide, suggesting that the model has more prediction uncertainty in this range.\n",
    "    - For higher actual cost values (above 600), although the general trend remains upward, there seems to be a cluster of points with larger spread, which suggests heteroscedasticity (increasing variance in residuals).\n",
    "\n",
    "3. **Underestimation and Overestimation**:\n",
    "    - For actual costs lower than 300, the model tends to overestimate the predicted costs, as many points lie above the red line.\n",
    "    - For actual costs greater than 700, the model tends to underestimate, as points are often below the line.\n",
    "  \n",
    "4. **Potential Non-linearity**: \n",
    "    - The increasing spread of points for higher actual costs indicates the possibility of a non-linear relationship, which the linear model may not be capturing well.\n",
    "    - The presence of some outliers, especially in the lower and upper actual cost ranges, could be affecting the model’s performance."
   ]
  },
  {
   "cell_type": "code",
   "execution_count": 54,
   "metadata": {},
   "outputs": [
    {
     "name": "stderr",
     "output_type": "stream",
     "text": [
      "                                                                                \r"
     ]
    },
    {
     "data": {
      "image/png": "[encoded data removed]",
      "text/plain": [
       "<Figure size 800x600 with 1 Axes>"
      ]
     },
     "metadata": {},
     "output_type": "display_data"
    }
   ],
   "source": [
    "# Get actual and predicted costs\n",
    "actual_cost = test_data.select('cost').toPandas()\n",
    "predictions = lr_model.transform(test_data).select('prediction').toPandas()\n",
    "\n",
    "# Calculate residuals\n",
    "residuals = actual_cost['cost'] - predictions['prediction']\n",
    "\n",
    "# Create a QQ plot\n",
    "plt.figure(figsize=(8, 6))\n",
    "stats.probplot(residuals, dist=\"norm\", plot=plt)\n",
    "plt.title('QQ Plot of Residuals')\n",
    "plt.xlabel('Theoretical Quantiles')\n",
    "plt.ylabel('Sample Quantiles')  \n",
    "plt.grid()\n",
    "plt.show()"
   ]
  },
  {
   "cell_type": "markdown",
   "metadata": {},
   "source": [
    "### Analysis of QQ Plot of Residuals\n",
    "\n",
    "This QQ plot compares the sample quantiles of the residuals (y-axis) with the theoretical quantiles from a normal distribution (x-axis).\n",
    "\n",
    "### Observations:\n",
    "1. **Linearity**: \n",
    "    - Most points lie close to the red line, indicating that the residuals approximately follow a normal distribution.\n",
    "   \n",
    "2. **Deviations in Tails**:\n",
    "    - At both extremes (left tail < -2 and right tail > 2), there are notable deviations from the red line. This suggests that the residuals exhibit **heavy tails**, implying potential outliers or non-normality in the residual distribution.\n",
    "  \n",
    "3. **Potential Outliers**:\n",
    "    - The points at the extreme ends suggest that there might be a few outliers that could affect the model's assumptions of normality."
   ]
  },
  {
   "cell_type": "code",
   "execution_count": 108,
   "metadata": {},
   "outputs": [
    {
     "data": {
      "image/png": "[encoded data removed]",
      "text/plain": [
       "<Figure size 800x600 with 1 Axes>"
      ]
     },
     "metadata": {},
     "output_type": "display_data"
    }
   ],
   "source": [
    "### Residuals vs Fitted Values Plot\n",
    "predictions = bw_model.transform(test_data).select('prediction').toPandas()\n",
    "\n",
    "# Calculate residuals (actual - predicted)\n",
    "residuals = actual_cost['cost'] - predictions['prediction']\n",
    "\n",
    "# Plot residuals vs fitted values\n",
    "plt.figure(figsize=(8, 6))\n",
    "plt.scatter(predictions['prediction'], residuals, alpha=0.5)\n",
    "plt.axhline(y=0, color='red', linestyle='--')  # Reference line at y=0\n",
    "plt.title('Residuals vs Fitted Values')\n",
    "plt.xlabel('Fitted Values (Predictions)')\n",
    "plt.ylabel('Residuals')\n",
    "plt.grid()\n",
    "plt.show()"
   ]
  },
  {
   "cell_type": "markdown",
   "metadata": {},
   "source": [
    "### Analysis of Residuals vs Fitted Values\n",
    "\n",
    "This scatter plot displays the residuals (y-axis) versus the fitted (predicted) values (x-axis), with a red dashed horizontal line at zero.\n",
    "\n",
    "### Observations:\n",
    "1. **Centering Around Zero**:\n",
    "    - Most residuals are scattered around the red dashed line at zero, indicating that the model does not show significant bias in over- or under-predictions.\n",
    "\n",
    "2. **Homoscedasticity Check**:\n",
    "    - The spread of residuals appears roughly consistent across the range of fitted values, though some slight widening in variance can be observed for larger fitted values (>600). This suggests potential mild heteroscedasticity, but not severe enough to cause concern.\n",
    "\n",
    "3. **Random Distribution**:\n",
    "    - There is no clear pattern in the residuals, indicating that the model is not missing a key non-linear relationship. The residuals appear randomly scattered, supporting the assumption of independence in errors."
   ]
  },
  {
   "cell_type": "markdown",
   "metadata": {},
   "source": [
    "## TREE MODELS"
   ]
  },
  {
   "cell_type": "code",
   "execution_count": 109,
   "metadata": {},
   "outputs": [
    {
     "name": "stderr",
     "output_type": "stream",
     "text": [
      "                                                                                \r"
     ]
    }
   ],
   "source": [
    "# Create a VectorAssembler to combine feature columns into a single vector\n",
    "assembler = VectorAssembler(inputCols=feature_columns, outputCol='features')\n",
    "\n",
    "# Select the target variable (cost) and prepare the final DataFrame\n",
    "data = sdf.select('cost', *feature_columns)\n",
    "\n",
    "# Transform the features into a single vector column\n",
    "data = assembler.transform(data)\n",
    "\n",
    "# Create a MinMaxScaler instance\n",
    "scaler = SparkStandardScaler(inputCol='features', outputCol='scaled_features')\n",
    "\n",
    "# Fit the scaler to the data\n",
    "scaler_model = scaler.fit(data)\n",
    "\n",
    "# Transform the data using the fitted scaler\n",
    "data = scaler_model.transform(data)\n",
    "\n",
    "# Split the data into training and test sets\n",
    "train_data, test_data = data.randomSplit([0.8, 0.2], seed=1003)"
   ]
  },
  {
   "cell_type": "code",
   "execution_count": 110,
   "metadata": {},
   "outputs": [
    {
     "name": "stderr",
     "output_type": "stream",
     "text": [
      "24/10/17 22:30:17 WARN DAGScheduler: Broadcasting large task binary with size 1001.5 KiB\n",
      "24/10/17 22:30:17 WARN DAGScheduler: Broadcasting large task binary with size 1002.0 KiB\n",
      "24/10/17 22:30:17 WARN DAGScheduler: Broadcasting large task binary with size 1002.5 KiB\n",
      "24/10/17 22:30:18 WARN DAGScheduler: Broadcasting large task binary with size 1003.7 KiB\n",
      "24/10/17 22:30:18 WARN DAGScheduler: Broadcasting large task binary with size 1005.9 KiB\n",
      "                                                                                \r"
     ]
    },
    {
     "data": {
      "text/html": [
       "<div>\n",
       "<style scoped>\n",
       "    .dataframe tbody tr th:only-of-type {\n",
       "        vertical-align: middle;\n",
       "    }\n",
       "\n",
       "    .dataframe tbody tr th {\n",
       "        vertical-align: top;\n",
       "    }\n",
       "\n",
       "    .dataframe thead th {\n",
       "        text-align: right;\n",
       "    }\n",
       "</style>\n",
       "<table border=\"1\" class=\"dataframe\">\n",
       "  <thead>\n",
       "    <tr style=\"text-align: right;\">\n",
       "      <th></th>\n",
       "      <th>Number of Trees</th>\n",
       "      <th>RMSE (Test)</th>\n",
       "      <th>MAE (Test)</th>\n",
       "      <th>R^2 (Test)</th>\n",
       "    </tr>\n",
       "  </thead>\n",
       "  <tbody>\n",
       "    <tr>\n",
       "      <th>0</th>\n",
       "      <td>60</td>\n",
       "      <td>62.05</td>\n",
       "      <td>47.17</td>\n",
       "      <td>70.64</td>\n",
       "    </tr>\n",
       "    <tr>\n",
       "      <th>1</th>\n",
       "      <td>90</td>\n",
       "      <td>61.47</td>\n",
       "      <td>46.56</td>\n",
       "      <td>71.18</td>\n",
       "    </tr>\n",
       "    <tr>\n",
       "      <th>2</th>\n",
       "      <td>120</td>\n",
       "      <td>61.32</td>\n",
       "      <td>46.25</td>\n",
       "      <td>71.33</td>\n",
       "    </tr>\n",
       "  </tbody>\n",
       "</table>\n",
       "</div>"
      ],
      "text/plain": [
       "   Number of Trees  RMSE (Test)  MAE (Test)  R^2 (Test)\n",
       "0               60        62.05       47.17       70.64\n",
       "1               90        61.47       46.56       71.18\n",
       "2              120        61.32       46.25       71.33"
      ]
     },
     "execution_count": 110,
     "metadata": {},
     "output_type": "execute_result"
    }
   ],
   "source": [
    "# List of number of trees to evaluate\n",
    "tree_counts = [60, 90, 120]\n",
    "\n",
    "# Create an empty list to store the results\n",
    "results = []\n",
    "\n",
    "# Loop through each tree count, fit the model, and evaluate it\n",
    "for num_trees in tree_counts:\n",
    "    # Initialize the Gradient Boosting model with the current number of trees\n",
    "    gbt = GBTRegressor(featuresCol='scaled_features', labelCol='cost', maxIter=num_trees)\n",
    "\n",
    "    # Fit the model to the training data\n",
    "    gbt_model = gbt.fit(train_data)\n",
    "\n",
    "    # Evaluate the model on the test data\n",
    "    gbt_predictions = gbt_model.transform(test_data)\n",
    "\n",
    "    # Save the Gradient Boosting model\n",
    "    gbt_model.save(f\"../models/gbt_model_{num_trees}\")\n",
    "\n",
    "    # Create evaluators for RMSE, MAE, and R-squared\n",
    "    rmse_evaluator = RegressionEvaluator(labelCol=\"cost\", predictionCol=\"prediction\", metricName=\"rmse\")\n",
    "    mae_evaluator = RegressionEvaluator(labelCol=\"cost\", predictionCol=\"prediction\", metricName=\"mae\")\n",
    "    r2_evaluator = RegressionEvaluator(labelCol=\"cost\", predictionCol=\"prediction\", metricName=\"r2\")\n",
    "\n",
    "    # Evaluate the model on the test data\n",
    "    gbt_rmse = rmse_evaluator.evaluate(gbt_predictions)\n",
    "    gbt_mae = mae_evaluator.evaluate(gbt_predictions)\n",
    "    gbt_r2 = r2_evaluator.evaluate(gbt_predictions)\n",
    "\n",
    "    # Append the results for this model\n",
    "    results.append({\n",
    "        'Number of Trees': num_trees,\n",
    "        'RMSE (Test)': round(gbt_rmse, 2),\n",
    "        'MAE (Test)': round(gbt_mae, 2),\n",
    "        'R^2 (Test)': round(gbt_r2 * 100, 2)  # Convert to percentage\n",
    "    })\n",
    "\n",
    "# Convert the results list to a DataFrame for better visibility\n",
    "results_df = pd.DataFrame(results)\n",
    "\n",
    "# Display the DataFrame\n",
    "results_df"
   ]
  },
  {
   "cell_type": "markdown",
   "metadata": {},
   "source": [
    "### Analysis of Gradient Boosting Model with Varying Tree Counts\n",
    "\n",
    "#### Model Evaluation Metrics\n",
    "The Gradient Boosting model was evaluated with different numbers of trees to determine the optimal number of trees for the best performance.\n",
    "\n",
    "| Number of Trees | RMSE (Test) | MAE (Test) | R² (Test) |\n",
    "|-----------------|-------------|------------|-----------|\n",
    "| 60              | 62.05       | 47.17      | 70.64%    |\n",
    "| 90              | 61.47       | 46.56      | 71.18%    |\n",
    "| 120             | 61.32       | 46.25      | 71.33%    |\n",
    "\n",
    "#### Key Observations\n",
    "1. **Root Mean Squared Error (RMSE)**:\n",
    "    - The RMSE decreases slightly as the number of trees increases from 60 to 120.\n",
    "    - The lowest RMSE is observed with 120 trees, indicating the model's predictions are closest to the actual values with this configuration.\n",
    "\n",
    "2. **Mean Absolute Error (MAE)**:\n",
    "    - Similar to RMSE, the MAE decreases as the number of trees increases.\n",
    "    - The lowest MAE is also observed with 120 trees, suggesting that the average absolute difference between the predicted and actual values is minimized with this configuration.\n",
    "\n",
    "3. **R² (Coefficient of Determination)**:\n",
    "    - The R² value increases as the number of trees increases, indicating that the model explains more variance in the data with more trees.\n",
    "    - The highest R² value is observed with 120 trees, suggesting that this configuration captures the most variance in the test data.\n",
    "\n",
    "#### Recommendations\n",
    "- **Optimal Tree Count**: Based on the evaluation metrics, the model with 120 trees is recommended for the best performance.\n",
    "- **Further Tuning**: While 120 trees provide the best results among the tested configurations, further tuning of other hyperparameters (e.g., learning rate, max depth) could potentially yield even better performance.\n",
    "- **Cross-Validation**: To ensure the robustness of the model, consider performing cross-validation with different tree counts and hyperparameters to validate the findings."
   ]
  },
  {
   "cell_type": "code",
   "execution_count": 111,
   "metadata": {},
   "outputs": [
    {
     "data": {
      "text/html": [
       "<div>\n",
       "<style scoped>\n",
       "    .dataframe tbody tr th:only-of-type {\n",
       "        vertical-align: middle;\n",
       "    }\n",
       "\n",
       "    .dataframe tbody tr th {\n",
       "        vertical-align: top;\n",
       "    }\n",
       "\n",
       "    .dataframe thead th {\n",
       "        text-align: right;\n",
       "    }\n",
       "</style>\n",
       "<table border=\"1\" class=\"dataframe\">\n",
       "  <thead>\n",
       "    <tr style=\"text-align: right;\">\n",
       "      <th></th>\n",
       "      <th>feature</th>\n",
       "      <th>importance</th>\n",
       "    </tr>\n",
       "  </thead>\n",
       "  <tbody>\n",
       "    <tr>\n",
       "      <th>1</th>\n",
       "      <td>beds</td>\n",
       "      <td>0.156847</td>\n",
       "    </tr>\n",
       "    <tr>\n",
       "      <th>2</th>\n",
       "      <td>baths</td>\n",
       "      <td>0.044326</td>\n",
       "    </tr>\n",
       "    <tr>\n",
       "      <th>0</th>\n",
       "      <td>postal_code</td>\n",
       "      <td>0.034246</td>\n",
       "    </tr>\n",
       "    <tr>\n",
       "      <th>52</th>\n",
       "      <td>cbd_average_travel_distance_kms</td>\n",
       "      <td>0.033304</td>\n",
       "    </tr>\n",
       "    <tr>\n",
       "      <th>29</th>\n",
       "      <td>prop_type_index</td>\n",
       "      <td>0.032919</td>\n",
       "    </tr>\n",
       "    <tr>\n",
       "      <th>185</th>\n",
       "      <td>increase_2010_pop</td>\n",
       "      <td>0.027633</td>\n",
       "    </tr>\n",
       "    <tr>\n",
       "      <th>140</th>\n",
       "      <td>sep_2020</td>\n",
       "      <td>0.025671</td>\n",
       "    </tr>\n",
       "    <tr>\n",
       "      <th>152</th>\n",
       "      <td>median_inc</td>\n",
       "      <td>0.023730</td>\n",
       "    </tr>\n",
       "    <tr>\n",
       "      <th>35</th>\n",
       "      <td>schools_average_travel_time_mins</td>\n",
       "      <td>0.021538</td>\n",
       "    </tr>\n",
       "    <tr>\n",
       "      <th>53</th>\n",
       "      <td>cbd_time_distance_product</td>\n",
       "      <td>0.020926</td>\n",
       "    </tr>\n",
       "  </tbody>\n",
       "</table>\n",
       "</div>"
      ],
      "text/plain": [
       "                              feature  importance\n",
       "1                                beds    0.156847\n",
       "2                               baths    0.044326\n",
       "0                         postal_code    0.034246\n",
       "52    cbd_average_travel_distance_kms    0.033304\n",
       "29                    prop_type_index    0.032919\n",
       "185                 increase_2010_pop    0.027633\n",
       "140                          sep_2020    0.025671\n",
       "152                        median_inc    0.023730\n",
       "35   schools_average_travel_time_mins    0.021538\n",
       "53          cbd_time_distance_product    0.020926"
      ]
     },
     "execution_count": 111,
     "metadata": {},
     "output_type": "execute_result"
    }
   ],
   "source": [
    "# Get feature importances\n",
    "gbt_feature_importances = gbt_model.featureImportances\n",
    "\n",
    "# Create a DataFrame from the feature importances\n",
    "feature_importances_df = pd.DataFrame({\n",
    "    'feature': feature_columns,\n",
    "    'importance': gbt_feature_importances.toArray()\n",
    "})\n",
    "\n",
    "# Sort the DataFrame by the 'importance' column in decreasing order\n",
    "feature_importances_df = feature_importances_df.sort_values(by='importance', ascending=False)\n",
    "feature_importances_df.head(10)"
   ]
  },
  {
   "cell_type": "markdown",
   "metadata": {},
   "source": [
    "#### Key Observations\n",
    "1. **Beds**: The number of beds is the most important feature, with an importance score of 0.156847. This suggests that the number of beds in a property is a strong predictor of its cost.\n",
    "2. **Baths**: The number of baths is also a significant feature, with an importance score of 0.044326.\n",
    "3. **Postal Code**: The postal code has an importance score of 0.034246, indicating that the location of the property is an important factor in determining its cost.\n",
    "4. **Travel Distance to CBD**: Features related to the average travel distance to the central business district (CBD) and the time-distance product are important, with scores of 0.033304 and 0.020926, respectively.\n",
    "5. **Property Type**: The property type index has an importance score of 0.032919, suggesting that the type of property is a relevant factor.\n",
    "6. **Population Increase**: The increase in population in 2010 has an importance score of 0.027633, indicating its relevance in predicting property cost.\n",
    "7. **Monthly Data**: The feature `sep_2020` has an importance score of 0.025671, suggesting that there may be temporal effects influencing property values.\n",
    "8. **Median Income**: The median income has an importance score of 0.023730, indicating its impact on property cost.\n",
    "9. **School Travel Time**: The average travel time to schools has an importance score of 0.021538, suggesting its relevance in the model."
   ]
  },
  {
   "cell_type": "code",
   "execution_count": 112,
   "metadata": {},
   "outputs": [],
   "source": [
    "# from sklearn.preprocessing import StandardScaler\n",
    "\n",
    "# # Read the data from the Parquet file\n",
    "# sdf = spark.read.parquet(\"../data/curated/prop_cleaned2.parquet\")\n",
    "\n",
    "# # Convert Spark DataFrame to Pandas DataFrame\n",
    "# pandas_df = sdf.toPandas()\n",
    "\n",
    "# # Define feature columns and target variable\n",
    "# feature_columns = [col for col in pandas_df.columns if col not in ['name', 'property_url', 'cost', 'affordability_score', 'combined_score']]\n",
    "# X = pandas_df[feature_columns]\n",
    "# y = pandas_df['cost']\n",
    "\n",
    "# # Split the data into train and test sets\n",
    "# from sklearn.model_selection import train_test_split\n",
    "# X_train, X_test, y_train, y_test = train_test_split(X, y, test_size=0.2, random_state=42)\n",
    "\n",
    "# # Scale the features using StandardScaler\n",
    "# scaler = StandardScaler()\n",
    "# X_train_scaled = scaler.fit_transform(X_train)\n",
    "# X_test_scaled = scaler.transform(X_test)"
   ]
  },
  {
   "cell_type": "code",
   "execution_count": 113,
   "metadata": {},
   "outputs": [],
   "source": [
    "# import sys\n",
    "# sys.setrecursionlimit(10000)\n",
    "# from tensorflow import keras\n",
    "# from sklearn.metrics import mean_squared_error, mean_absolute_error, r2_score\n",
    "\n",
    "# # Define a simple Neural Network model using Keras\n",
    "# def create_neural_network(input_shape):\n",
    "#     model = keras.Sequential([\n",
    "#         keras.layers.Dense(64, activation='relu', input_shape=input_shape),\n",
    "#         keras.layers.Dense(64, activation='relu'),\n",
    "#         keras.layers.Dense(1)  # Output layer for regression\n",
    "#     ])\n",
    "    \n",
    "#     # Compile the model with appropriate loss and optimizer\n",
    "#     model.compile(optimizer='adam', loss='mse', metrics=['mae'])\n",
    "#     return model\n",
    "\n",
    "# # Create the neural network model\n",
    "# nn_model = create_neural_network((X_train_scaled.shape[1],))\n",
    "\n",
    "# # Train the model\n",
    "# history = nn_model.fit(X_train_scaled, y_train, epochs=120, batch_size=32, validation_split=0.5, verbose=1)\n",
    "\n",
    "# # Predict on test data\n",
    "# y_pred_nn = nn_model.predict(X_test_scaled).flatten()\n",
    "\n",
    "# # Calculate metrics\n",
    "# nn_rmse = mean_squared_error(y_test, y_pred_nn, squared=False)\n",
    "# nn_mae = mean_absolute_error(y_test, y_pred_nn)\n",
    "# nn_r2 = r2_score(y_test, y_pred_nn)\n",
    "\n",
    "# # Print evaluation metrics\n",
    "# print(f\"Neural Network RMSE: ${nn_rmse:.2f}\")\n",
    "# print(f\"Neural Network MAE: ${nn_mae:.2f}\")\n",
    "# print(f\"Neural Network R²: {nn_r2 * 100:.2f}%\")"
   ]
  },
  {
   "cell_type": "code",
   "execution_count": 114,
   "metadata": {},
   "outputs": [],
   "source": [
    "spark.stop()"
   ]
  },
  {
   "cell_type": "code",
   "execution_count": null,
   "metadata": {},
   "outputs": [],
   "source": []
  }
 ],
 "metadata": {
  "kernelspec": {
   "display_name": "Python 3",
   "language": "python",
   "name": "python3"
  },
  "language_info": {
   "codemirror_mode": {
    "name": "ipython",
    "version": 3
   },
   "file_extension": ".py",
   "mimetype": "text/x-python",
   "name": "python",
   "nbconvert_exporter": "python",
   "pygments_lexer": "ipython3",
   "version": "3.12.6"
  }
 },
 "nbformat": 4,
 "nbformat_minor": 2
}
