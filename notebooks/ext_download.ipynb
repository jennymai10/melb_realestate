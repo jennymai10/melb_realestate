{
 "cells": [
  {
   "cell_type": "markdown",
   "metadata": {},
   "source": [
    "# Download External Datasets\n",
    "Download external datasets into landing folder"
   ]
  },
  {
   "cell_type": "code",
   "execution_count": 1,
   "metadata": {},
   "outputs": [],
   "source": [
    "import os\n",
    "from urllib.request import urlretrieve\n",
    "import zipfile"
   ]
  },
  {
   "cell_type": "markdown",
   "metadata": {},
   "source": [
    "## ABS"
   ]
  },
  {
   "cell_type": "markdown",
   "metadata": {},
   "source": [
    "### GCCSA Boundary Shapefile"
   ]
  },
  {
   "cell_type": "code",
   "execution_count": 2,
   "metadata": {},
   "outputs": [],
   "source": [
    "url = \"https://www.abs.gov.au/statistics/standards/australian-statistical-geography-standard-asgs-edition-3/jul2021-jun2026/access-and-downloads/digital-boundary-files/GCCSA_2021_AUST_SHP_GDA2020.zip\"\n",
    "\n",
    "output_relative_dir = \"../data/landing/boundary/gccsa\"\n",
    "\n",
    "# Create a new sub-folder if one doesn't already exist\n",
    "if not os.path.exists(output_relative_dir):\n",
    "    os.makedirs(output_relative_dir)\n",
    "\n",
    "output = f\"{output_relative_dir}/gccsa_boundary.zip\"\n",
    "\n",
    "# Download file\n",
    "urlretrieve(url, output)\n",
    "\n",
    "# Unzip file\n",
    "with zipfile.ZipFile(output, \"r\") as zf:\n",
    "    zf.extractall(output_relative_dir)"
   ]
  },
  {
   "cell_type": "markdown",
   "metadata": {},
   "source": [
    "### SA2"
   ]
  },
  {
   "cell_type": "markdown",
   "metadata": {},
   "source": [
    "#### Boundary Shapefile"
   ]
  },
  {
   "cell_type": "code",
   "execution_count": 3,
   "metadata": {},
   "outputs": [],
   "source": [
    "url = \"https://www.abs.gov.au/statistics/standards/australian-statistical-geography-standard-asgs-edition-3/jul2021-jun2026/access-and-downloads/digital-boundary-files/SA2_2021_AUST_SHP_GDA2020.zip\"\n",
    "\n",
    "output_relative_dir = \"../data/landing/boundary/sa2\"\n",
    "\n",
    "# Create a new sub-folder if one doesn't already exist\n",
    "if not os.path.exists(output_relative_dir):\n",
    "    os.makedirs(output_relative_dir)\n",
    "\n",
    "output = f\"{output_relative_dir}/sa2_boundary.zip\"\n",
    "\n",
    "# Download file\n",
    "urlretrieve(url, output)\n",
    "\n",
    "# Unzip file\n",
    "with zipfile.ZipFile(output, \"r\") as zf:\n",
    "    zf.extractall(output_relative_dir)"
   ]
  },
  {
   "cell_type": "markdown",
   "metadata": {},
   "source": [
    "#### Income Data"
   ]
  },
  {
   "cell_type": "code",
   "execution_count": 4,
   "metadata": {},
   "outputs": [
    {
     "data": {
      "text/plain": [
       "('../data/landing/sa2_income.xlsx',\n",
       " <http.client.HTTPMessage at 0x7f6e2c1730a0>)"
      ]
     },
     "execution_count": 4,
     "metadata": {},
     "output_type": "execute_result"
    }
   ],
   "source": [
    "url = \"https://www.abs.gov.au/statistics/labour/earnings-and-working-conditions/personal-income-australia/2020-21-financial-year/Table%202%20-%20Total%20income%20distribution%20by%20geography%2C%202020-21.xlsx\"\n",
    "\n",
    "output_relative_dir = \"../data/landing\"\n",
    "\n",
    "# Create a new sub-folder if one doesn't already exist\n",
    "if not os.path.exists(output_relative_dir):\n",
    "    os.makedirs(output_relative_dir)\n",
    "\n",
    "output = f\"{output_relative_dir}/sa2_income.xlsx\"\n",
    "\n",
    "# Download file\n",
    "urlretrieve(url, output)"
   ]
  },
  {
   "cell_type": "markdown",
   "metadata": {},
   "source": [
    "#### Historial Population Data"
   ]
  },
  {
   "cell_type": "code",
   "execution_count": 5,
   "metadata": {},
   "outputs": [
    {
     "data": {
      "text/plain": [
       "('../data/landing/sa2_population_hist.xlsx',\n",
       " <http.client.HTTPMessage at 0x7f6e2c031ed0>)"
      ]
     },
     "execution_count": 5,
     "metadata": {},
     "output_type": "execute_result"
    }
   ],
   "source": [
    "url = \"https://www.abs.gov.au/statistics/people/population/regional-population/2022-23/32180DS0003_2001-23.xlsx\"\n",
    "\n",
    "output_relative_dir = \"../data/landing\"\n",
    "\n",
    "# Create a new sub-folder if one doesn't already exist\n",
    "if not os.path.exists(output_relative_dir):\n",
    "    os.makedirs(output_relative_dir)\n",
    "\n",
    "output = f\"{output_relative_dir}/sa2_population_hist.xlsx\"\n",
    "\n",
    "# Download file\n",
    "urlretrieve(url, output)"
   ]
  },
  {
   "cell_type": "markdown",
   "metadata": {},
   "source": [
    "### Postal Areas Boundary Shapefile"
   ]
  },
  {
   "cell_type": "code",
   "execution_count": 6,
   "metadata": {},
   "outputs": [],
   "source": [
    "url = \"https://www.abs.gov.au/statistics/standards/australian-statistical-geography-standard-asgs-edition-3/jul2021-jun2026/access-and-downloads/digital-boundary-files/POA_2021_AUST_GDA94_SHP.zip\"\n",
    "\n",
    "output_relative_dir = \"../data/landing/boundary/postcode\"\n",
    "\n",
    "# Create a new sub-folder if one doesn't already exist\n",
    "if not os.path.exists(output_relative_dir):\n",
    "    os.makedirs(output_relative_dir)\n",
    "\n",
    "output = f\"{output_relative_dir}/postcode_boundary.zip\"\n",
    "\n",
    "# Download file\n",
    "urlretrieve(url, output)\n",
    "\n",
    "# Unzip file\n",
    "with zipfile.ZipFile(output, \"r\") as zf:\n",
    "    zf.extractall(output_relative_dir)"
   ]
  },
  {
   "cell_type": "markdown",
   "metadata": {},
   "source": [
    "### Suburbs and Localities Boundary Shapefile"
   ]
  },
  {
   "cell_type": "code",
   "execution_count": 7,
   "metadata": {},
   "outputs": [],
   "source": [
    "url = \"https://www.abs.gov.au/statistics/standards/australian-statistical-geography-standard-asgs-edition-3/jul2021-jun2026/access-and-downloads/digital-boundary-files/SAL_2021_AUST_GDA2020_SHP.zip\"\n",
    "\n",
    "output_relative_dir = \"../data/landing/boundary/suburb\"\n",
    "\n",
    "# Create a new sub-folder if one doesn't already exist\n",
    "if not os.path.exists(output_relative_dir):\n",
    "    os.makedirs(output_relative_dir)\n",
    "\n",
    "output = f\"{output_relative_dir}/suburb_boundary.zip\"\n",
    "\n",
    "# Download file\n",
    "urlretrieve(url, output)\n",
    "\n",
    "# Unzip file\n",
    "with zipfile.ZipFile(output, \"r\") as zf:\n",
    "    zf.extractall(output_relative_dir)"
   ]
  },
  {
   "cell_type": "markdown",
   "metadata": {},
   "source": [
    "## DFFH Suburb Historical Rent Data"
   ]
  },
  {
   "cell_type": "code",
   "execution_count": 8,
   "metadata": {},
   "outputs": [
    {
     "data": {
      "text/plain": [
       "('../data/landing/suburb_rent_hist.xlsx',\n",
       " <http.client.HTTPMessage at 0x7f6e2c030fd0>)"
      ]
     },
     "execution_count": 8,
     "metadata": {},
     "output_type": "execute_result"
    }
   ],
   "source": [
    "url = \"https://www.dffh.vic.gov.au/moving-annual-rents-suburb-march-quarter-2023-excel\"\n",
    "\n",
    "output_relative_dir = \"../data/landing\"\n",
    "\n",
    "# Create a new sub-folder if one doesn't already exist\n",
    "if not os.path.exists(output_relative_dir):\n",
    "    os.makedirs(output_relative_dir)\n",
    "\n",
    "output = f\"{output_relative_dir}/suburb_rent_hist.xlsx\"\n",
    "\n",
    "# Download file\n",
    "urlretrieve(url, output)"
   ]
  }
 ],
 "metadata": {
  "kernelspec": {
   "display_name": "Python 3",
   "language": "python",
   "name": "python3"
  },
  "language_info": {
   "codemirror_mode": {
    "name": "ipython",
    "version": 3
   },
   "file_extension": ".py",
   "mimetype": "text/x-python",
   "name": "python",
   "nbconvert_exporter": "python",
   "pygments_lexer": "ipython3",
   "version": "3.10.12"
  }
 },
 "nbformat": 4,
 "nbformat_minor": 2
}
